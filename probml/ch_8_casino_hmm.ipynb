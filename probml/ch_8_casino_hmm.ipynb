{
 "cells": [
  {
   "cell_type": "code",
   "execution_count": 187,
   "metadata": {},
   "outputs": [
    {
     "name": "stdout",
     "output_type": "stream",
     "text": [
      "1.8.2+2e3bd02\n"
     ]
    }
   ],
   "source": [
    "import torch\n",
    "import pyro.distributions as dist\n",
    "import pyro\n",
    "from pyro.infer.mcmc import MCMC, NUTS\n",
    "from pyro.infer import Predictive, infer_discrete, TraceEnum_ELBO, config_enumerate, SVI\n",
    "from pyro.infer.autoguide import AutoNormal, AutoDelta\n",
    "from pyro.ops.indexing import Vindex\n",
    "import matplotlib.pyplot as plt\n",
    "import seaborn as sns\n",
    "import numpy as np\n",
    "import pandas as pd\n",
    "print(pyro.__version__)"
   ]
  },
  {
   "cell_type": "code",
   "execution_count": 177,
   "metadata": {},
   "outputs": [
    {
     "name": "stdout",
     "output_type": "stream",
     "text": [
      "A.shape: torch.Size([2, 2])\n",
      "B.shape: torch.Size([2, 6])\n"
     ]
    }
   ],
   "source": [
    "initial_probs = torch.tensor([0.5, 0.5])\n",
    "transition_matrix = torch.tensor([[0.95, 0.05], \n",
    "                               [0.10, 0.90]])\n",
    "emission_probs = torch.tensor([[1/6,  1/6,  1/6,  1/6,  1/6,  1/6], # fair die\n",
    "                            [1/10, 1/10, 1/10, 1/10, 1/10, 5/10]])  # loaded die\n",
    "\n",
    "print(f\"A.shape: {transition_matrix.shape}\")\n",
    "print(f\"B.shape: {emission_probs.shape}\")"
   ]
  },
  {
   "cell_type": "code",
   "execution_count": 178,
   "metadata": {},
   "outputs": [],
   "source": [
    "hmm = dist.DiscreteHMM(\n",
    "    initial_logits=torch.logit(initial_probs),\n",
    "    transition_logits=torch.logit(transition_matrix),\n",
    "    observation_dist=dist.Categorical(emission_probs),\n",
    "    duration=50\n",
    "    )\n",
    "\n",
    "emission = hmm.sample()"
   ]
  },
  {
   "cell_type": "code",
   "execution_count": 179,
   "metadata": {},
   "outputs": [],
   "source": [
    "@config_enumerate\n",
    "def model_1(xs):\n",
    "    # sample an inital latent state\n",
    "    z = pyro.sample('z_init', dist.Categorical(initial_probs))\n",
    "    states = []\n",
    "    for t, y in pyro.markov(enumerate(xs)):\n",
    "        z = pyro.sample(\n",
    "            f'z_{t}', \n",
    "            dist.Categorical(Vindex(transition_matrix)[..., z, :]),\n",
    "            )\n",
    "        states.append(z)\n",
    "        pyro.sample(\n",
    "            f\"y_{t}\", \n",
    "            dist.Categorical(Vindex(emission_probs)[..., z, :]),\n",
    "            obs=xs[t]\n",
    "            )\n",
    "\n",
    "    return states"
   ]
  },
  {
   "cell_type": "code",
   "execution_count": 193,
   "metadata": {},
   "outputs": [
    {
     "data": {
      "text/plain": [
       "81.92050170898438"
      ]
     },
     "execution_count": 193,
     "metadata": {},
     "output_type": "execute_result"
    }
   ],
   "source": [
    "hmm_guide = AutoDelta(\n",
    "    pyro.poutine.block(\n",
    "        model_1, \n",
    "        expose=\"z_init\",\n",
    "        hide_fn=lambda msg: msg[\"name\"].startswith(\"z_\"))\n",
    "    )\n",
    "\n",
    "elbo = TraceEnum_ELBO(max_plate_nesting=0)\n",
    "elbo.loss(model_1, hmm_guide, emission)"
   ]
  },
  {
   "cell_type": "code",
   "execution_count": 202,
   "metadata": {},
   "outputs": [],
   "source": [
    "latent_states = torch.Tensor(elbo.sample_posterior(model_1, hmm_guide, emission))"
   ]
  },
  {
   "cell_type": "code",
   "execution_count": 181,
   "metadata": {},
   "outputs": [],
   "source": [
    "# nuts_kernel = NUTS(model_1, jit_compile=True, ignore_jit_warnings=True)\n",
    "# mcmc = MCMC(nuts_kernel, num_samples=300, warmup_steps=100)\n",
    "# mcmc.run(emission)"
   ]
  },
  {
   "cell_type": "code",
   "execution_count": 182,
   "metadata": {},
   "outputs": [],
   "source": [
    "#pyro.render_model(model_1, (emission,), render_distributions=True)"
   ]
  },
  {
   "cell_type": "code",
   "execution_count": 183,
   "metadata": {},
   "outputs": [],
   "source": [
    "serve = infer_discrete(model_1, first_available_dim=-1, temperature=1)\n",
    "latent_states = torch.Tensor(serve(emission))"
   ]
  },
  {
   "cell_type": "code",
   "execution_count": 184,
   "metadata": {},
   "outputs": [],
   "source": [
    "one_hot = torch.nn.functional.one_hot(emission, 6).T"
   ]
  },
  {
   "cell_type": "code",
   "execution_count": 203,
   "metadata": {},
   "outputs": [
    {
     "data": {
      "image/png": "[encoded data removed]",
      "text/plain": [
       "<Figure size 1000x200 with 1 Axes>"
      ]
     },
     "metadata": {},
     "output_type": "display_data"
    }
   ],
   "source": [
    "plt.figure(figsize=(10, 2))\n",
    "plt.imshow(one_hot, aspect=\"auto\", interpolation=\"none\", cmap=\"Greys\")\n",
    "plt.imshow(\n",
    "    latent_states[None, :], extent=(0, 50, 6-.5, -.5), \n",
    "    interpolation=\"none\", aspect=\"auto\", cmap=\"Greys\", alpha=0.25\n",
    "    )\n",
    "plt.xlabel(\"time\")\n",
    "plt.ylabel(\"emission\")\n",
    "plt.yticks(np.arange(6), np.arange(6) + 1)\n",
    "plt.title(\"sampled sequence (white=fair, gray=loaded)\");"
   ]
  }
 ],
 "metadata": {
  "kernelspec": {
   "display_name": "probs",
   "language": "python",
   "name": "python3"
  },
  "language_info": {
   "codemirror_mode": {
    "name": "ipython",
    "version": 3
   },
   "file_extension": ".py",
   "mimetype": "text/x-python",
   "name": "python",
   "nbconvert_exporter": "python",
   "pygments_lexer": "ipython3",
   "version": "3.10.6"
  },
  "orig_nbformat": 4,
  "vscode": {
   "interpreter": {
    "hash": "3087d5226fcda7010d2896992ba2c6b5c8d69f7a13fb4a6c1af793e3f10c0a14"
   }
  }
 },
 "nbformat": 4,
 "nbformat_minor": 2
}
