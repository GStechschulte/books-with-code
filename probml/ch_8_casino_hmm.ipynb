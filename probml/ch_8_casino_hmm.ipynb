{
 "cells": [
  {
   "cell_type": "code",
   "execution_count": 1,
   "metadata": {},
   "outputs": [
    {
     "name": "stdout",
     "output_type": "stream",
     "text": [
      "1.8.2+2e3bd02\n"
     ]
    }
   ],
   "source": [
    "import torch\n",
    "import pyro.distributions as dist\n",
    "import pyro\n",
    "from pyro.infer.mcmc import MCMC, NUTS\n",
    "from pyro.infer import Predictive, infer_discrete, TraceEnum_ELBO, config_enumerate, SVI\n",
    "from pyro.infer.autoguide import AutoNormal, AutoDelta\n",
    "from pyro.ops.indexing import Vindex\n",
    "import matplotlib.pyplot as plt\n",
    "import seaborn as sns\n",
    "import numpy as np\n",
    "import pandas as pd\n",
    "print(pyro.__version__)"
   ]
  },
  {
   "cell_type": "code",
   "execution_count": 2,
   "metadata": {},
   "outputs": [
    {
     "name": "stdout",
     "output_type": "stream",
     "text": [
      "A.shape: torch.Size([2, 2])\n",
      "B.shape: torch.Size([2, 6])\n"
     ]
    }
   ],
   "source": [
    "initial_probs = torch.tensor([0.5, 0.5])\n",
    "transition_matrix = torch.tensor([[0.95, 0.05], \n",
    "                               [0.10, 0.90]])\n",
    "emission_probs = torch.tensor([[1/6,  1/6,  1/6,  1/6,  1/6,  1/6], # fair die\n",
    "                            [1/10, 1/10, 1/10, 1/10, 1/10, 5/10]])  # loaded die\n",
    "\n",
    "print(f\"A.shape: {transition_matrix.shape}\")\n",
    "print(f\"B.shape: {emission_probs.shape}\")"
   ]
  },
  {
   "cell_type": "code",
   "execution_count": 3,
   "metadata": {},
   "outputs": [],
   "source": [
    "hmm = dist.DiscreteHMM(\n",
    "    initial_logits=torch.logit(initial_probs),\n",
    "    transition_logits=torch.logit(transition_matrix),\n",
    "    observation_dist=dist.Categorical(emission_probs),\n",
    "    duration=100\n",
    "    )\n",
    "\n",
    "emission = hmm.sample()"
   ]
  },
  {
   "cell_type": "code",
   "execution_count": 4,
   "metadata": {},
   "outputs": [],
   "source": [
    "@config_enumerate\n",
    "def model_2(xs):\n",
    "    # sample an inital latent state\n",
    "    z = pyro.sample('z_init', dist.Categorical(initial_probs))\n",
    "    states = []\n",
    "    for t, y in pyro.markov(enumerate(xs)):\n",
    "        # we don't need to add {enumerate: ...} b/c the \n",
    "        # @config_enumerate decorator detects discrete dist.\n",
    "        z = pyro.sample(\n",
    "            f'z_{t}', \n",
    "            dist.Categorical(Vindex(transition_matrix)[..., z, :]),\n",
    "            )\n",
    "        states.append(z)\n",
    "        pyro.sample(\n",
    "            f\"obs_{t}\", \n",
    "            dist.Categorical(Vindex(emission_probs)[..., z, :]),\n",
    "            obs=y\n",
    "            )\n",
    "\n",
    "    return states"
   ]
  },
  {
   "cell_type": "code",
   "execution_count": 207,
   "metadata": {},
   "outputs": [],
   "source": [
    "def guide(xs):\n",
    "    pass"
   ]
  },
  {
   "cell_type": "code",
   "execution_count": null,
   "metadata": {},
   "outputs": [],
   "source": [
    "#we do not care about the global params. in this example (emission and transmission probs.)\n",
    "hmm_guide = AutoDelta(\n",
    "    pyro.poutine.block(\n",
    "        model_2,\n",
    "        #expose_fn=lambda msg: msg[\"name\"].startswith(\"z_\"))\n",
    "        # expose=\"z_init\",\n",
    "        hide_fn=lambda msg: msg[\"name\"].startswith(\"z_\")\n",
    "        )\n",
    "    )\n",
    "\n",
    "optimizer = pyro.optim.Adam({'lr': 0.03})\n",
    "elbo = TraceEnum_ELBO(max_plate_nesting=1)\n",
    "svi = SVI(model_2, hmm_guide, optimizer, loss=elbo)\n",
    "#elbo.loss(model_2, hmm_guide, emission)\n",
    "\n",
    "pyro.clear_param_store()\n",
    "\n",
    "losses = []\n",
    "for step in range(501):\n",
    "    loss = svi.step(emission)\n",
    "    losses.append(loss)\n",
    "\n",
    "# losses[:10]"
   ]
  },
  {
   "cell_type": "code",
   "execution_count": null,
   "metadata": {},
   "outputs": [],
   "source": [
    "# plt.figure(figsize=(7,3), dpi=100).set_facecolor('white')\n",
    "# plt.plot(losses)\n",
    "# plt.xlabel('iters')\n",
    "# plt.ylabel('loss')\n",
    "# plt.yscale('log')\n",
    "# plt.title('Convergence of SVI');"
   ]
  },
  {
   "cell_type": "code",
   "execution_count": 50,
   "metadata": {},
   "outputs": [],
   "source": [
    "#latent_states = torch.Tensor(elbo.sample_posterior(model_2, guide, emission))"
   ]
  },
  {
   "cell_type": "code",
   "execution_count": null,
   "metadata": {},
   "outputs": [],
   "source": [
    "post_samples = torch.Tensor(\n",
    "    [infer_discrete(model_2, first_available_dim=-1, temperature=1)(emission) for _ in range(100)]\n",
    "    )\n",
    "posterior_samples = {\"z\": post_samples}\n",
    "# post_pred = Predictive(model_2, posterior_samples)(emission)"
   ]
  },
  {
   "cell_type": "code",
   "execution_count": 92,
   "metadata": {},
   "outputs": [
    {
     "data": {
      "text/plain": [
       "torch.Size([100, 100])"
      ]
     },
     "execution_count": 92,
     "metadata": {},
     "output_type": "execute_result"
    }
   ],
   "source": [
    "posterior_samples['z'].shape"
   ]
  },
  {
   "cell_type": "code",
   "execution_count": 88,
   "metadata": {},
   "outputs": [],
   "source": [
    "cnt = 0\n",
    "samps = {}\n",
    "for batch in post_samples:\n",
    "    cnt += 1\n",
    "    for t, y in enumerate(batch):\n",
    "        if cnt == 1:\n",
    "            samps[t] = [y]\n",
    "        else:\n",
    "            samps[t].append(y)\n",
    "\n",
    "probs_loaded = []\n",
    "for key, val in samps.items():\n",
    "    probs_loaded.append(sum(val) / len(val))"
   ]
  },
  {
   "cell_type": "code",
   "execution_count": 96,
   "metadata": {},
   "outputs": [],
   "source": [
    "posterior_samples = torch.Tensor(\n",
    "    infer_discrete(model_2, first_available_dim=-1, temperature=1)(emission)\n",
    ")\n",
    "posterior_samples = {\"z\": posterior_samples}\n",
    "post_pred = Predictive(model=model_2, posterior_samples=posterior_samples)(emission)"
   ]
  },
  {
   "cell_type": "code",
   "execution_count": null,
   "metadata": {},
   "outputs": [],
   "source": [
    "# probs_loaded = []\n",
    "# for key, value in post_pred.items():\n",
    "#     if 'z_' in key:\n",
    "#         probs_loaded.append(sum(value) / len(value))"
   ]
  },
  {
   "cell_type": "code",
   "execution_count": 89,
   "metadata": {},
   "outputs": [
    {
     "data": {
      "image/png": "[encoded data removed]",
      "text/plain": [
       "<Figure size 1000x200 with 1 Axes>"
      ]
     },
     "metadata": {},
     "output_type": "display_data"
    }
   ],
   "source": [
    "plt.figure(figsize=(10, 2))\n",
    "plt.plot(\n",
    "    torch.arange(0, 100),\n",
    "    probs_loaded\n",
    "    )\n",
    "plt.ylabel('Probs.')\n",
    "plt.xlabel('time')\n",
    "plt.title('P(loaded die)');"
   ]
  },
  {
   "cell_type": "code",
   "execution_count": 97,
   "metadata": {},
   "outputs": [
    {
     "data": {
      "image/png": "[encoded data removed]",
      "text/plain": [
       "<Figure size 1000x200 with 1 Axes>"
      ]
     },
     "metadata": {},
     "output_type": "display_data"
    }
   ],
   "source": [
    "one_hot = torch.nn.functional.one_hot(emission, 6).T\n",
    "\n",
    "plt.figure(figsize=(10, 2))\n",
    "plt.imshow(one_hot, aspect=\"auto\", interpolation=\"none\", cmap=\"Greys\")\n",
    "plt.imshow(\n",
    "    posterior_samples['z'][None, :], extent=(0, 100, 6-.5, -.5), \n",
    "    interpolation=\"none\", aspect=\"auto\", cmap=\"Greys\", alpha=0.25\n",
    "    )\n",
    "plt.xlabel(\"time\")\n",
    "plt.ylabel(\"emission\")\n",
    "plt.yticks(np.arange(6), np.arange(6) + 1)\n",
    "plt.title(\"sampled sequence (white=fair, gray=loaded)\");"
   ]
  }
 ],
 "metadata": {
  "kernelspec": {
   "display_name": "probs",
   "language": "python",
   "name": "python3"
  },
  "language_info": {
   "codemirror_mode": {
    "name": "ipython",
    "version": 3
   },
   "file_extension": ".py",
   "mimetype": "text/x-python",
   "name": "python",
   "nbconvert_exporter": "python",
   "pygments_lexer": "ipython3",
   "version": "3.10.6"
  },
  "orig_nbformat": 4,
  "vscode": {
   "interpreter": {
    "hash": "3087d5226fcda7010d2896992ba2c6b5c8d69f7a13fb4a6c1af793e3f10c0a14"
   }
  }
 },
 "nbformat": 4,
 "nbformat_minor": 2
}
