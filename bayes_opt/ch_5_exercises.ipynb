{
 "cells": [
  {
   "cell_type": "code",
   "execution_count": 1,
   "metadata": {},
   "outputs": [
    {
     "name": "stderr",
     "output_type": "stream",
     "text": [
      "/Users/gabestechschulte/miniforge3/envs/bayesopt/lib/python3.11/site-packages/tqdm/auto.py:21: TqdmWarning: IProgress not found. Please update jupyter and ipywidgets. See https://ipywidgets.readthedocs.io/en/stable/user_install.html\n",
      "  from .autonotebook import tqdm as notebook_tqdm\n"
     ]
    }
   ],
   "source": [
    "from typing import NamedTuple\n",
    "\n",
    "import botorch\n",
    "import gpytorch\n",
    "import matplotlib.pyplot as plt\n",
    "import numpy as np\n",
    "import torch\n",
    "\n",
    "from utils.data_generation import forrester_fn, accuracy_fn, GPData\n",
    "from utils.training import fit_gp_model\n",
    "from utils.plots import (\n",
    "    visualize_gp_belief_and_policy, \n",
    "    visualize_progress_and_policy,\n",
    "    visualize_experiment\n",
    ")\n",
    "\n",
    "%load_ext autoreload\n",
    "%autoreload 2"
   ]
  },
  {
   "cell_type": "markdown",
   "metadata": {},
   "source": [
    "## Exercises"
   ]
  },
  {
   "cell_type": "markdown",
   "metadata": {},
   "source": [
    "### 5.4.1 - Setting an exploration schedule for UCB"
   ]
  },
  {
   "cell_type": "code",
   "execution_count": 2,
   "metadata": {},
   "outputs": [],
   "source": [
    "class GPModel(gpytorch.models.ExactGP, botorch.models.gpytorch.GPyTorchModel):\n",
    "    num_outputs = 1\n",
    "    \n",
    "    def __init__(self, train_x, train_y, likelihood):\n",
    "        super().__init__(train_x, train_y, likelihood)\n",
    "        self.mean_module = gpytorch.means.ConstantMean()\n",
    "        self.covar_module = gpytorch.kernels.ScaleKernel(\n",
    "            gpytorch.kernels.RBFKernel()\n",
    "        )\n",
    "\n",
    "    def forward(self, x):\n",
    "        mean_x = self.mean_module(x)\n",
    "        covar_x = self.covar_module(x)\n",
    "        return gpytorch.distributions.MultivariateNormal(mean_x, covar_x)"
   ]
  },
  {
   "cell_type": "code",
   "execution_count": 2,
   "metadata": {},
   "outputs": [],
   "source": [
    "bound = 5\n",
    "xs = torch.linspace(-bound, bound, bound * 100 + 1).unsqueeze(1)\n",
    "ys = forrester_fn(xs)\n",
    "\n",
    "train_x = torch.tensor([[1.], [2.]])\n",
    "train_y = forrester_fn(train_x)\n",
    "\n",
    "data = GPData(train_x, train_y, xs, ys)"
   ]
  },
  {
   "cell_type": "code",
   "execution_count": 7,
   "metadata": {},
   "outputs": [],
   "source": [
    "num_queries = 10\n",
    "start_beta = 1\n",
    "end_beta = 10\n",
    "multiplier = (end_beta / start_beta) ** (1 / (num_queries - 1))\n",
    "beta = start_beta"
   ]
  },
  {
   "cell_type": "code",
   "execution_count": null,
   "metadata": {},
   "outputs": [],
   "source": [
    "for i in range(num_queries):\n",
    "    print(f\"iteration: {i}\")\n",
    "    print(f\"incumbent: {train_x[train_y.argmax()]}, obj. func. value: {train_y.max():.4f}\")\n",
    "\n",
    "    data = GPData(train_x, train_y, xs, ys)\n",
    "\n",
    "    # run training loop to fit the GP\n",
    "    model, likelihood = fit_gp_model(GPModel, data)\n",
    "\n",
    "    # compute acquisition scores and get next point\n",
    "    policy = botorch.acquisition.analytic.UpperConfidenceBound(\n",
    "        model, beta=beta\n",
    "    )\n",
    "    next_x, acq_score = botorch.optim.optimize_acqf(\n",
    "        policy,\n",
    "        bounds=torch.tensor([[-bound * 1.0], [bound * 1.0]]),\n",
    "        q=1,\n",
    "        num_restarts=20,\n",
    "        raw_samples=50\n",
    "    )\n",
    "    \n",
    "    # visualization\n",
    "    visualize_gp_belief_and_policy(model, likelihood, data, policy, next_x)\n",
    "    \n",
    "    # evaluate obj. func. at next_x and update training data\n",
    "    next_y = forrester_fn(next_x)\n",
    "\n",
    "    train_x = torch.cat([train_x, next_x])\n",
    "    train_y = torch.cat([train_y, next_y])\n",
    "\n",
    "    # scales beta for next iteration\n",
    "    beta *= multiplier"
   ]
  },
  {
   "cell_type": "markdown",
   "metadata": {},
   "source": [
    "### 5.4.2 - BayesOpt for hyperparameter tuning"
   ]
  },
  {
   "cell_type": "code",
   "execution_count": 2,
   "metadata": {},
   "outputs": [],
   "source": [
    "class MaternGP(gpytorch.models.ExactGP, botorch.models.gpytorch.GPyTorchModel):\n",
    "    num_outputs = 1\n",
    "\n",
    "    def __init__(self, train_x, train_y, likelihood):\n",
    "        super(MaternGP, self).__init__(train_x, train_y, likelihood)\n",
    "        self.mean_module = gpytorch.means.ConstantMean()\n",
    "        self.covar_module = gpytorch.kernels.ScaleKernel(\n",
    "            gpytorch.kernels.MaternKernel(\n",
    "                nu=2.5,\n",
    "                ard_num_dims=2\n",
    "                )\n",
    "        )\n",
    "\n",
    "    def forward(self, x):\n",
    "        mean_x = self.mean_module(x)\n",
    "        covar_x = self.covar_module(x)\n",
    "        return gpytorch.distributions.MultivariateNormal(mean_x, covar_x)"
   ]
  },
  {
   "cell_type": "code",
   "execution_count": 3,
   "metadata": {},
   "outputs": [
    {
     "name": "stderr",
     "output_type": "stream",
     "text": [
      "/Users/gabestechschulte/miniforge3/envs/bayesopt/lib/python3.11/site-packages/torch/functional.py:504: UserWarning: torch.meshgrid: in an upcoming release, it will be required to pass the indexing argument. (Triggered internally at /Users/runner/work/_temp/anaconda/conda-bld/pytorch_1695391829313/work/aten/src/ATen/native/TensorShape.cpp:3527.)\n",
      "  return _VF.meshgrid(tensors, **kwargs)  # type: ignore[attr-defined]\n"
     ]
    }
   ],
   "source": [
    "# test data\n",
    "lb, ub = 0, 2\n",
    "num_queries = 20\n",
    "bounds = torch.tensor([[lb, lb], [ub, ub]], dtype=torch.float)\n",
    "\n",
    "xs = torch.linspace(lb, ub, 101)\n",
    "x1, x2 = torch.meshgrid(xs, xs)\n",
    "xs = torch.vstack([x1.flatten(), x2.flatten()]).transpose(-1, -2)\n",
    "ys = accuracy_fn(xs)\n",
    "\n",
    "train_x = torch.tensor([[1., 1.]])\n",
    "train_y = accuracy_fn(train_x)\n",
    "\n",
    "data = GPData(train_x, train_y, xs, ys)"
   ]
  },
  {
   "cell_type": "code",
   "execution_count": 4,
   "metadata": {},
   "outputs": [],
   "source": [
    "betas = [1, 3, 10]\n",
    "num_experiments = 3\n",
    "num_queries = 10\n",
    "incumbents = torch.zeros((num_experiments, num_queries, 2))"
   ]
  },
  {
   "cell_type": "code",
   "execution_count": 5,
   "metadata": {},
   "outputs": [
    {
     "name": "stdout",
     "output_type": "stream",
     "text": [
      "trial: 1\n"
     ]
    },
    {
     "name": "stderr",
     "output_type": "stream",
     "text": [
      "100%|██████████| 500/500 [00:00<00:00, 1252.37it/s]\n",
      "100%|██████████| 500/500 [00:00<00:00, 1103.20it/s]\n",
      "100%|██████████| 500/500 [00:00<00:00, 1137.06it/s]\n",
      "100%|██████████| 500/500 [00:00<00:00, 982.69it/s] \n",
      "100%|██████████| 500/500 [00:00<00:00, 1019.55it/s]\n",
      "100%|██████████| 500/500 [00:00<00:00, 964.55it/s]\n",
      "100%|██████████| 500/500 [00:00<00:00, 927.84it/s]\n",
      "/Users/gabestechschulte/miniforge3/envs/bayesopt/lib/python3.11/site-packages/botorch/optim/optimize.py:359: RuntimeWarning: Optimization failed in `gen_candidates_scipy` with the following warning(s):\n",
      "[OptimizationWarning('Optimization failed within `scipy.optimize.minimize` with status 2 and message ABNORMAL_TERMINATION_IN_LNSRCH.')]\n",
      "Trying again with a new set of initial conditions.\n",
      "  warnings.warn(first_warn_msg, RuntimeWarning)\n",
      "100%|██████████| 500/500 [00:00<00:00, 901.97it/s]\n",
      "100%|██████████| 500/500 [00:00<00:00, 879.56it/s]\n",
      "100%|██████████| 500/500 [00:00<00:00, 862.93it/s]\n"
     ]
    },
    {
     "name": "stdout",
     "output_type": "stream",
     "text": [
      "trial: 2\n"
     ]
    },
    {
     "name": "stderr",
     "output_type": "stream",
     "text": [
      "100%|██████████| 500/500 [00:00<00:00, 1370.24it/s]\n",
      "100%|██████████| 500/500 [00:00<00:00, 1152.08it/s]\n",
      "100%|██████████| 500/500 [00:00<00:00, 1163.62it/s]\n",
      "100%|██████████| 500/500 [00:00<00:00, 1123.97it/s]\n",
      "100%|██████████| 500/500 [00:00<00:00, 995.55it/s] \n",
      "100%|██████████| 500/500 [00:00<00:00, 959.15it/s]\n",
      "100%|██████████| 500/500 [00:00<00:00, 952.92it/s]\n",
      "100%|██████████| 500/500 [00:00<00:00, 935.95it/s]\n",
      "100%|██████████| 500/500 [00:00<00:00, 887.68it/s]\n",
      "100%|██████████| 500/500 [00:00<00:00, 872.20it/s]\n"
     ]
    },
    {
     "name": "stdout",
     "output_type": "stream",
     "text": [
      "trial: 3\n"
     ]
    },
    {
     "name": "stderr",
     "output_type": "stream",
     "text": [
      "100%|██████████| 500/500 [00:00<00:00, 1334.58it/s]\n",
      "100%|██████████| 500/500 [00:00<00:00, 1183.89it/s]\n",
      "100%|██████████| 500/500 [00:00<00:00, 1148.83it/s]\n",
      "100%|██████████| 500/500 [00:00<00:00, 1086.87it/s]\n",
      "100%|██████████| 500/500 [00:00<00:00, 1058.80it/s]\n",
      "100%|██████████| 500/500 [00:00<00:00, 995.32it/s]\n",
      "100%|██████████| 500/500 [00:00<00:00, 960.44it/s]\n",
      "100%|██████████| 500/500 [00:00<00:00, 956.27it/s]\n",
      "100%|██████████| 500/500 [00:00<00:00, 889.82it/s]\n",
      "100%|██████████| 500/500 [00:00<00:00, 817.02it/s]\n"
     ]
    }
   ],
   "source": [
    "for trial, beta in zip(range(num_experiments), betas):\n",
    "    print(f\"trial: {trial + 1}\")\n",
    "    torch.manual_seed(trial)\n",
    "\n",
    "    # generate a random number between 0 and 2\n",
    "    train_x = bounds[0] + (bounds[1] - bounds[0]) * torch.rand(1, 2)\n",
    "    train_y = accuracy_fn(train_x)\n",
    "\n",
    "    for i in range(num_queries):\n",
    "        incumbents[trial, i] = train_y.max()\n",
    "    \n",
    "        data = GPData(train_x, train_y, xs, ys)\n",
    "\n",
    "        # run training loop to fit the GP\n",
    "        model, likelihood = fit_gp_model(MaternGP, data)\n",
    "\n",
    "        # compute acquisition scores and get next point\n",
    "        policy = botorch.acquisition.analytic.UpperConfidenceBound(\n",
    "            model, beta=beta\n",
    "        )\n",
    "        next_x, acq_score = botorch.optim.optimize_acqf(\n",
    "            policy,\n",
    "            bounds=bounds,\n",
    "            q=1,\n",
    "            num_restarts=40,\n",
    "            raw_samples=100\n",
    "        )\n",
    "        \n",
    "        # visualization\n",
    "        # visualize_progress_and_policy(data, policy, next_x)\n",
    "        \n",
    "        # evaluate obj. func. at next_x and update training data\n",
    "        next_y = accuracy_fn(next_x)\n",
    "\n",
    "        train_x = torch.cat([train_x, next_x])\n",
    "        train_y = torch.cat([train_y, next_y])"
   ]
  },
  {
   "cell_type": "code",
   "execution_count": 22,
   "metadata": {},
   "outputs": [
    {
     "data": {
      "image/png": "[encoded data removed]",
      "text/plain": [
       "<Figure size 700x300 with 1 Axes>"
      ]
     },
     "metadata": {},
     "output_type": "display_data"
    }
   ],
   "source": [
    "plt.figure(figsize=(7, 3))\n",
    "for trial, beta in zip(range(num_experiments), betas):\n",
    "    scores = incumbents[trial][:, 0]\n",
    "    plt.plot(\n",
    "        np.arange(num_queries),\n",
    "        scores.numpy(),\n",
    "        label=f\"beta={beta}\",\n",
    "    )\n",
    "\n",
    "plt.legend()\n",
    "plt.grid(True)\n",
    "plt.xlabel(\"Number of queries\")\n",
    "plt.ylabel(\"Best accuracy\");"
   ]
  },
  {
   "cell_type": "code",
   "execution_count": null,
   "metadata": {},
   "outputs": [],
   "source": [
    "# TS\n",
    "\n",
    "for trial, beta in zip(range(num_experiments), betas):\n",
    "    print(f\"trial: {trial + 1}\")\n",
    "    torch.manual_seed(trial)\n",
    "\n",
    "    # generate a random number between 0 and 2\n",
    "    train_x = bounds[0] + (bounds[1] - bounds[0]) * torch.rand(1, 2)\n",
    "    train_y = accuracy_fn(train_x)\n",
    "\n",
    "    for i in range(num_queries):\n",
    "        incumbents[trial, i] = train_y.max()\n",
    "    \n",
    "        data = GPData(train_x, train_y, xs, ys)\n",
    "\n",
    "        # run training loop to fit the GP\n",
    "        model, likelihood = fit_gp_model(MaternGP, data)\n",
    "\n",
    "        # compute acquisition scores and get next point\n",
    "        policy = botorch.acquisition.analytic.UpperConfidenceBound(\n",
    "            model, beta=beta\n",
    "        )\n",
    "        next_x, acq_score = botorch.optim.optimize_acqf(\n",
    "            policy,\n",
    "            bounds=bounds,\n",
    "            q=1,\n",
    "            num_restarts=40,\n",
    "            raw_samples=100\n",
    "        )\n",
    "        \n",
    "        # visualization\n",
    "        # visualize_progress_and_policy(data, policy, next_x)\n",
    "        \n",
    "        # evaluate obj. func. at next_x and update training data\n",
    "        next_y = accuracy_fn(next_x)\n",
    "\n",
    "        train_x = torch.cat([train_x, next_x])\n",
    "        train_y = torch.cat([train_y, next_y])"
   ]
  }
 ],
 "metadata": {
  "kernelspec": {
   "display_name": "bayesopt",
   "language": "python",
   "name": "python3"
  },
  "language_info": {
   "codemirror_mode": {
    "name": "ipython",
    "version": 3
   },
   "file_extension": ".py",
   "mimetype": "text/x-python",
   "name": "python",
   "nbconvert_exporter": "python",
   "pygments_lexer": "ipython3",
   "version": "3.11.6"
  }
 },
 "nbformat": 4,
 "nbformat_minor": 2
}
