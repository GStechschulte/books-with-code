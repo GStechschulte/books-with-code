{
 "cells": [
  {
   "cell_type": "code",
   "execution_count": 2,
   "metadata": {},
   "outputs": [
    {
     "name": "stdout",
     "output_type": "stream",
     "text": [
      "The autoreload extension is already loaded. To reload it, use:\n",
      "  %reload_ext autoreload\n"
     ]
    }
   ],
   "source": [
    "import botorch\n",
    "import gpytorch\n",
    "import matplotlib.pyplot as plt\n",
    "import numpy as np\n",
    "import torch\n",
    "\n",
    "from utils.data_generation import forrester_fn, accuracy_fn, GPData\n",
    "from utils.training import fit_gp_model\n",
    "from utils.plots import (\n",
    "    visualize_gp_belief_and_policy, \n",
    "    visualize_progress_and_policy,\n",
    "    visualize_experiment\n",
    ")\n",
    "\n",
    "%load_ext autoreload\n",
    "%autoreload 2"
   ]
  },
  {
   "cell_type": "markdown",
   "metadata": {},
   "source": [
    "## Exercises"
   ]
  },
  {
   "cell_type": "markdown",
   "metadata": {},
   "source": [
    "### 5.4.1 - Setting an exploration schedule for UCB"
   ]
  },
  {
   "cell_type": "code",
   "execution_count": 3,
   "metadata": {},
   "outputs": [],
   "source": [
    "class GPModel(gpytorch.models.ExactGP, botorch.models.gpytorch.GPyTorchModel):\n",
    "    num_outputs = 1\n",
    "    \n",
    "    def __init__(self, train_x, train_y, likelihood):\n",
    "        super().__init__(train_x, train_y, likelihood)\n",
    "        self.mean_module = gpytorch.means.ConstantMean()\n",
    "        self.covar_module = gpytorch.kernels.ScaleKernel(\n",
    "            gpytorch.kernels.RBFKernel()\n",
    "        )\n",
    "\n",
    "    def forward(self, x):\n",
    "        mean_x = self.mean_module(x)\n",
    "        covar_x = self.covar_module(x)\n",
    "        return gpytorch.distributions.MultivariateNormal(mean_x, covar_x)"
   ]
  },
  {
   "cell_type": "code",
   "execution_count": 4,
   "metadata": {},
   "outputs": [],
   "source": [
    "bound = 5\n",
    "xs = torch.linspace(-bound, bound, bound * 100 + 1).unsqueeze(1)\n",
    "ys = forrester_fn(xs)\n",
    "\n",
    "train_x = torch.tensor([[1.], [2.]])\n",
    "train_y = forrester_fn(train_x)\n",
    "\n",
    "data = GPData(train_x, train_y, xs, ys)"
   ]
  },
  {
   "cell_type": "code",
   "execution_count": 5,
   "metadata": {},
   "outputs": [],
   "source": [
    "num_queries = 10\n",
    "start_beta = 1\n",
    "end_beta = 10\n",
    "multiplier = (end_beta / start_beta) ** (1 / (num_queries - 1))\n",
    "beta = start_beta"
   ]
  },
  {
   "cell_type": "code",
   "execution_count": null,
   "metadata": {},
   "outputs": [],
   "source": [
    "for i in range(num_queries):\n",
    "    print(f\"iteration: {i}\")\n",
    "    print(f\"incumbent: {train_x[train_y.argmax()]}, obj. func. value: {train_y.max():.4f}\")\n",
    "\n",
    "    data = GPData(train_x, train_y, xs, ys)\n",
    "\n",
    "    # run training loop to fit the GP\n",
    "    model, likelihood = fit_gp_model(GPModel, data)\n",
    "\n",
    "    # compute acquisition scores and get next point\n",
    "    policy = botorch.acquisition.analytic.UpperConfidenceBound(\n",
    "        model, beta=beta\n",
    "    )\n",
    "    next_x, acq_score = botorch.optim.optimize_acqf(\n",
    "        policy,\n",
    "        bounds=torch.tensor([[-bound * 1.0], [bound * 1.0]]),\n",
    "        q=1,\n",
    "        num_restarts=20,\n",
    "        raw_samples=50\n",
    "    )\n",
    "    \n",
    "    # visualization\n",
    "    visualize_gp_belief_and_policy(model, likelihood, data, policy, next_x)\n",
    "    \n",
    "    # evaluate obj. func. at next_x and update training data\n",
    "    next_y = forrester_fn(next_x)\n",
    "\n",
    "    train_x = torch.cat([train_x, next_x])\n",
    "    train_y = torch.cat([train_y, next_y])\n",
    "\n",
    "    # scales beta for next iteration\n",
    "    beta *= multiplier"
   ]
  },
  {
   "cell_type": "markdown",
   "metadata": {},
   "source": [
    "### 5.4.2 - BayesOpt for hyperparameter tuning"
   ]
  },
  {
   "cell_type": "code",
   "execution_count": 6,
   "metadata": {},
   "outputs": [],
   "source": [
    "class MaternGP(gpytorch.models.ExactGP, botorch.models.gpytorch.GPyTorchModel):\n",
    "    num_outputs = 1\n",
    "\n",
    "    def __init__(self, train_x, train_y, likelihood):\n",
    "        super(MaternGP, self).__init__(train_x, train_y, likelihood)\n",
    "        self.mean_module = gpytorch.means.ConstantMean()\n",
    "        self.covar_module = gpytorch.kernels.ScaleKernel(\n",
    "            gpytorch.kernels.MaternKernel(\n",
    "                nu=2.5,\n",
    "                ard_num_dims=2\n",
    "                )\n",
    "        )\n",
    "\n",
    "    def forward(self, x):\n",
    "        mean_x = self.mean_module(x)\n",
    "        covar_x = self.covar_module(x)\n",
    "        return gpytorch.distributions.MultivariateNormal(mean_x, covar_x)"
   ]
  },
  {
   "cell_type": "code",
   "execution_count": 7,
   "metadata": {},
   "outputs": [],
   "source": [
    "# test data\n",
    "lb, ub = 0, 2\n",
    "num_queries = 20\n",
    "bounds = torch.tensor([[lb, lb], [ub, ub]], dtype=torch.float)\n",
    "\n",
    "xs = torch.linspace(lb, ub, 101)\n",
    "x1, x2 = torch.meshgrid(xs, xs, indexing='ij')\n",
    "xs = torch.vstack([x1.flatten(), x2.flatten()]).transpose(-1, -2)\n",
    "ys = accuracy_fn(xs)\n",
    "\n",
    "train_x = torch.tensor([[1., 1.]])\n",
    "train_y = accuracy_fn(train_x)\n",
    "\n",
    "data = GPData(train_x, train_y, xs, ys)"
   ]
  },
  {
   "cell_type": "code",
   "execution_count": 8,
   "metadata": {},
   "outputs": [],
   "source": [
    "betas = [1, 3, 10]\n",
    "num_experiments = 3\n",
    "num_queries = 10\n",
    "incumbents = torch.zeros((num_experiments, num_queries, 2))"
   ]
  },
  {
   "cell_type": "code",
   "execution_count": 9,
   "metadata": {},
   "outputs": [
    {
     "name": "stdout",
     "output_type": "stream",
     "text": [
      "trial: 1\n"
     ]
    },
    {
     "name": "stderr",
     "output_type": "stream",
     "text": [
      "100%|██████████| 500/500 [00:00<00:00, 1042.90it/s]\n",
      "100%|██████████| 500/500 [00:00<00:00, 1003.47it/s]\n",
      "100%|██████████| 500/500 [00:00<00:00, 949.25it/s]\n",
      "100%|██████████| 500/500 [00:00<00:00, 972.26it/s]\n",
      "100%|██████████| 500/500 [00:00<00:00, 913.39it/s]\n",
      "100%|██████████| 500/500 [00:00<00:00, 860.68it/s]\n",
      "100%|██████████| 500/500 [00:00<00:00, 845.71it/s]\n",
      "/Users/gabestechschulte/miniforge3/envs/bayesopt/lib/python3.11/site-packages/botorch/optim/optimize.py:359: RuntimeWarning: Optimization failed in `gen_candidates_scipy` with the following warning(s):\n",
      "[OptimizationWarning('Optimization failed within `scipy.optimize.minimize` with status 2 and message ABNORMAL_TERMINATION_IN_LNSRCH.')]\n",
      "Trying again with a new set of initial conditions.\n",
      "  warnings.warn(first_warn_msg, RuntimeWarning)\n",
      "100%|██████████| 500/500 [00:00<00:00, 824.23it/s]\n",
      "100%|██████████| 500/500 [00:00<00:00, 764.99it/s]\n",
      "100%|██████████| 500/500 [00:00<00:00, 730.80it/s]\n"
     ]
    },
    {
     "name": "stdout",
     "output_type": "stream",
     "text": [
      "trial: 2\n"
     ]
    },
    {
     "name": "stderr",
     "output_type": "stream",
     "text": [
      "100%|██████████| 500/500 [00:00<00:00, 1134.60it/s]\n",
      "100%|██████████| 500/500 [00:00<00:00, 1006.27it/s]\n",
      "100%|██████████| 500/500 [00:00<00:00, 1001.24it/s]\n",
      "100%|██████████| 500/500 [00:00<00:00, 983.14it/s]\n",
      "100%|██████████| 500/500 [00:00<00:00, 912.63it/s]\n",
      "100%|██████████| 500/500 [00:00<00:00, 843.39it/s]\n",
      "100%|██████████| 500/500 [00:00<00:00, 823.36it/s]\n",
      "100%|██████████| 500/500 [00:00<00:00, 826.59it/s]\n",
      "100%|██████████| 500/500 [00:00<00:00, 765.06it/s]\n",
      "100%|██████████| 500/500 [00:00<00:00, 736.18it/s]\n"
     ]
    },
    {
     "name": "stdout",
     "output_type": "stream",
     "text": [
      "trial: 3\n"
     ]
    },
    {
     "name": "stderr",
     "output_type": "stream",
     "text": [
      "100%|██████████| 500/500 [00:00<00:00, 1137.87it/s]\n",
      "100%|██████████| 500/500 [00:00<00:00, 1006.60it/s]\n",
      "100%|██████████| 500/500 [00:00<00:00, 980.86it/s] \n",
      "100%|██████████| 500/500 [00:00<00:00, 944.32it/s]\n",
      "100%|██████████| 500/500 [00:00<00:00, 878.23it/s]\n",
      "100%|██████████| 500/500 [00:00<00:00, 856.49it/s]\n",
      "100%|██████████| 500/500 [00:00<00:00, 836.50it/s]\n",
      "100%|██████████| 500/500 [00:00<00:00, 790.03it/s]\n",
      "100%|██████████| 500/500 [00:00<00:00, 746.90it/s]\n",
      "100%|██████████| 500/500 [00:00<00:00, 693.01it/s]\n"
     ]
    }
   ],
   "source": [
    "for trial, beta in zip(range(num_experiments), betas):\n",
    "    print(f\"trial: {trial + 1}\")\n",
    "    torch.manual_seed(trial)\n",
    "\n",
    "    # generate a random number between 0 and 2\n",
    "    train_x = bounds[0] + (bounds[1] - bounds[0]) * torch.rand(1, 2)\n",
    "    train_y = accuracy_fn(train_x)\n",
    "\n",
    "    for i in range(num_queries):\n",
    "        incumbents[trial, i] = train_y.max()\n",
    "    \n",
    "        data = GPData(train_x, train_y, xs, ys)\n",
    "\n",
    "        # run training loop to fit the GP\n",
    "        model, likelihood = fit_gp_model(MaternGP, data)\n",
    "\n",
    "        # compute acquisition scores and get next point\n",
    "        policy = botorch.acquisition.analytic.UpperConfidenceBound(\n",
    "            model, beta=beta\n",
    "        )\n",
    "        next_x, acq_score = botorch.optim.optimize_acqf(\n",
    "            policy,\n",
    "            bounds=bounds,\n",
    "            q=1,\n",
    "            num_restarts=40,\n",
    "            raw_samples=100\n",
    "        )\n",
    "        \n",
    "        # visualization\n",
    "        # visualize_progress_and_policy(data, policy, next_x)\n",
    "        \n",
    "        # evaluate obj. func. at next_x and update training data\n",
    "        next_y = accuracy_fn(next_x)\n",
    "\n",
    "        train_x = torch.cat([train_x, next_x])\n",
    "        train_y = torch.cat([train_y, next_y])"
   ]
  },
  {
   "cell_type": "code",
   "execution_count": 22,
   "metadata": {},
   "outputs": [
    {
     "data": {
      "image/png": "[encoded data removed]",
      "text/plain": [
       "<Figure size 700x300 with 1 Axes>"
      ]
     },
     "metadata": {},
     "output_type": "display_data"
    }
   ],
   "source": [
    "plt.figure(figsize=(7, 3))\n",
    "for trial, beta in zip(range(num_experiments), betas):\n",
    "    scores = incumbents[trial][:, 0]\n",
    "    plt.plot(\n",
    "        np.arange(num_queries),\n",
    "        scores.numpy(),\n",
    "        label=f\"beta={beta}\",\n",
    "    )\n",
    "\n",
    "plt.legend()\n",
    "plt.grid(True)\n",
    "plt.xlabel(\"Number of queries\")\n",
    "plt.ylabel(\"Best accuracy\");"
   ]
  },
  {
   "cell_type": "code",
   "execution_count": 15,
   "metadata": {},
   "outputs": [],
   "source": [
    "dim = 2\n",
    "num_candidates = 2000"
   ]
  },
  {
   "cell_type": "code",
   "execution_count": 16,
   "metadata": {},
   "outputs": [
    {
     "name": "stdout",
     "output_type": "stream",
     "text": [
      "trial: 1\n"
     ]
    },
    {
     "name": "stderr",
     "output_type": "stream",
     "text": [
      "100%|██████████| 500/500 [00:00<00:00, 995.22it/s] \n",
      "/Users/gabestechschulte/miniforge3/envs/bayesopt/lib/python3.11/site-packages/linear_operator/utils/cholesky.py:40: NumericalWarning: A not p.d., added jitter of 1.0e-06 to the diagonal\n",
      "  warnings.warn(\n",
      "100%|██████████| 500/500 [00:00<00:00, 999.82it/s] \n",
      "100%|██████████| 500/500 [00:00<00:00, 978.75it/s]\n",
      "100%|██████████| 500/500 [00:00<00:00, 971.96it/s]\n",
      "100%|██████████| 500/500 [00:00<00:00, 910.91it/s]\n",
      "100%|██████████| 500/500 [00:00<00:00, 855.37it/s]\n",
      "100%|██████████| 500/500 [00:00<00:00, 842.36it/s]\n",
      "100%|██████████| 500/500 [00:00<00:00, 836.88it/s]\n",
      "100%|██████████| 500/500 [00:00<00:00, 767.25it/s]\n",
      "100%|██████████| 500/500 [00:00<00:00, 750.79it/s]\n"
     ]
    },
    {
     "name": "stdout",
     "output_type": "stream",
     "text": [
      "trial: 2\n"
     ]
    },
    {
     "name": "stderr",
     "output_type": "stream",
     "text": [
      "100%|██████████| 500/500 [00:00<00:00, 1151.38it/s]\n",
      "100%|██████████| 500/500 [00:00<00:00, 1031.80it/s]\n",
      "100%|██████████| 500/500 [00:00<00:00, 993.72it/s]\n",
      "100%|██████████| 500/500 [00:00<00:00, 953.57it/s]\n",
      "100%|██████████| 500/500 [00:00<00:00, 902.51it/s]\n",
      "100%|██████████| 500/500 [00:00<00:00, 882.81it/s]\n",
      "100%|██████████| 500/500 [00:00<00:00, 857.13it/s]\n",
      "100%|██████████| 500/500 [00:00<00:00, 833.48it/s]\n",
      "100%|██████████| 500/500 [00:00<00:00, 784.19it/s]\n",
      "100%|██████████| 500/500 [00:00<00:00, 753.51it/s]\n"
     ]
    },
    {
     "name": "stdout",
     "output_type": "stream",
     "text": [
      "trial: 3\n"
     ]
    },
    {
     "name": "stderr",
     "output_type": "stream",
     "text": [
      "100%|██████████| 500/500 [00:00<00:00, 1147.02it/s]\n",
      "100%|██████████| 500/500 [00:00<00:00, 1025.85it/s]\n",
      "100%|██████████| 500/500 [00:00<00:00, 1014.40it/s]\n",
      "100%|██████████| 500/500 [00:00<00:00, 993.27it/s] \n",
      "100%|██████████| 500/500 [00:00<00:00, 936.12it/s]\n",
      "100%|██████████| 500/500 [00:00<00:00, 864.75it/s]\n",
      "100%|██████████| 500/500 [00:00<00:00, 741.26it/s]\n",
      "100%|██████████| 500/500 [00:00<00:00, 816.83it/s]\n",
      "100%|██████████| 500/500 [00:00<00:00, 768.68it/s]\n",
      "100%|██████████| 500/500 [00:00<00:00, 738.06it/s]\n"
     ]
    }
   ],
   "source": [
    "# Thompson Sampling\n",
    "for trial in range(num_experiments):\n",
    "    print(f\"trial: {trial + 1}\")\n",
    "    torch.manual_seed(trial)\n",
    "\n",
    "    # generate a random number between 0 and 2\n",
    "    train_x = bounds[0] + (bounds[1] - bounds[0]) * torch.rand(1, 2)\n",
    "    train_y = accuracy_fn(train_x)\n",
    "\n",
    "    for i in range(num_queries):\n",
    "        incumbents[trial, i] = train_y.max()\n",
    "    \n",
    "        data = GPData(train_x, train_y, xs, ys)\n",
    "\n",
    "        # run training loop to fit the GP\n",
    "        model, likelihood = fit_gp_model(MaternGP, data)\n",
    "\n",
    "        TS = botorch.generation.MaxPosteriorSampling(model, replacement=False)\n",
    "\n",
    "        sobol = torch.quasirandom.SobolEngine(dim, scramble=True)\n",
    "        candidate_x = sobol.draw(num_candidates)\n",
    "\n",
    "        # Sobol generates samples that cover the unit cube. So we need to rescale them\n",
    "        # to the desired bounds\n",
    "        candidate_x = bounds[0] + (bounds[1] - bounds[0]) * candidate_x\n",
    "\n",
    "        next_x = TS(candidate_x, num_samples=1)\n",
    "        \n",
    "        # visualization\n",
    "        # visualize_gp_belief_and_policy(data, policy, next_x)\n",
    "        \n",
    "        # evaluate obj. func. at next_x and update training data\n",
    "        next_y = accuracy_fn(next_x)\n",
    "\n",
    "        train_x = torch.cat([train_x, next_x])\n",
    "        train_y = torch.cat([train_y, next_y])"
   ]
  },
  {
   "cell_type": "code",
   "execution_count": 27,
   "metadata": {},
   "outputs": [],
   "source": [
    "mu = incumbents.mean(axis=0)\n",
    "ci = 1.96 * incumbents.std(axis=0) / torch.sqrt(torch.tensor(num_experiments))"
   ]
  },
  {
   "cell_type": "code",
   "execution_count": 39,
   "metadata": {},
   "outputs": [
    {
     "data": {
      "image/png": "[encoded data removed]",
      "text/plain": [
       "<Figure size 700x300 with 1 Axes>"
      ]
     },
     "metadata": {},
     "output_type": "display_data"
    }
   ],
   "source": [
    "fig, ax = visualize_experiment(incumbents, num_queries, num_experiments)\n",
    "ax.set_ylabel(\"Best accuracy\")\n",
    "ax.set_xlabel(\"Number of queries\")\n",
    "ax.set_title(\"Thompson Sampling\");"
   ]
  }
 ],
 "metadata": {
  "kernelspec": {
   "display_name": "bayesopt",
   "language": "python",
   "name": "python3"
  },
  "language_info": {
   "codemirror_mode": {
    "name": "ipython",
    "version": 3
   },
   "file_extension": ".py",
   "mimetype": "text/x-python",
   "name": "python",
   "nbconvert_exporter": "python",
   "pygments_lexer": "ipython3",
   "version": "3.11.6"
  }
 },
 "nbformat": 4,
 "nbformat_minor": 2
}
