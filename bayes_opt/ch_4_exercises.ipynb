{
 "cells": [
  {
   "cell_type": "code",
   "execution_count": null,
   "metadata": {},
   "outputs": [],
   "source": [
    "from typing import NamedTuple\n",
    "\n",
    "import botorch\n",
    "import gpytorch\n",
    "import torch\n",
    "\n",
    "from utils.training import fit_gp_model\n",
    "from utils.plots import visualize_gp_belief_and_policy, visualize_progress_and_policy\n",
    "\n",
    "%load_ext autoreload\n",
    "%autoreload 2"
   ]
  },
  {
   "cell_type": "code",
   "execution_count": null,
   "metadata": {},
   "outputs": [],
   "source": [
    "class GPData(NamedTuple):\n",
    "    train_x: torch.Tensor\n",
    "    train_y: torch.Tensor\n",
    "    xs: torch.Tensor\n",
    "    ys: torch.Tensor"
   ]
  },
  {
   "cell_type": "code",
   "execution_count": null,
   "metadata": {},
   "outputs": [],
   "source": [
    "def forrester_1d(x):\n",
    "    y = -((x + 1) ** 2) * torch.sin(2 * x + 2) / 5 + 1\n",
    "    return y.squeeze(-1)"
   ]
  },
  {
   "cell_type": "code",
   "execution_count": null,
   "metadata": {},
   "outputs": [],
   "source": [
    "bound = 5\n",
    "xs = torch.linspace(-bound, bound, bound * 100 + 1).unsqueeze(1)\n",
    "ys = forrester_1d(xs)"
   ]
  },
  {
   "cell_type": "code",
   "execution_count": null,
   "metadata": {},
   "outputs": [],
   "source": [
    "class GPModel(gpytorch.models.ExactGP, botorch.models.gpytorch.GPyTorchModel):\n",
    "    num_outputs = 1\n",
    "    \n",
    "    def __init__(self, train_x, train_y, likelihood):\n",
    "        super().__init__(train_x, train_y, likelihood)\n",
    "        self.mean_module = gpytorch.means.ConstantMean()\n",
    "        self.covar_module = gpytorch.kernels.ScaleKernel(\n",
    "            gpytorch.kernels.RBFKernel()\n",
    "        )\n",
    "\n",
    "    def forward(self, x):\n",
    "        mean_x = self.mean_module(x)\n",
    "        covar_x = self.covar_module(x)\n",
    "        return gpytorch.distributions.MultivariateNormal(mean_x, covar_x)"
   ]
  },
  {
   "cell_type": "code",
   "execution_count": null,
   "metadata": {},
   "outputs": [],
   "source": [
    "train_x = torch.tensor([[1.], [2.]])\n",
    "train_y = forrester_1d(train_x)"
   ]
  },
  {
   "cell_type": "code",
   "execution_count": null,
   "metadata": {},
   "outputs": [],
   "source": [
    "data = GPData(train_x, train_y, xs, ys)"
   ]
  },
  {
   "cell_type": "code",
   "execution_count": null,
   "metadata": {},
   "outputs": [],
   "source": [
    "num_queries = 10\n",
    "for i in range(num_queries):\n",
    "    print(f\"iteration: {i}\")\n",
    "    print(f\"incumbent: {train_x[train_y.argmax()]}, obj. func. value: {train_y.max():.4f}\")\n",
    "\n",
    "    data = GPData(train_x, train_y, xs, ys)\n",
    "\n",
    "    # run training loop to fit the GP\n",
    "    model, likelihood = fit_gp_model(GPModel, data)\n",
    "\n",
    "    # compute acquisition scores and get next point\n",
    "    policy = botorch.acquisition.analytic.ProbabilityOfImprovement(\n",
    "        model, best_f=train_y.max()\n",
    "    )\n",
    "    next_x, acq_score = botorch.optim.optimize_acqf(\n",
    "        policy,\n",
    "        bounds=torch.tensor([[-bound * 1.0], [bound * 1.0]]),\n",
    "        q=1,\n",
    "        num_restarts=20,\n",
    "        raw_samples=50\n",
    "    )\n",
    "    \n",
    "    # visualization\n",
    "    visualize_gp_belief_and_policy(model, likelihood, data, policy, next_x)\n",
    "    \n",
    "    # evaluate obj. func. at next_x and update training data\n",
    "    next_y = forrester_1d(next_x)\n",
    "\n",
    "    train_x = torch.cat([train_x, next_x])\n",
    "    train_y = torch.cat([train_y, next_y])"
   ]
  },
  {
   "cell_type": "markdown",
   "metadata": {},
   "source": [
    "## Exercises"
   ]
  },
  {
   "cell_type": "markdown",
   "metadata": {},
   "source": [
    "### 4.4.1 - Encouraging exploration with PoI"
   ]
  },
  {
   "cell_type": "code",
   "execution_count": null,
   "metadata": {},
   "outputs": [],
   "source": [
    "num_queries = 10\n",
    "epsilon_pct = 0.1 \n",
    "for i in range(num_queries):\n",
    "    print(f\"iteration: {i}\")\n",
    "    print(f\"incumbent: {train_x[train_y.argmax()]}, obj. func. value: {train_y.max():.4f}\")\n",
    "\n",
    "    data = GPData(train_x, train_y, xs, ys)\n",
    "\n",
    "    # run training loop to fit the GP\n",
    "    model, likelihood = fit_gp_model(GPModel, data)\n",
    "\n",
    "    # compute acquisition scores and get next point\n",
    "    policy = botorch.acquisition.analytic.ProbabilityOfImprovement(\n",
    "        model, best_f=train_y.max() * (1 + epsilon_pct) # add epsilon % to the best observed value\n",
    "    )\n",
    "    next_x, acq_score = botorch.optim.optimize_acqf(\n",
    "        policy,\n",
    "        bounds=torch.tensor([[-bound * 1.0], [bound * 1.0]]),\n",
    "        q=1,\n",
    "        num_restarts=20,\n",
    "        raw_samples=50\n",
    "    )\n",
    "    \n",
    "    # visualization\n",
    "    visualize_gp_belief_and_policy(model, likelihood, data, policy, next_x)\n",
    "    \n",
    "    # evaluate obj. func. at next_x and update training data\n",
    "    next_y = forrester_1d(next_x)\n",
    "\n",
    "    train_x = torch.cat([train_x, next_x])\n",
    "    train_y = torch.cat([train_y, next_y])"
   ]
  },
  {
   "cell_type": "markdown",
   "metadata": {},
   "source": [
    "### 4.4.2 - BayesOpt for hyperparameter tuning"
   ]
  },
  {
   "cell_type": "code",
   "execution_count": null,
   "metadata": {},
   "outputs": [],
   "source": [
    "from utils.data_generation import accuracy_func"
   ]
  },
  {
   "cell_type": "code",
   "execution_count": null,
   "metadata": {},
   "outputs": [],
   "source": [
    "# test data\n",
    "lb, ub = 0, 2\n",
    "num_queries = 20\n",
    "bounds = torch.tensor([[lb, lb], [ub, ub]], dtype=torch.float)\n",
    "\n",
    "xs = torch.linspace(lb, ub, 101)\n",
    "x1, x2 = torch.meshgrid(xs, xs)\n",
    "xs = torch.vstack([x1.flatten(), x2.flatten()]).transpose(-1, -2)\n",
    "ys = accuracy_func(xs)"
   ]
  },
  {
   "cell_type": "code",
   "execution_count": null,
   "metadata": {},
   "outputs": [],
   "source": [
    "class MaternGP(gpytorch.models.ExactGP, botorch.models.gpytorch.GPyTorchModel):\n",
    "    num_outputs = 1\n",
    "\n",
    "    def __init__(self, train_x, train_y, likelihood):\n",
    "        super(MaternGP, self).__init__(train_x, train_y, likelihood)\n",
    "        self.mean_module = gpytorch.means.ConstantMean()\n",
    "        self.covar_module = gpytorch.kernels.ScaleKernel(\n",
    "            gpytorch.kernels.MaternKernel(\n",
    "                nu=2.5,\n",
    "                ard_num_dims=2\n",
    "                )\n",
    "        )\n",
    "\n",
    "    def forward(self, x):\n",
    "        mean_x = self.mean_module(x)\n",
    "        covar_x = self.covar_module(x)\n",
    "        return gpytorch.distributions.MultivariateNormal(mean_x, covar_x)"
   ]
  },
  {
   "cell_type": "code",
   "execution_count": null,
   "metadata": {},
   "outputs": [],
   "source": [
    "train_x = torch.tensor([[1., 1.]])\n",
    "train_y = accuracy_func(train_x)\n",
    "\n",
    "data = GPData(train_x, train_y, xs, ys)"
   ]
  },
  {
   "cell_type": "markdown",
   "metadata": {},
   "source": [
    "#### PoI"
   ]
  },
  {
   "cell_type": "code",
   "execution_count": null,
   "metadata": {},
   "outputs": [],
   "source": [
    "num_queries = 20\n",
    "epsilon_pct = 0.1 \n",
    "for i in range(num_queries):\n",
    "    print(f\"iteration: {i}\")\n",
    "    print(f\"incumbent: {train_x[train_y.argmax()]}, obj. func. value: {train_y.max():.4f}\")\n",
    "\n",
    "    data = GPData(train_x, train_y, xs, ys)\n",
    "\n",
    "    # run training loop to fit the GP\n",
    "    model, likelihood = fit_gp_model(MaternGP, data)\n",
    "\n",
    "    # compute acquisition scores and get next point\n",
    "    policy = botorch.acquisition.analytic.ProbabilityOfImprovement(\n",
    "        model, best_f=train_y.max() * (1 + epsilon_pct)\n",
    "    )\n",
    "    next_x, acq_score = botorch.optim.optimize_acqf(\n",
    "        policy,\n",
    "        bounds=bounds,\n",
    "        q=1,\n",
    "        num_restarts=40,\n",
    "        raw_samples=100\n",
    "    )\n",
    "    \n",
    "    # visualization\n",
    "    visualize_progress_and_policy(data, policy, next_x)\n",
    "    \n",
    "    # evaluate obj. func. at next_x and update training data\n",
    "    next_y = accuracy_func(next_x)\n",
    "\n",
    "    train_x = torch.cat([train_x, next_x])\n",
    "    train_y = torch.cat([train_y, next_y])"
   ]
  },
  {
   "cell_type": "markdown",
   "metadata": {},
   "source": [
    "#### EI"
   ]
  },
  {
   "cell_type": "code",
   "execution_count": null,
   "metadata": {},
   "outputs": [],
   "source": [
    "num_queries = 10\n",
    "for i in range(num_queries):\n",
    "    print(f\"iteration: {i}\")\n",
    "    print(f\"incumbent: {train_x[train_y.argmax()]}, obj. func. value: {train_y.max():.4f}\")\n",
    "\n",
    "    data = GPData(train_x, train_y, xs, ys)\n",
    "\n",
    "    # run training loop to fit the GP\n",
    "    model, likelihood = fit_gp_model(MaternGP, data)\n",
    "\n",
    "    # compute acquisition scores and get next point\n",
    "    policy = botorch.acquisition.analytic.ExpectedImprovement(\n",
    "        model, best_f=train_y.max()\n",
    "    )\n",
    "    next_x, acq_score = botorch.optim.optimize_acqf(\n",
    "        policy,\n",
    "        bounds=bounds,\n",
    "        q=1,\n",
    "        num_restarts=40,\n",
    "        raw_samples=100\n",
    "    )\n",
    "    \n",
    "    # visualization\n",
    "    visualize_progress_and_policy(data, policy, next_x)\n",
    "    \n",
    "    # evaluate obj. func. at next_x and update training data\n",
    "    next_y = accuracy_func(next_x)\n",
    "\n",
    "    train_x = torch.cat([train_x, next_x])\n",
    "    train_y = torch.cat([train_y, next_y])"
   ]
  },
  {
   "cell_type": "code",
   "execution_count": null,
   "metadata": {},
   "outputs": [],
   "source": [
    "num_experiments = 10\n",
    "num_queries = 10\n",
    "incumbents = torch.zeros((num_experiments, num_queries, 2))\n",
    "\n",
    "for trial in range(num_experiments):\n",
    "    print(f\"trial: {trial}\")\n",
    "    torch.manual_seed(trial)\n",
    "\n",
    "    # generate a random number between 0 and 2\n",
    "    train_x = bounds[0] + (bounds[1] - bounds[0]) * torch.rand(1, 2)\n",
    "    train_y = accuracy_func(train_x)\n",
    "\n",
    "    for i in range(num_queries):\n",
    "        incumbents[trial, i] = train_y.max()\n",
    "    \n",
    "        data = GPData(train_x, train_y, xs, ys)\n",
    "\n",
    "        # run training loop to fit the GP\n",
    "        model, likelihood = fit_gp_model(MaternGP, data)\n",
    "\n",
    "        # compute acquisition scores and get next point\n",
    "        policy = botorch.acquisition.analytic.ExpectedImprovement(\n",
    "            model, best_f=train_y.max()\n",
    "        )\n",
    "        next_x, acq_score = botorch.optim.optimize_acqf(\n",
    "            policy,\n",
    "            bounds=bounds,\n",
    "            q=1,\n",
    "            num_restarts=40,\n",
    "            raw_samples=100\n",
    "        )\n",
    "        \n",
    "        # visualization\n",
    "        # visualize_progress_and_policy(data, policy, next_x)\n",
    "        \n",
    "        # evaluate obj. func. at next_x and update training data\n",
    "        next_y = accuracy_func(next_x)\n",
    "\n",
    "        train_x = torch.cat([train_x, next_x])\n",
    "        train_y = torch.cat([train_y, next_y])"
   ]
  },
  {
   "cell_type": "code",
   "execution_count": 55,
   "metadata": {},
   "outputs": [],
   "source": [
    "import matplotlib.pyplot as plt\n",
    "\n",
    "def plot_experiments(res):\n",
    "\n",
    "    n_queries = res.shape[1]\n",
    "\n",
    "    def ci(y):\n",
    "        return 2 * y.std(axis=0) / torch.sqrt(torch.tensor(num_experiments))\n",
    "\n",
    "    # the first dimension is the experiment number so we take the mean over that\n",
    "    mean_incumbent = res.mean(axis=0)[:, 0]\n",
    "    ci_incumbent = ci(res)[:, 0]\n",
    "\n",
    "    plt.figure(figsize=(7, 3))\n",
    "    plt.plot(torch.arange(n_queries), mean_incumbent, label=\"Mean\")\n",
    "    plt.fill_between(\n",
    "        torch.arange(n_queries),\n",
    "        mean_incumbent - ci_incumbent,\n",
    "        mean_incumbent + ci_incumbent,\n",
    "        alpha=0.2,\n",
    "        label=\"CI\",\n",
    "    )\n",
    "    plt.xlabel(\"Number of queries made\")\n",
    "    plt.ylabel(\"SVM estimatd accuracy\")\n",
    "    plt.legend()\n",
    "    plt.grid(True)\n",
    "    plt.show();"
   ]
  },
  {
   "cell_type": "code",
   "execution_count": 56,
   "metadata": {},
   "outputs": [
    {
     "data": {
      "image/png": "[encoded data removed]",
      "text/plain": [
       "<Figure size 700x300 with 1 Axes>"
      ]
     },
     "metadata": {},
     "output_type": "display_data"
    }
   ],
   "source": [
    "plot_experiments(incumbents)"
   ]
  }
 ],
 "metadata": {
  "kernelspec": {
   "display_name": "bayesopt",
   "language": "python",
   "name": "python3"
  },
  "language_info": {
   "codemirror_mode": {
    "name": "ipython",
    "version": 3
   },
   "file_extension": ".py",
   "mimetype": "text/x-python",
   "name": "python",
   "nbconvert_exporter": "python",
   "pygments_lexer": "ipython3",
   "version": "3.11.6"
  }
 },
 "nbformat": 4,
 "nbformat_minor": 2
}
