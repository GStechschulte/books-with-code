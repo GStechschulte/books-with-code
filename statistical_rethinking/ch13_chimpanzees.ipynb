{
 "cells": [
  {
   "cell_type": "code",
   "execution_count": 138,
   "metadata": {},
   "outputs": [],
   "source": [
    "import bambi as bmb\n",
    "import pandas as pd\n",
    "import arviz as az\n",
    "import matplotlib.pyplot as plt\n",
    "import seaborn as sns\n",
    "import jax\n",
    "import numpy as np"
   ]
  },
  {
   "cell_type": "code",
   "execution_count": null,
   "metadata": {},
   "outputs": [],
   "source": [
    "chimps = pd.read_csv('./data/chimpanzees.csv', sep=';')\n",
    "chimps['treatment'] = 1 + chimps['prosoc_left'] + 2*chimps['condition']"
   ]
  },
  {
   "cell_type": "code",
   "execution_count": null,
   "metadata": {},
   "outputs": [],
   "source": [
    "chimps"
   ]
  },
  {
   "cell_type": "code",
   "execution_count": null,
   "metadata": {},
   "outputs": [],
   "source": [
    "chimps.isna().sum()"
   ]
  },
  {
   "cell_type": "code",
   "execution_count": 91,
   "metadata": {},
   "outputs": [
    {
     "name": "stderr",
     "output_type": "stream",
     "text": [
      "Modeling the probability that pulled_left==1\n"
     ]
    },
    {
     "name": "stdout",
     "output_type": "stream",
     "text": [
      "Compiling...\n",
      "Compilation time =  0:00:00.721701\n",
      "Sampling...\n",
      "Sampling time =  0:00:03.181723\n",
      "Transforming variables...\n",
      "Transformation time =  0:00:00.397722\n"
     ]
    }
   ],
   "source": [
    "model = bmb.Model(\n",
    "    \"pulled_left ~ 0 + (1|actor) + (1|treatment)\", \n",
    "    family='bernoulli',\n",
    "    data=chimps\n",
    "    )\n",
    "\n",
    "idata = model.fit(inference_method='nuts_blackjax')"
   ]
  },
  {
   "cell_type": "code",
   "execution_count": 92,
   "metadata": {},
   "outputs": [
    {
     "data": {
      "text/html": [
       "<div>\n",
       "<style scoped>\n",
       "    .dataframe tbody tr th:only-of-type {\n",
       "        vertical-align: middle;\n",
       "    }\n",
       "\n",
       "    .dataframe tbody tr th {\n",
       "        vertical-align: top;\n",
       "    }\n",
       "\n",
       "    .dataframe thead th {\n",
       "        text-align: right;\n",
       "    }\n",
       "</style>\n",
       "<table border=\"1\" class=\"dataframe\">\n",
       "  <thead>\n",
       "    <tr style=\"text-align: right;\">\n",
       "      <th></th>\n",
       "      <th>mean</th>\n",
       "      <th>sd</th>\n",
       "      <th>hdi_3%</th>\n",
       "      <th>hdi_97%</th>\n",
       "      <th>mcse_mean</th>\n",
       "      <th>mcse_sd</th>\n",
       "      <th>ess_bulk</th>\n",
       "      <th>ess_tail</th>\n",
       "      <th>r_hat</th>\n",
       "    </tr>\n",
       "  </thead>\n",
       "  <tbody>\n",
       "    <tr>\n",
       "      <th>1|actor_sigma</th>\n",
       "      <td>2.250</td>\n",
       "      <td>0.776</td>\n",
       "      <td>1.030</td>\n",
       "      <td>3.677</td>\n",
       "      <td>0.030</td>\n",
       "      <td>0.021</td>\n",
       "      <td>646.0</td>\n",
       "      <td>1306.0</td>\n",
       "      <td>1.01</td>\n",
       "    </tr>\n",
       "    <tr>\n",
       "      <th>1|treatment_sigma</th>\n",
       "      <td>0.684</td>\n",
       "      <td>0.432</td>\n",
       "      <td>0.070</td>\n",
       "      <td>1.493</td>\n",
       "      <td>0.015</td>\n",
       "      <td>0.011</td>\n",
       "      <td>806.0</td>\n",
       "      <td>1544.0</td>\n",
       "      <td>1.00</td>\n",
       "    </tr>\n",
       "    <tr>\n",
       "      <th>1|actor[1]</th>\n",
       "      <td>-0.487</td>\n",
       "      <td>0.390</td>\n",
       "      <td>-1.237</td>\n",
       "      <td>0.222</td>\n",
       "      <td>0.014</td>\n",
       "      <td>0.010</td>\n",
       "      <td>790.0</td>\n",
       "      <td>1404.0</td>\n",
       "      <td>1.01</td>\n",
       "    </tr>\n",
       "    <tr>\n",
       "      <th>1|actor[2]</th>\n",
       "      <td>4.649</td>\n",
       "      <td>1.364</td>\n",
       "      <td>2.450</td>\n",
       "      <td>7.261</td>\n",
       "      <td>0.035</td>\n",
       "      <td>0.025</td>\n",
       "      <td>1591.0</td>\n",
       "      <td>1927.0</td>\n",
       "      <td>1.00</td>\n",
       "    </tr>\n",
       "    <tr>\n",
       "      <th>1|actor[3]</th>\n",
       "      <td>-0.790</td>\n",
       "      <td>0.403</td>\n",
       "      <td>-1.525</td>\n",
       "      <td>-0.032</td>\n",
       "      <td>0.014</td>\n",
       "      <td>0.010</td>\n",
       "      <td>888.0</td>\n",
       "      <td>1277.0</td>\n",
       "      <td>1.01</td>\n",
       "    </tr>\n",
       "    <tr>\n",
       "      <th>1|actor[4]</th>\n",
       "      <td>-0.789</td>\n",
       "      <td>0.398</td>\n",
       "      <td>-1.543</td>\n",
       "      <td>-0.055</td>\n",
       "      <td>0.013</td>\n",
       "      <td>0.010</td>\n",
       "      <td>896.0</td>\n",
       "      <td>1283.0</td>\n",
       "      <td>1.01</td>\n",
       "    </tr>\n",
       "    <tr>\n",
       "      <th>1|actor[5]</th>\n",
       "      <td>-0.485</td>\n",
       "      <td>0.391</td>\n",
       "      <td>-1.221</td>\n",
       "      <td>0.267</td>\n",
       "      <td>0.013</td>\n",
       "      <td>0.009</td>\n",
       "      <td>918.0</td>\n",
       "      <td>1401.0</td>\n",
       "      <td>1.01</td>\n",
       "    </tr>\n",
       "    <tr>\n",
       "      <th>1|actor[6]</th>\n",
       "      <td>0.453</td>\n",
       "      <td>0.395</td>\n",
       "      <td>-0.331</td>\n",
       "      <td>1.140</td>\n",
       "      <td>0.014</td>\n",
       "      <td>0.010</td>\n",
       "      <td>814.0</td>\n",
       "      <td>1257.0</td>\n",
       "      <td>1.01</td>\n",
       "    </tr>\n",
       "    <tr>\n",
       "      <th>1|actor[7]</th>\n",
       "      <td>1.969</td>\n",
       "      <td>0.482</td>\n",
       "      <td>1.050</td>\n",
       "      <td>2.862</td>\n",
       "      <td>0.014</td>\n",
       "      <td>0.010</td>\n",
       "      <td>1131.0</td>\n",
       "      <td>1450.0</td>\n",
       "      <td>1.01</td>\n",
       "    </tr>\n",
       "    <tr>\n",
       "      <th>1|treatment[1]</th>\n",
       "      <td>-0.010</td>\n",
       "      <td>0.352</td>\n",
       "      <td>-0.631</td>\n",
       "      <td>0.683</td>\n",
       "      <td>0.013</td>\n",
       "      <td>0.009</td>\n",
       "      <td>738.0</td>\n",
       "      <td>1242.0</td>\n",
       "      <td>1.01</td>\n",
       "    </tr>\n",
       "    <tr>\n",
       "      <th>1|treatment[2]</th>\n",
       "      <td>0.505</td>\n",
       "      <td>0.375</td>\n",
       "      <td>-0.118</td>\n",
       "      <td>1.277</td>\n",
       "      <td>0.014</td>\n",
       "      <td>0.010</td>\n",
       "      <td>705.0</td>\n",
       "      <td>1113.0</td>\n",
       "      <td>1.01</td>\n",
       "    </tr>\n",
       "    <tr>\n",
       "      <th>1|treatment[3]</th>\n",
       "      <td>-0.351</td>\n",
       "      <td>0.348</td>\n",
       "      <td>-1.001</td>\n",
       "      <td>0.313</td>\n",
       "      <td>0.012</td>\n",
       "      <td>0.008</td>\n",
       "      <td>906.0</td>\n",
       "      <td>1292.0</td>\n",
       "      <td>1.01</td>\n",
       "    </tr>\n",
       "    <tr>\n",
       "      <th>1|treatment[4]</th>\n",
       "      <td>0.403</td>\n",
       "      <td>0.367</td>\n",
       "      <td>-0.244</td>\n",
       "      <td>1.131</td>\n",
       "      <td>0.014</td>\n",
       "      <td>0.010</td>\n",
       "      <td>712.0</td>\n",
       "      <td>1247.0</td>\n",
       "      <td>1.01</td>\n",
       "    </tr>\n",
       "  </tbody>\n",
       "</table>\n",
       "</div>"
      ],
      "text/plain": [
       "                    mean     sd  hdi_3%  hdi_97%  mcse_mean  mcse_sd  \\\n",
       "1|actor_sigma      2.250  0.776   1.030    3.677      0.030    0.021   \n",
       "1|treatment_sigma  0.684  0.432   0.070    1.493      0.015    0.011   \n",
       "1|actor[1]        -0.487  0.390  -1.237    0.222      0.014    0.010   \n",
       "1|actor[2]         4.649  1.364   2.450    7.261      0.035    0.025   \n",
       "1|actor[3]        -0.790  0.403  -1.525   -0.032      0.014    0.010   \n",
       "1|actor[4]        -0.789  0.398  -1.543   -0.055      0.013    0.010   \n",
       "1|actor[5]        -0.485  0.391  -1.221    0.267      0.013    0.009   \n",
       "1|actor[6]         0.453  0.395  -0.331    1.140      0.014    0.010   \n",
       "1|actor[7]         1.969  0.482   1.050    2.862      0.014    0.010   \n",
       "1|treatment[1]    -0.010  0.352  -0.631    0.683      0.013    0.009   \n",
       "1|treatment[2]     0.505  0.375  -0.118    1.277      0.014    0.010   \n",
       "1|treatment[3]    -0.351  0.348  -1.001    0.313      0.012    0.008   \n",
       "1|treatment[4]     0.403  0.367  -0.244    1.131      0.014    0.010   \n",
       "\n",
       "                   ess_bulk  ess_tail  r_hat  \n",
       "1|actor_sigma         646.0    1306.0   1.01  \n",
       "1|treatment_sigma     806.0    1544.0   1.00  \n",
       "1|actor[1]            790.0    1404.0   1.01  \n",
       "1|actor[2]           1591.0    1927.0   1.00  \n",
       "1|actor[3]            888.0    1277.0   1.01  \n",
       "1|actor[4]            896.0    1283.0   1.01  \n",
       "1|actor[5]            918.0    1401.0   1.01  \n",
       "1|actor[6]            814.0    1257.0   1.01  \n",
       "1|actor[7]           1131.0    1450.0   1.01  \n",
       "1|treatment[1]        738.0    1242.0   1.01  \n",
       "1|treatment[2]        705.0    1113.0   1.01  \n",
       "1|treatment[3]        906.0    1292.0   1.01  \n",
       "1|treatment[4]        712.0    1247.0   1.01  "
      ]
     },
     "execution_count": 92,
     "metadata": {},
     "output_type": "execute_result"
    }
   ],
   "source": [
    "az.summary(idata)"
   ]
  },
  {
   "cell_type": "code",
   "execution_count": 117,
   "metadata": {},
   "outputs": [
    {
     "data": {
      "text/plain": [
       "1"
      ]
     },
     "execution_count": 117,
     "metadata": {},
     "output_type": "execute_result"
    }
   ],
   "source": [
    "# number of divergences\n",
    "idata['sample_stats']['diverging'].to_numpy().sum()"
   ]
  },
  {
   "attachments": {},
   "cell_type": "markdown",
   "metadata": {},
   "source": [
    "### Prior Predictive"
   ]
  },
  {
   "cell_type": "code",
   "execution_count": 93,
   "metadata": {},
   "outputs": [
    {
     "name": "stderr",
     "output_type": "stream",
     "text": [
      "Sampling: [1|actor_offset, 1|actor_sigma, 1|treatment_offset, 1|treatment_sigma, pulled_left]\n"
     ]
    }
   ],
   "source": [
    "prior_pred = model.prior_predictive()"
   ]
  },
  {
   "cell_type": "code",
   "execution_count": 94,
   "metadata": {},
   "outputs": [],
   "source": [
    "prior_probs = prior_pred['prior_predictive']['pulled_left'].to_numpy()"
   ]
  },
  {
   "cell_type": "code",
   "execution_count": 95,
   "metadata": {},
   "outputs": [],
   "source": [
    "# get proportion of 1s to total in a...\n",
    "prior_prop = prior_probs[0].sum(axis=0) / prior_probs[0].sum(axis=0).shape"
   ]
  },
  {
   "cell_type": "code",
   "execution_count": null,
   "metadata": {},
   "outputs": [],
   "source": [
    "sns.kdeplot(prior_prop, clip=[0, 1])"
   ]
  },
  {
   "attachments": {},
   "cell_type": "markdown",
   "metadata": {},
   "source": [
    "### Posterior"
   ]
  },
  {
   "cell_type": "code",
   "execution_count": 126,
   "metadata": {},
   "outputs": [
    {
     "data": {
      "text/plain": [
       "(4, 1000, 7)"
      ]
     },
     "execution_count": 126,
     "metadata": {},
     "output_type": "execute_result"
    }
   ],
   "source": [
    "idata['posterior']['1|actor'].to_numpy().shape"
   ]
  },
  {
   "cell_type": "code",
   "execution_count": 142,
   "metadata": {},
   "outputs": [
    {
     "data": {
      "text/plain": [
       "(1000, 7)"
      ]
     },
     "execution_count": 142,
     "metadata": {},
     "output_type": "execute_result"
    }
   ],
   "source": [
    "p_left = np.array(jax.scipy.special.expit(idata['posterior']['1|actor'].to_numpy()[0]))\n",
    "p_left.shape"
   ]
  },
  {
   "cell_type": "code",
   "execution_count": 148,
   "metadata": {},
   "outputs": [
    {
     "data": {
      "image/png": "[encoded data removed]",
      "text/plain": [
       "<Figure size 432x338.4 with 1 Axes>"
      ]
     },
     "metadata": {
      "needs_background": "light"
     },
     "output_type": "display_data"
    }
   ],
   "source": [
    "az.plot_forest(p_left.T);"
   ]
  },
  {
   "cell_type": "code",
   "execution_count": 128,
   "metadata": {},
   "outputs": [
    {
     "data": {
      "text/plain": [
       "(1000, 7)"
      ]
     },
     "execution_count": 128,
     "metadata": {},
     "output_type": "execute_result"
    }
   ],
   "source": [
    "idata['posterior']['1|actor'].to_numpy()[0]"
   ]
  },
  {
   "attachments": {},
   "cell_type": "markdown",
   "metadata": {},
   "source": [
    "### Accessing back-end objects"
   ]
  },
  {
   "cell_type": "code",
   "execution_count": 156,
   "metadata": {},
   "outputs": [
    {
     "data": {
      "text/plain": [
       "(pymc.model.Model,\n",
       "      1|actor_sigma ~ N**+(0, 2.5)\n",
       "     1|actor_offset ~ N(0, 1)\n",
       "  1|treatment_sigma ~ N**+(0, 2.5)\n",
       " 1|treatment_offset ~ N(0, 1)\n",
       "            1|actor ~ Deterministic(f(1|actor_offset, 1|actor_sigma))\n",
       "        1|treatment ~ Deterministic(f(1|treatment_offset, 1|treatment_sigma))\n",
       "        pulled_left ~ Bern(f(1|treatment_offset, 1|treatment_sigma, 1|actor_offset, 1|actor_sigma)))"
      ]
     },
     "execution_count": 156,
     "metadata": {},
     "output_type": "execute_result"
    }
   ],
   "source": [
    "type(model.backend.model), model.backend.model"
   ]
  },
  {
   "attachments": {},
   "cell_type": "markdown",
   "metadata": {},
   "source": [
    "### Hierarchical Model"
   ]
  },
  {
   "cell_type": "code",
   "execution_count": 149,
   "metadata": {},
   "outputs": [
    {
     "data": {
      "text/html": [
       "<div>\n",
       "<style scoped>\n",
       "    .dataframe tbody tr th:only-of-type {\n",
       "        vertical-align: middle;\n",
       "    }\n",
       "\n",
       "    .dataframe tbody tr th {\n",
       "        vertical-align: top;\n",
       "    }\n",
       "\n",
       "    .dataframe thead th {\n",
       "        text-align: right;\n",
       "    }\n",
       "</style>\n",
       "<table border=\"1\" class=\"dataframe\">\n",
       "  <thead>\n",
       "    <tr style=\"text-align: right;\">\n",
       "      <th></th>\n",
       "      <th>actor</th>\n",
       "      <th>recipient</th>\n",
       "      <th>condition</th>\n",
       "      <th>block</th>\n",
       "      <th>trial</th>\n",
       "      <th>prosoc_left</th>\n",
       "      <th>chose_prosoc</th>\n",
       "      <th>pulled_left</th>\n",
       "      <th>treatment</th>\n",
       "    </tr>\n",
       "  </thead>\n",
       "  <tbody>\n",
       "    <tr>\n",
       "      <th>499</th>\n",
       "      <td>7</td>\n",
       "      <td>4.0</td>\n",
       "      <td>1</td>\n",
       "      <td>6</td>\n",
       "      <td>64</td>\n",
       "      <td>1</td>\n",
       "      <td>1</td>\n",
       "      <td>1</td>\n",
       "      <td>4</td>\n",
       "    </tr>\n",
       "    <tr>\n",
       "      <th>500</th>\n",
       "      <td>7</td>\n",
       "      <td>6.0</td>\n",
       "      <td>1</td>\n",
       "      <td>6</td>\n",
       "      <td>66</td>\n",
       "      <td>1</td>\n",
       "      <td>1</td>\n",
       "      <td>1</td>\n",
       "      <td>4</td>\n",
       "    </tr>\n",
       "    <tr>\n",
       "      <th>501</th>\n",
       "      <td>7</td>\n",
       "      <td>3.0</td>\n",
       "      <td>1</td>\n",
       "      <td>6</td>\n",
       "      <td>68</td>\n",
       "      <td>0</td>\n",
       "      <td>0</td>\n",
       "      <td>1</td>\n",
       "      <td>3</td>\n",
       "    </tr>\n",
       "    <tr>\n",
       "      <th>502</th>\n",
       "      <td>7</td>\n",
       "      <td>7.0</td>\n",
       "      <td>1</td>\n",
       "      <td>6</td>\n",
       "      <td>70</td>\n",
       "      <td>0</td>\n",
       "      <td>0</td>\n",
       "      <td>1</td>\n",
       "      <td>3</td>\n",
       "    </tr>\n",
       "    <tr>\n",
       "      <th>503</th>\n",
       "      <td>7</td>\n",
       "      <td>2.0</td>\n",
       "      <td>1</td>\n",
       "      <td>6</td>\n",
       "      <td>72</td>\n",
       "      <td>0</td>\n",
       "      <td>0</td>\n",
       "      <td>1</td>\n",
       "      <td>3</td>\n",
       "    </tr>\n",
       "  </tbody>\n",
       "</table>\n",
       "</div>"
      ],
      "text/plain": [
       "     actor  recipient  condition  block  trial  prosoc_left  chose_prosoc  \\\n",
       "499      7        4.0          1      6     64            1             1   \n",
       "500      7        6.0          1      6     66            1             1   \n",
       "501      7        3.0          1      6     68            0             0   \n",
       "502      7        7.0          1      6     70            0             0   \n",
       "503      7        2.0          1      6     72            0             0   \n",
       "\n",
       "     pulled_left  treatment  \n",
       "499            1          4  \n",
       "500            1          4  \n",
       "501            1          3  \n",
       "502            1          3  \n",
       "503            1          3  "
      ]
     },
     "execution_count": 149,
     "metadata": {},
     "output_type": "execute_result"
    }
   ],
   "source": [
    "chimps.tail()"
   ]
  },
  {
   "cell_type": "code",
   "execution_count": 150,
   "metadata": {},
   "outputs": [],
   "source": [
    "hier_model = bmb.Model(\n",
    "    \"pulled_left ~ 0 + (1|actor) + (1|block) + (1|treatment)\", \n",
    "    family='bernoulli',\n",
    "    data=chimps\n",
    "    )\n",
    "\n",
    "model.build()"
   ]
  },
  {
   "cell_type": "code",
   "execution_count": 153,
   "metadata": {},
   "outputs": [
    {
     "name": "stderr",
     "output_type": "stream",
     "text": [
      "Modeling the probability that pulled_left==1\n"
     ]
    },
    {
     "name": "stdout",
     "output_type": "stream",
     "text": [
      "Compiling...\n",
      "Compilation time =  0:00:02.008611\n",
      "Sampling...\n",
      "Sampling time =  0:00:03.845934\n",
      "Transforming variables...\n",
      "Transformation time =  0:00:00.641750\n"
     ]
    }
   ],
   "source": [
    "idata = hier_model.fit(inference_method='nuts_blackjax')"
   ]
  },
  {
   "cell_type": "code",
   "execution_count": 155,
   "metadata": {},
   "outputs": [
    {
     "data": {
      "text/plain": [
       "4"
      ]
     },
     "execution_count": 155,
     "metadata": {},
     "output_type": "execute_result"
    }
   ],
   "source": [
    "idata['sample_stats']['diverging'].to_numpy().sum()"
   ]
  },
  {
   "cell_type": "code",
   "execution_count": 154,
   "metadata": {},
   "outputs": [
    {
     "data": {
      "text/html": [
       "<div>\n",
       "<style scoped>\n",
       "    .dataframe tbody tr th:only-of-type {\n",
       "        vertical-align: middle;\n",
       "    }\n",
       "\n",
       "    .dataframe tbody tr th {\n",
       "        vertical-align: top;\n",
       "    }\n",
       "\n",
       "    .dataframe thead th {\n",
       "        text-align: right;\n",
       "    }\n",
       "</style>\n",
       "<table border=\"1\" class=\"dataframe\">\n",
       "  <thead>\n",
       "    <tr style=\"text-align: right;\">\n",
       "      <th></th>\n",
       "      <th>mean</th>\n",
       "      <th>sd</th>\n",
       "      <th>hdi_3%</th>\n",
       "      <th>hdi_97%</th>\n",
       "      <th>mcse_mean</th>\n",
       "      <th>mcse_sd</th>\n",
       "      <th>ess_bulk</th>\n",
       "      <th>ess_tail</th>\n",
       "      <th>r_hat</th>\n",
       "    </tr>\n",
       "  </thead>\n",
       "  <tbody>\n",
       "    <tr>\n",
       "      <th>1|actor_sigma</th>\n",
       "      <td>2.313</td>\n",
       "      <td>0.816</td>\n",
       "      <td>1.044</td>\n",
       "      <td>3.875</td>\n",
       "      <td>0.028</td>\n",
       "      <td>0.019</td>\n",
       "      <td>896.0</td>\n",
       "      <td>1840.0</td>\n",
       "      <td>1.0</td>\n",
       "    </tr>\n",
       "    <tr>\n",
       "      <th>1|block_sigma</th>\n",
       "      <td>0.242</td>\n",
       "      <td>0.210</td>\n",
       "      <td>0.000</td>\n",
       "      <td>0.600</td>\n",
       "      <td>0.006</td>\n",
       "      <td>0.005</td>\n",
       "      <td>1383.0</td>\n",
       "      <td>1988.0</td>\n",
       "      <td>1.0</td>\n",
       "    </tr>\n",
       "    <tr>\n",
       "      <th>1|treatment_sigma</th>\n",
       "      <td>0.698</td>\n",
       "      <td>0.450</td>\n",
       "      <td>0.125</td>\n",
       "      <td>1.560</td>\n",
       "      <td>0.014</td>\n",
       "      <td>0.010</td>\n",
       "      <td>1074.0</td>\n",
       "      <td>1672.0</td>\n",
       "      <td>1.0</td>\n",
       "    </tr>\n",
       "    <tr>\n",
       "      <th>1|actor[1]</th>\n",
       "      <td>-0.475</td>\n",
       "      <td>0.412</td>\n",
       "      <td>-1.279</td>\n",
       "      <td>0.299</td>\n",
       "      <td>0.013</td>\n",
       "      <td>0.010</td>\n",
       "      <td>975.0</td>\n",
       "      <td>1529.0</td>\n",
       "      <td>1.0</td>\n",
       "    </tr>\n",
       "    <tr>\n",
       "      <th>1|actor[2]</th>\n",
       "      <td>4.783</td>\n",
       "      <td>1.501</td>\n",
       "      <td>2.490</td>\n",
       "      <td>7.568</td>\n",
       "      <td>0.037</td>\n",
       "      <td>0.026</td>\n",
       "      <td>1738.0</td>\n",
       "      <td>2373.0</td>\n",
       "      <td>1.0</td>\n",
       "    </tr>\n",
       "    <tr>\n",
       "      <th>1|actor[3]</th>\n",
       "      <td>-0.783</td>\n",
       "      <td>0.429</td>\n",
       "      <td>-1.592</td>\n",
       "      <td>-0.010</td>\n",
       "      <td>0.013</td>\n",
       "      <td>0.010</td>\n",
       "      <td>1046.0</td>\n",
       "      <td>1361.0</td>\n",
       "      <td>1.0</td>\n",
       "    </tr>\n",
       "    <tr>\n",
       "      <th>1|actor[4]</th>\n",
       "      <td>-0.782</td>\n",
       "      <td>0.424</td>\n",
       "      <td>-1.596</td>\n",
       "      <td>0.009</td>\n",
       "      <td>0.013</td>\n",
       "      <td>0.010</td>\n",
       "      <td>996.0</td>\n",
       "      <td>1522.0</td>\n",
       "      <td>1.0</td>\n",
       "    </tr>\n",
       "    <tr>\n",
       "      <th>1|actor[5]</th>\n",
       "      <td>-0.471</td>\n",
       "      <td>0.423</td>\n",
       "      <td>-1.288</td>\n",
       "      <td>0.297</td>\n",
       "      <td>0.014</td>\n",
       "      <td>0.010</td>\n",
       "      <td>968.0</td>\n",
       "      <td>1166.0</td>\n",
       "      <td>1.0</td>\n",
       "    </tr>\n",
       "    <tr>\n",
       "      <th>1|actor[6]</th>\n",
       "      <td>0.472</td>\n",
       "      <td>0.422</td>\n",
       "      <td>-0.336</td>\n",
       "      <td>1.265</td>\n",
       "      <td>0.014</td>\n",
       "      <td>0.010</td>\n",
       "      <td>969.0</td>\n",
       "      <td>1279.0</td>\n",
       "      <td>1.0</td>\n",
       "    </tr>\n",
       "    <tr>\n",
       "      <th>1|actor[7]</th>\n",
       "      <td>2.002</td>\n",
       "      <td>0.501</td>\n",
       "      <td>1.052</td>\n",
       "      <td>2.931</td>\n",
       "      <td>0.014</td>\n",
       "      <td>0.010</td>\n",
       "      <td>1284.0</td>\n",
       "      <td>1430.0</td>\n",
       "      <td>1.0</td>\n",
       "    </tr>\n",
       "    <tr>\n",
       "      <th>1|block[1]</th>\n",
       "      <td>-0.177</td>\n",
       "      <td>0.229</td>\n",
       "      <td>-0.624</td>\n",
       "      <td>0.174</td>\n",
       "      <td>0.005</td>\n",
       "      <td>0.003</td>\n",
       "      <td>2328.0</td>\n",
       "      <td>2283.0</td>\n",
       "      <td>1.0</td>\n",
       "    </tr>\n",
       "    <tr>\n",
       "      <th>1|block[2]</th>\n",
       "      <td>0.044</td>\n",
       "      <td>0.203</td>\n",
       "      <td>-0.343</td>\n",
       "      <td>0.435</td>\n",
       "      <td>0.004</td>\n",
       "      <td>0.005</td>\n",
       "      <td>2699.0</td>\n",
       "      <td>3026.0</td>\n",
       "      <td>1.0</td>\n",
       "    </tr>\n",
       "    <tr>\n",
       "      <th>1|block[3]</th>\n",
       "      <td>0.065</td>\n",
       "      <td>0.198</td>\n",
       "      <td>-0.322</td>\n",
       "      <td>0.464</td>\n",
       "      <td>0.004</td>\n",
       "      <td>0.003</td>\n",
       "      <td>2794.0</td>\n",
       "      <td>2857.0</td>\n",
       "      <td>1.0</td>\n",
       "    </tr>\n",
       "    <tr>\n",
       "      <th>1|block[4]</th>\n",
       "      <td>0.016</td>\n",
       "      <td>0.198</td>\n",
       "      <td>-0.345</td>\n",
       "      <td>0.407</td>\n",
       "      <td>0.004</td>\n",
       "      <td>0.004</td>\n",
       "      <td>3116.0</td>\n",
       "      <td>2728.0</td>\n",
       "      <td>1.0</td>\n",
       "    </tr>\n",
       "    <tr>\n",
       "      <th>1|block[5]</th>\n",
       "      <td>-0.023</td>\n",
       "      <td>0.185</td>\n",
       "      <td>-0.404</td>\n",
       "      <td>0.328</td>\n",
       "      <td>0.004</td>\n",
       "      <td>0.004</td>\n",
       "      <td>2770.0</td>\n",
       "      <td>2539.0</td>\n",
       "      <td>1.0</td>\n",
       "    </tr>\n",
       "    <tr>\n",
       "      <th>1|block[6]</th>\n",
       "      <td>0.129</td>\n",
       "      <td>0.213</td>\n",
       "      <td>-0.201</td>\n",
       "      <td>0.603</td>\n",
       "      <td>0.005</td>\n",
       "      <td>0.003</td>\n",
       "      <td>2336.0</td>\n",
       "      <td>2456.0</td>\n",
       "      <td>1.0</td>\n",
       "    </tr>\n",
       "    <tr>\n",
       "      <th>1|treatment[1]</th>\n",
       "      <td>-0.030</td>\n",
       "      <td>0.381</td>\n",
       "      <td>-0.835</td>\n",
       "      <td>0.658</td>\n",
       "      <td>0.013</td>\n",
       "      <td>0.009</td>\n",
       "      <td>941.0</td>\n",
       "      <td>1118.0</td>\n",
       "      <td>1.0</td>\n",
       "    </tr>\n",
       "    <tr>\n",
       "      <th>1|treatment[2]</th>\n",
       "      <td>0.492</td>\n",
       "      <td>0.398</td>\n",
       "      <td>-0.161</td>\n",
       "      <td>1.307</td>\n",
       "      <td>0.013</td>\n",
       "      <td>0.010</td>\n",
       "      <td>927.0</td>\n",
       "      <td>1372.0</td>\n",
       "      <td>1.0</td>\n",
       "    </tr>\n",
       "    <tr>\n",
       "      <th>1|treatment[3]</th>\n",
       "      <td>-0.372</td>\n",
       "      <td>0.375</td>\n",
       "      <td>-1.149</td>\n",
       "      <td>0.287</td>\n",
       "      <td>0.012</td>\n",
       "      <td>0.009</td>\n",
       "      <td>988.0</td>\n",
       "      <td>1235.0</td>\n",
       "      <td>1.0</td>\n",
       "    </tr>\n",
       "    <tr>\n",
       "      <th>1|treatment[4]</th>\n",
       "      <td>0.380</td>\n",
       "      <td>0.396</td>\n",
       "      <td>-0.313</td>\n",
       "      <td>1.151</td>\n",
       "      <td>0.014</td>\n",
       "      <td>0.010</td>\n",
       "      <td>893.0</td>\n",
       "      <td>1218.0</td>\n",
       "      <td>1.0</td>\n",
       "    </tr>\n",
       "  </tbody>\n",
       "</table>\n",
       "</div>"
      ],
      "text/plain": [
       "                    mean     sd  hdi_3%  hdi_97%  mcse_mean  mcse_sd  \\\n",
       "1|actor_sigma      2.313  0.816   1.044    3.875      0.028    0.019   \n",
       "1|block_sigma      0.242  0.210   0.000    0.600      0.006    0.005   \n",
       "1|treatment_sigma  0.698  0.450   0.125    1.560      0.014    0.010   \n",
       "1|actor[1]        -0.475  0.412  -1.279    0.299      0.013    0.010   \n",
       "1|actor[2]         4.783  1.501   2.490    7.568      0.037    0.026   \n",
       "1|actor[3]        -0.783  0.429  -1.592   -0.010      0.013    0.010   \n",
       "1|actor[4]        -0.782  0.424  -1.596    0.009      0.013    0.010   \n",
       "1|actor[5]        -0.471  0.423  -1.288    0.297      0.014    0.010   \n",
       "1|actor[6]         0.472  0.422  -0.336    1.265      0.014    0.010   \n",
       "1|actor[7]         2.002  0.501   1.052    2.931      0.014    0.010   \n",
       "1|block[1]        -0.177  0.229  -0.624    0.174      0.005    0.003   \n",
       "1|block[2]         0.044  0.203  -0.343    0.435      0.004    0.005   \n",
       "1|block[3]         0.065  0.198  -0.322    0.464      0.004    0.003   \n",
       "1|block[4]         0.016  0.198  -0.345    0.407      0.004    0.004   \n",
       "1|block[5]        -0.023  0.185  -0.404    0.328      0.004    0.004   \n",
       "1|block[6]         0.129  0.213  -0.201    0.603      0.005    0.003   \n",
       "1|treatment[1]    -0.030  0.381  -0.835    0.658      0.013    0.009   \n",
       "1|treatment[2]     0.492  0.398  -0.161    1.307      0.013    0.010   \n",
       "1|treatment[3]    -0.372  0.375  -1.149    0.287      0.012    0.009   \n",
       "1|treatment[4]     0.380  0.396  -0.313    1.151      0.014    0.010   \n",
       "\n",
       "                   ess_bulk  ess_tail  r_hat  \n",
       "1|actor_sigma         896.0    1840.0    1.0  \n",
       "1|block_sigma        1383.0    1988.0    1.0  \n",
       "1|treatment_sigma    1074.0    1672.0    1.0  \n",
       "1|actor[1]            975.0    1529.0    1.0  \n",
       "1|actor[2]           1738.0    2373.0    1.0  \n",
       "1|actor[3]           1046.0    1361.0    1.0  \n",
       "1|actor[4]            996.0    1522.0    1.0  \n",
       "1|actor[5]            968.0    1166.0    1.0  \n",
       "1|actor[6]            969.0    1279.0    1.0  \n",
       "1|actor[7]           1284.0    1430.0    1.0  \n",
       "1|block[1]           2328.0    2283.0    1.0  \n",
       "1|block[2]           2699.0    3026.0    1.0  \n",
       "1|block[3]           2794.0    2857.0    1.0  \n",
       "1|block[4]           3116.0    2728.0    1.0  \n",
       "1|block[5]           2770.0    2539.0    1.0  \n",
       "1|block[6]           2336.0    2456.0    1.0  \n",
       "1|treatment[1]        941.0    1118.0    1.0  \n",
       "1|treatment[2]        927.0    1372.0    1.0  \n",
       "1|treatment[3]        988.0    1235.0    1.0  \n",
       "1|treatment[4]        893.0    1218.0    1.0  "
      ]
     },
     "execution_count": 154,
     "metadata": {},
     "output_type": "execute_result"
    }
   ],
   "source": [
    "az.summary(idata)"
   ]
  },
  {
   "cell_type": "code",
   "execution_count": null,
   "metadata": {},
   "outputs": [],
   "source": []
  }
 ],
 "metadata": {
  "kernelspec": {
   "display_name": "bambi",
   "language": "python",
   "name": "python3"
  },
  "language_info": {
   "codemirror_mode": {
    "name": "ipython",
    "version": 3
   },
   "file_extension": ".py",
   "mimetype": "text/x-python",
   "name": "python",
   "nbconvert_exporter": "python",
   "pygments_lexer": "ipython3",
   "version": "3.10.8"
  },
  "orig_nbformat": 4,
  "vscode": {
   "interpreter": {
    "hash": "440ced7776c5d8850a2228c5f6965806d20cdcfa4b650c296dd0011da9994f16"
   }
  }
 },
 "nbformat": 4,
 "nbformat_minor": 2
}
