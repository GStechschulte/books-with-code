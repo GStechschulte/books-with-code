{
 "cells": [
  {
   "cell_type": "code",
   "execution_count": 1,
   "metadata": {},
   "outputs": [
    {
     "name": "stderr",
     "output_type": "stream",
     "text": [
      "/Users/wastechs/opt/anaconda3/envs/probs/lib/python3.8/site-packages/tqdm/auto.py:22: TqdmWarning: IProgress not found. Please update jupyter and ipywidgets. See https://ipywidgets.readthedocs.io/en/stable/user_install.html\n",
      "  from .autonotebook import tqdm as notebook_tqdm\n"
     ]
    }
   ],
   "source": [
    "from utilities import utils\n",
    "import pandas as pd\n",
    "import matplotlib.pyplot as plt\n",
    "import seaborn as sns\n",
    "import numpy as np\n",
    "from scipy import stats\n",
    "import arviz as az\n",
    "import torch\n",
    "import pyro\n",
    "import pyro.distributions as dist\n",
    "from pyro.distributions import constraints\n",
    "from pyro.infer import Predictive, TracePredictive, NUTS, MCMC\n",
    "from pyro.infer.autoguide import AutoLaplaceApproximation\n",
    "from pyro.infer import SVI, Trace_ELBO\n",
    "from pyro.optim import Adam\n",
    "from pyro.infer.mcmc.util import summary\n",
    "import os\n",
    "plt.style.use('ggplot')"
   ]
  },
  {
   "cell_type": "markdown",
   "metadata": {},
   "source": [
    "# Chapter 4 - Extending Linear Models"
   ]
  },
  {
   "cell_type": "code",
   "execution_count": null,
   "metadata": {},
   "outputs": [],
   "source": [
    "babies = pd.read_csv(os.path.abspath('.') + '/data/babies.csv')\n",
    "babies"
   ]
  },
  {
   "cell_type": "markdown",
   "metadata": {},
   "source": [
    "## 4.1 Transforming Covariates"
   ]
  },
  {
   "cell_type": "markdown",
   "metadata": {},
   "source": [
    "### Figure 4.2"
   ]
  },
  {
   "cell_type": "code",
   "execution_count": null,
   "metadata": {},
   "outputs": [],
   "source": [
    "X_ = torch.from_numpy(babies['Month'].values.reshape(-1, 1))\n",
    "X_ = torch.tensor(X_).float()\n",
    "\n",
    "y = torch.from_numpy(babies['Length'].values)\n",
    "y = torch.tensor(y).float()"
   ]
  },
  {
   "cell_type": "code",
   "execution_count": null,
   "metadata": {},
   "outputs": [],
   "source": [
    "def linear_babies(month, length=None):\n",
    "\n",
    "    N, P = month.shape\n",
    "    \n",
    "    beta_0 = pyro.sample('beta_0', dist.Normal(0., 10.))\n",
    "    beta_1 = pyro.sample('beta_1', dist.Normal(0, 10.).expand([P]))\n",
    "    sigma = pyro.sample('sigma', dist.HalfNormal(10.))\n",
    "    mu = beta_0 + torch.matmul(beta_1, month.T)\n",
    "    \n",
    "    with pyro.plate('plate', size=N):\n",
    "        y = pyro.sample('y', dist.Normal(mu, sigma), obs=length)"
   ]
  },
  {
   "cell_type": "code",
   "execution_count": null,
   "metadata": {},
   "outputs": [],
   "source": [
    "pyro.render_model(\n",
    "    linear_babies, \n",
    "    model_args=(X_, y),\n",
    "    render_distributions=True\n",
    "    )"
   ]
  },
  {
   "cell_type": "code",
   "execution_count": null,
   "metadata": {},
   "outputs": [],
   "source": [
    "kernel = NUTS(linear_babies, adapt_step_size=True)\n",
    "mcmc_linear_babies = MCMC(kernel, 500, 300)\n",
    "mcmc_linear_babies.run(X_, y)"
   ]
  },
  {
   "cell_type": "code",
   "execution_count": null,
   "metadata": {},
   "outputs": [],
   "source": [
    "mcmc_babie_samples = mcmc_linear_babies.get_samples(1000)\n",
    "predictive = Predictive(linear_babies, mcmc_babie_samples)(X_, None)\n",
    "\n",
    "az_linear_babies = az.from_pyro(\n",
    "    posterior=mcmc_linear_babies, posterior_predictive=predictive)"
   ]
  },
  {
   "cell_type": "code",
   "execution_count": null,
   "metadata": {},
   "outputs": [],
   "source": [
    "y_mu = predictive['y'].mean(axis=0)"
   ]
  },
  {
   "cell_type": "code",
   "execution_count": null,
   "metadata": {},
   "outputs": [],
   "source": [
    "plt.figure(figsize=(10, 6))\n",
    "sns.scatterplot(x=babies['Month'], y=babies['Length'], color='grey', alpha=0.75)\n",
    "sns.lineplot(x=babies['Month'], y=y_mu, color='blue')\n",
    "az.plot_hdi(x=babies['Month'], y=predictive['y'].numpy())\n",
    "plt.show()"
   ]
  },
  {
   "cell_type": "markdown",
   "metadata": {},
   "source": [
    "### Figure 4.3"
   ]
  },
  {
   "cell_type": "code",
   "execution_count": null,
   "metadata": {},
   "outputs": [],
   "source": [
    "def sqrt_babies(month, length=None):\n",
    "\n",
    "    N, P = month.shape\n",
    "    \n",
    "    beta_0 = pyro.sample('beta_0', dist.Normal(0., 10.))\n",
    "    beta_1 = pyro.sample('beta_1', dist.Normal(0, 10.).expand([P]))\n",
    "    sigma = pyro.sample('sigma', dist.HalfNormal(10.))\n",
    "    mu = beta_0 + torch.matmul(beta_1, torch.sqrt(month.T))\n",
    "    \n",
    "    with pyro.plate('plate', size=N):\n",
    "        y = pyro.sample('y', dist.Normal(mu, sigma), obs=length)"
   ]
  },
  {
   "cell_type": "code",
   "execution_count": null,
   "metadata": {},
   "outputs": [],
   "source": [
    "kernel = NUTS(sqrt_babies, adapt_step_size=True)\n",
    "mcmc_sqrt = MCMC(kernel, 500, 300)\n",
    "mcmc_sqrt.run(X_, y)"
   ]
  },
  {
   "cell_type": "code",
   "execution_count": null,
   "metadata": {},
   "outputs": [],
   "source": [
    "mcmc_sqrt_babie_samples = mcmc_sqrt.get_samples(1000)\n",
    "predictive_sqrt = Predictive(sqrt_babies, mcmc_sqrt_babie_samples)(X_, None)\n",
    "\n",
    "az_sqrt_babies = az.from_pyro(\n",
    "    posterior=mcmc_sqrt, posterior_predictive=predictive_sqrt)"
   ]
  },
  {
   "cell_type": "code",
   "execution_count": null,
   "metadata": {},
   "outputs": [],
   "source": [
    "y_mu = predictive_sqrt['y'].mean(axis=0)"
   ]
  },
  {
   "cell_type": "code",
   "execution_count": null,
   "metadata": {},
   "outputs": [],
   "source": [
    "plt.figure(figsize=(10, 6))\n",
    "plt.scatter(babies['Month'], babies['Length'], c='black', alpha=0.5)\n",
    "plt.plot(babies['Month'], y_mu, color='blue')\n",
    "az.plot_hdi(x=babies['Month'], y=az_sqrt_babies['posterior_predictive']['y'], hdi_prob=.50, color='grey')\n",
    "az.plot_hdi(x=babies['Month'], y=az_sqrt_babies['posterior_predictive']['y'], hdi_prob=.94, color='darkgrey')\n",
    "plt.title('Linear model with square root transformation on months')\n",
    "plt.show()"
   ]
  },
  {
   "cell_type": "markdown",
   "metadata": {},
   "source": [
    "## 4.2 - Varying Uncertainty"
   ]
  },
  {
   "cell_type": "code",
   "execution_count": null,
   "metadata": {},
   "outputs": [],
   "source": []
  },
  {
   "cell_type": "markdown",
   "metadata": {},
   "source": [
    "## 4.3 - Interaction Effects"
   ]
  },
  {
   "cell_type": "code",
   "execution_count": null,
   "metadata": {},
   "outputs": [],
   "source": [
    "tips_df = pd.read_csv(os.path.abspath('.') + '/data/tips.csv')\n",
    "tips_df"
   ]
  },
  {
   "cell_type": "code",
   "execution_count": null,
   "metadata": {},
   "outputs": [],
   "source": [
    "total_bill_centered = torch.tensor((tips_df[\"total_bill\"] - tips_df[\"total_bill\"].mean()).values, dtype=torch.float64)\n",
    "tips = torch.tensor(tips_df[\"tip\"].values, dtype=torch.float64)\n",
    "smoker = torch.tensor(pd.Categorical(tips_df[\"smoker\"]).codes, dtype=torch.float64)"
   ]
  },
  {
   "cell_type": "code",
   "execution_count": null,
   "metadata": {},
   "outputs": [],
   "source": [
    "def interaction_model(bill, smoker, tips=None):\n",
    "    \n",
    "    #N, P = \n",
    "\n",
    "    beta = pyro.sample('beta', dist.Normal(0., 1.).expand([4]))\n",
    "    sigma = pyro.sample('sigma', dist.HalfNormal(1.))\n",
    "    mu = beta[0] + beta[1] * bill + beta[2] * smoker + beta[3] * smoker * bill\n",
    "\n",
    "    with pyro.plate('plate', len(bill)):\n",
    "        y = pyro.sample('y', dist.Normal(mu, sigma), obs=tips)"
   ]
  },
  {
   "cell_type": "code",
   "execution_count": null,
   "metadata": {},
   "outputs": [],
   "source": [
    "pyro.render_model(\n",
    "    interaction_model,\n",
    "    (total_bill_centered, smoker, tips), render_distributions=True)"
   ]
  },
  {
   "cell_type": "code",
   "execution_count": null,
   "metadata": {},
   "outputs": [],
   "source": [
    "kernel = NUTS(interaction_model, adapt_step_size=True)\n",
    "mcmc_interaction = MCMC(kernel, 500, 300)\n",
    "mcmc_interaction.run(total_bill_centered, smoker, tips)"
   ]
  },
  {
   "cell_type": "code",
   "execution_count": null,
   "metadata": {},
   "outputs": [],
   "source": [
    "mcmc_interaction_samples = mcmc_interaction.get_samples(1000)\n",
    "interaction_predictive = Predictive(interaction_model, mcmc_interaction_samples)\n",
    "posterior_predictive = interaction_predictive(total_bill_centered, smoker, None)\n",
    "\n",
    "az_inference_interaction = az.from_pyro(\n",
    "    posterior=mcmc_interaction, posterior_predictive=posterior_predictive)"
   ]
  },
  {
   "cell_type": "code",
   "execution_count": null,
   "metadata": {},
   "outputs": [],
   "source": [
    "tip_mu = posterior_predictive['y'].mean(axis=0)\n",
    "tip_std = posterior_predictive['y'].std(axis=0)\n",
    "\n",
    "predictions = pd.DataFrame({\n",
    "    'bill': total_bill_centered,\n",
    "    'smoker': smoker,\n",
    "    'tip': tips, \n",
    "    'tip_mu': tip_mu,\n",
    "    'tip_std': tip_std,\n",
    "    'tip_high': tip_mu + tip_std,\n",
    "    'tip_low': tip_mu - tip_std\n",
    "})\n",
    "\n",
    "predictions = predictions.sort_values(by=['bill'])"
   ]
  },
  {
   "cell_type": "code",
   "execution_count": null,
   "metadata": {},
   "outputs": [],
   "source": [
    "smoker_df = predictions[predictions['smoker'] == 1]\n",
    "nonsmoker_df = predictions[predictions['smoker'] == 0]"
   ]
  },
  {
   "cell_type": "code",
   "execution_count": null,
   "metadata": {},
   "outputs": [],
   "source": [
    "# colors are terrible - TO DO\n",
    "plt.figure(figsize=(10, 6))\n",
    "sns.lineplot(x=smoker_df['bill'], y=smoker_df['tip_mu'], color='blue')\n",
    "plt.fill_between(smoker_df['bill'], smoker_df['tip_low'], smoker_df['tip_high'], color='lightblue')\n",
    "sns.lineplot(x=nonsmoker_df['bill'], y=nonsmoker_df['tip_mu'], color='red')\n",
    "plt.fill_between(nonsmoker_df['bill'], nonsmoker_df['tip_low'], nonsmoker_df['tip_high'], color='lightgrey')\n",
    "sns.scatterplot(x=predictions['bill'], y=predictions['tip'], hue=predictions['smoker'])\n",
    "plt.legend(['smoker', 'non-smoker'])\n",
    "plt.title('Interaction Effect on Tip')\n",
    "plt.show()"
   ]
  },
  {
   "cell_type": "markdown",
   "metadata": {},
   "source": [
    "## 4.4 - Robust Regression"
   ]
  },
  {
   "cell_type": "code",
   "execution_count": null,
   "metadata": {},
   "outputs": [],
   "source": [
    "def generate_sales(*, days, mean, std, label):\n",
    "    \"\"\"code taken from the authors / book\"\"\"\n",
    "    np.random.seed(0)\n",
    "    df = pd.DataFrame(index=range(1, days+1), columns=[\"customers\", \"sales\"])\n",
    "    for day in range(1, days+1):\n",
    "        num_customers = stats.randint(30, 100).rvs()+1\n",
    "        \n",
    "        # This is correct as there is an independent draw for each customers orders\n",
    "        dollar_sales = stats.norm(mean, std).rvs(num_customers).sum()\n",
    "        \n",
    "        df.loc[day, \"customers\"] = num_customers\n",
    "        df.loc[day, \"sales\"] = dollar_sales\n",
    "        \n",
    "    # Fix the types as not to cause Theano errors\n",
    "    df = df.astype({'customers': 'int32', 'sales': 'float32'})\n",
    "    \n",
    "    # Sorting will make plotting the posterior predictive easier later\n",
    "    df[\"Food_Category\"] = label\n",
    "    df = df.sort_values(\"customers\")\n",
    "    \n",
    "    return df"
   ]
  },
  {
   "cell_type": "code",
   "execution_count": null,
   "metadata": {},
   "outputs": [],
   "source": [
    "empanadas = generate_sales(days=200, mean=180, std=30, label=\"Empanada\")\n",
    "\n",
    "empanadas.iloc[0] = [50, 92000, \"Empanada\"]\n",
    "empanadas.iloc[1] = [60, 90000, \"Empanada\"]\n",
    "empanadas.iloc[2] = [70, 96000, \"Empanada\"]\n",
    "empanadas.iloc[3] = [80, 91000, \"Empanada\"]\n",
    "empanadas.iloc[4] = [90, 99000, \"Empanada\"]\n",
    "\n",
    "empanadas = empanadas.sort_values(\"customers\")\n",
    "\n",
    "fig, ax = plt.subplots(figsize=(10, 6))\n",
    "empanadas.sort_values(\"sales\")[:-5].plot(x=\"customers\", y=\"sales\", kind=\"scatter\", ax=ax);\n",
    "empanadas.sort_values(\"sales\")[-5:].plot(x=\"customers\", y=\"sales\", kind=\"scatter\", c=\"black\", ax=ax);\n",
    "\n",
    "ax.set_ylabel(\"Argentine Peso\")\n",
    "ax.set_xlabel(\"Customer Count\")\n",
    "ax.set_title(\"Empanada Sales\")"
   ]
  },
  {
   "cell_type": "code",
   "execution_count": null,
   "metadata": {},
   "outputs": [],
   "source": [
    "customer_count = torch.tensor(empanadas['customers'].values, dtype=torch.float64)\n",
    "sales = torch.tensor(empanadas['sales'].values, dtype=torch.float64)"
   ]
  },
  {
   "cell_type": "code",
   "execution_count": null,
   "metadata": {},
   "outputs": [],
   "source": [
    "def robust_regression(customers, peso=None):\n",
    "\n",
    "    sigma = pyro.sample('sigma', dist.HalfNormal(50.))\n",
    "    beta = pyro.sample('beta', dist.Normal(150., 20.))\n",
    "    v = pyro.sample('dof', dist.HalfNormal(20.))\n",
    "\n",
    "    mu = pyro.deterministic('mu', beta * customers)\n",
    "\n",
    "    with pyro.plate('plate', len(customers)):\n",
    "        sales = pyro.sample('sales', dist.StudentT(loc=mu, scale=sigma, df=v), obs=peso)"
   ]
  },
  {
   "cell_type": "code",
   "execution_count": null,
   "metadata": {},
   "outputs": [],
   "source": [
    "pyro.render_model(\n",
    "    robust_regression, (customer_count, sales), render_distributions=True)"
   ]
  },
  {
   "cell_type": "code",
   "execution_count": null,
   "metadata": {},
   "outputs": [],
   "source": [
    "kernel = NUTS(robust_regression)\n",
    "mcmc_robust = MCMC(kernel, 500, 300)\n",
    "mcmc_robust.run(customer_count, sales)"
   ]
  },
  {
   "cell_type": "code",
   "execution_count": null,
   "metadata": {},
   "outputs": [],
   "source": [
    "mcmc_robust.summary()"
   ]
  },
  {
   "cell_type": "code",
   "execution_count": null,
   "metadata": {},
   "outputs": [],
   "source": [
    "mcmc_robust_samples = mcmc_robust.get_samples(1000)\n",
    "robust_predictive = Predictive(robust_regression, mcmc_robust_samples)(customer_count, None)\n",
    "az_robust_inf = az.from_pyro(posterior=mcmc_robust, posterior_predictive=robust_predictive)"
   ]
  },
  {
   "cell_type": "code",
   "execution_count": null,
   "metadata": {},
   "outputs": [],
   "source": [
    "mu = az_robust_inf['posterior_predictive']['mu'].values.reshape(-1, len(customer_count)).mean(axis=0)\n",
    "\n",
    "plt.figure(figsize=(10, 6))\n",
    "plt.scatter(customer_count, sales)\n",
    "plt.plot(customer_count, mu, c='blue')\n",
    "az.plot_hdi(customer_count, az_robust_inf['posterior_predictive']['sales'], color='grey')\n",
    "plt.xlabel('Customer Count')\n",
    "plt.ylabel('Sales')\n",
    "plt.title('Robust Regression using Student-t likelihood')\n",
    "plt.show()"
   ]
  },
  {
   "cell_type": "markdown",
   "metadata": {},
   "source": [
    "## 4.5 - Pooling, Multilevel Models, Mixed Effects"
   ]
  },
  {
   "cell_type": "code",
   "execution_count": 2,
   "metadata": {},
   "outputs": [],
   "source": [
    "def generate_sales(*, days, mean, std, label):\n",
    "    \"\"\"code taken from authors / book\"\"\"\n",
    "    np.random.seed(0)\n",
    "    df = pd.DataFrame(index=range(1, days+1), columns=[\"customers\", \"sales\"])\n",
    "    for day in range(1, days+1):\n",
    "        num_customers = stats.randint(30, 100).rvs()+1\n",
    "        \n",
    "        # This is correct as there is an independent draw for each customers orders\n",
    "        dollar_sales = stats.norm(mean, std).rvs(num_customers).sum()\n",
    "        \n",
    "        df.loc[day, \"customers\"] = num_customers\n",
    "        df.loc[day, \"sales\"] = dollar_sales\n",
    "        \n",
    "    # Fix the types as not to cause Theano errors\n",
    "    df = df.astype({'customers': 'int32', 'sales': 'float32'})\n",
    "    \n",
    "    # Sorting will make plotting the posterior predictive easier later\n",
    "    df[\"Food_Category\"] = label\n",
    "    df = df.sort_values(\"customers\")\n",
    "    \n",
    "    return df"
   ]
  },
  {
   "cell_type": "code",
   "execution_count": 3,
   "metadata": {},
   "outputs": [],
   "source": [
    "pizza_df = generate_sales(days=365, mean=13, std=5, label=\"Pizza\")\n",
    "sandwich_df = generate_sales(days=100, mean=6, std=5, label=\"Sandwich\")\n",
    "salad_days = 3\n",
    "salad_df = generate_sales(days=salad_days, mean=8 ,std=3, label=\"Salad\")"
   ]
  },
  {
   "cell_type": "code",
   "execution_count": 4,
   "metadata": {},
   "outputs": [
    {
     "data": {
      "image/png": "[encoded data removed]",
      "text/plain": [
       "<Figure size 720x432 with 1 Axes>"
      ]
     },
     "metadata": {},
     "output_type": "display_data"
    }
   ],
   "source": [
    "fig, ax = plt.subplots(figsize=(10, 6))\n",
    "pizza_df.plot(x=\"customers\", y=\"sales\", kind=\"scatter\", ax=ax, c=\"grey\", label=\"Pizza\", marker=\"^\", s=60);\n",
    "sandwich_df.plot(x=\"customers\", y=\"sales\", kind=\"scatter\", ax=ax, c='black', label=\"Sandwich\", marker=\"s\");\n",
    "salad_df.plot(x=\"customers\", y=\"sales\", kind=\"scatter\", ax=ax, label=\"Salad\", c=\"blue\");\n",
    "\n",
    "ax.set_xlabel(\"Number of Customers\")\n",
    "ax.set_ylabel(\"Daily Sales Dollars\")\n",
    "ax.set_title(\"Aggregated Sales Dollars\")\n",
    "ax.legend()\n",
    "plt.show()"
   ]
  },
  {
   "cell_type": "code",
   "execution_count": 5,
   "metadata": {},
   "outputs": [
    {
     "data": {
      "text/html": [
       "<div>\n",
       "<style scoped>\n",
       "    .dataframe tbody tr th:only-of-type {\n",
       "        vertical-align: middle;\n",
       "    }\n",
       "\n",
       "    .dataframe tbody tr th {\n",
       "        vertical-align: top;\n",
       "    }\n",
       "\n",
       "    .dataframe thead th {\n",
       "        text-align: right;\n",
       "    }\n",
       "</style>\n",
       "<table border=\"1\" class=\"dataframe\">\n",
       "  <thead>\n",
       "    <tr style=\"text-align: right;\">\n",
       "      <th></th>\n",
       "      <th>customers</th>\n",
       "      <th>sales</th>\n",
       "      <th>Food_Category</th>\n",
       "    </tr>\n",
       "  </thead>\n",
       "  <tbody>\n",
       "    <tr>\n",
       "      <th>0</th>\n",
       "      <td>31</td>\n",
       "      <td>459.895203</td>\n",
       "      <td>Pizza</td>\n",
       "    </tr>\n",
       "    <tr>\n",
       "      <th>1</th>\n",
       "      <td>31</td>\n",
       "      <td>401.147736</td>\n",
       "      <td>Pizza</td>\n",
       "    </tr>\n",
       "    <tr>\n",
       "      <th>2</th>\n",
       "      <td>31</td>\n",
       "      <td>413.345245</td>\n",
       "      <td>Pizza</td>\n",
       "    </tr>\n",
       "    <tr>\n",
       "      <th>3</th>\n",
       "      <td>31</td>\n",
       "      <td>371.909241</td>\n",
       "      <td>Pizza</td>\n",
       "    </tr>\n",
       "    <tr>\n",
       "      <th>4</th>\n",
       "      <td>32</td>\n",
       "      <td>433.797089</td>\n",
       "      <td>Pizza</td>\n",
       "    </tr>\n",
       "    <tr>\n",
       "      <th>...</th>\n",
       "      <td>...</td>\n",
       "      <td>...</td>\n",
       "      <td>...</td>\n",
       "    </tr>\n",
       "    <tr>\n",
       "      <th>463</th>\n",
       "      <td>100</td>\n",
       "      <td>611.736816</td>\n",
       "      <td>Sandwich</td>\n",
       "    </tr>\n",
       "    <tr>\n",
       "      <th>464</th>\n",
       "      <td>100</td>\n",
       "      <td>667.152954</td>\n",
       "      <td>Sandwich</td>\n",
       "    </tr>\n",
       "    <tr>\n",
       "      <th>465</th>\n",
       "      <td>42</td>\n",
       "      <td>331.625702</td>\n",
       "      <td>Salad</td>\n",
       "    </tr>\n",
       "    <tr>\n",
       "      <th>466</th>\n",
       "      <td>66</td>\n",
       "      <td>520.900940</td>\n",
       "      <td>Salad</td>\n",
       "    </tr>\n",
       "    <tr>\n",
       "      <th>467</th>\n",
       "      <td>75</td>\n",
       "      <td>628.937622</td>\n",
       "      <td>Salad</td>\n",
       "    </tr>\n",
       "  </tbody>\n",
       "</table>\n",
       "<p>468 rows × 3 columns</p>\n",
       "</div>"
      ],
      "text/plain": [
       "     customers       sales Food_Category\n",
       "0           31  459.895203         Pizza\n",
       "1           31  401.147736         Pizza\n",
       "2           31  413.345245         Pizza\n",
       "3           31  371.909241         Pizza\n",
       "4           32  433.797089         Pizza\n",
       "..         ...         ...           ...\n",
       "463        100  611.736816      Sandwich\n",
       "464        100  667.152954      Sandwich\n",
       "465         42  331.625702         Salad\n",
       "466         66  520.900940         Salad\n",
       "467         75  628.937622         Salad\n",
       "\n",
       "[468 rows x 3 columns]"
      ]
     },
     "execution_count": 5,
     "metadata": {},
     "output_type": "execute_result"
    }
   ],
   "source": [
    "sales_df = pd.concat([pizza_df, sandwich_df, salad_df]).reset_index(drop=True)\n",
    "sales_df[\"Food_Category\"] = pd.Categorical(sales_df[\"Food_Category\"])\n",
    "sales_df"
   ]
  },
  {
   "cell_type": "code",
   "execution_count": 6,
   "metadata": {},
   "outputs": [],
   "source": [
    "customers = torch.tensor(sales_df['customers'].values, dtype=torch.float64)\n",
    "sales = torch.tensor(sales_df['sales'].values, dtype=torch.float64)\n",
    "food_category = torch.tensor(sales_df['Food_Category'].cat.codes.values, dtype=torch.long)"
   ]
  },
  {
   "cell_type": "markdown",
   "metadata": {},
   "source": [
    "**Notes:**\n",
    "\n",
    "- extend shape to 3 because of the 3 food categories\n",
    "- use `dtype = torch.long` when using a tensor as indices\n",
    "- if you use the `pyro.plate()` primitive, it seems you do not need to specify the `.expand()` method on distributions, i.e., to make the batch size > 1 in the case of a multidimensional design matrix"
   ]
  },
  {
   "cell_type": "markdown",
   "metadata": {},
   "source": [
    "### Unpooled - MCMC"
   ]
  },
  {
   "cell_type": "code",
   "execution_count": null,
   "metadata": {},
   "outputs": [],
   "source": [
    "def unpooled_model(food_cat, customers, sales=None):\n",
    "\n",
    "    P = 3\n",
    "    N = len(customers)\n",
    "\n",
    "    with pyro.plate('food_cat_i', len(np.unique(food_cat))):\n",
    "        sigma = pyro.sample('sigma', dist.HalfNormal(20.))\n",
    "        beta = pyro.sample('beta', dist.Normal(10., 10.))\n",
    "    \n",
    "    with pyro.plate('data', N):\n",
    "        mu = pyro.deterministic('mu', beta[food_cat] * customers)\n",
    "        output = pyro.sample('y', dist.Normal(mu, sigma[food_cat]), obs=sales)"
   ]
  },
  {
   "cell_type": "code",
   "execution_count": null,
   "metadata": {},
   "outputs": [],
   "source": [
    "# should be: beta -> mu -> y\n",
    "pyro.render_model(\n",
    "    unpooled_model, (food_category, customers, sales),\n",
    "    render_distributions=True\n",
    ")"
   ]
  },
  {
   "cell_type": "code",
   "execution_count": null,
   "metadata": {},
   "outputs": [],
   "source": [
    "kernel = NUTS(unpooled_model)\n",
    "mcmc_unpooled = MCMC(kernel, 500, 300)\n",
    "mcmc_unpooled.run(food_category, customers, sales)"
   ]
  },
  {
   "cell_type": "code",
   "execution_count": null,
   "metadata": {},
   "outputs": [],
   "source": [
    "mcmc_unpooled.summary()"
   ]
  },
  {
   "cell_type": "code",
   "execution_count": null,
   "metadata": {},
   "outputs": [],
   "source": [
    "unpooled_posterior_samples = mcmc_unpooled.get_samples(1000)\n",
    "unpooled_predictive = \\\n",
    "    Predictive(unpooled_model, unpooled_posterior_samples)(food_category, customers, None)\n",
    "\n",
    "az_unpooled_inf = az.from_pyro(\n",
    "    posterior=mcmc_unpooled, posterior_predictive=unpooled_predictive)"
   ]
  },
  {
   "cell_type": "code",
   "execution_count": null,
   "metadata": {},
   "outputs": [],
   "source": [
    "az.plot_trace(az_unpooled_inf, var_names=[\"beta\", \"sigma\"], compact=False)\n",
    "plt.tight_layout()"
   ]
  },
  {
   "cell_type": "code",
   "execution_count": null,
   "metadata": {},
   "outputs": [],
   "source": [
    "az.plot_forest(az_unpooled_inf, var_names=['beta'])\n",
    "plt.show()"
   ]
  },
  {
   "cell_type": "code",
   "execution_count": null,
   "metadata": {},
   "outputs": [],
   "source": [
    "az.plot_forest(az_unpooled_inf, var_names=['sigma'])\n",
    "plt.show()"
   ]
  },
  {
   "cell_type": "markdown",
   "metadata": {},
   "source": [
    "### Unpooled - SVI"
   ]
  },
  {
   "cell_type": "code",
   "execution_count": null,
   "metadata": {},
   "outputs": [],
   "source": [
    "customers_z = (customers - torch.mean(customers)) / (torch.std(customers))\n",
    "sales_z = (sales - torch.mean(sales)) / (torch.std(sales))"
   ]
  },
  {
   "cell_type": "code",
   "execution_count": null,
   "metadata": {},
   "outputs": [],
   "source": [
    "customers_z.min(), customers_z.max()"
   ]
  },
  {
   "cell_type": "code",
   "execution_count": null,
   "metadata": {},
   "outputs": [],
   "source": [
    "sales_z.min(), sales_z.max()"
   ]
  },
  {
   "cell_type": "code",
   "execution_count": null,
   "metadata": {},
   "outputs": [],
   "source": [
    "def unpooled_model(food_cat, customers, sales=None):\n",
    "\n",
    "    P = 3\n",
    "    N = len(customers)\n",
    "\n",
    "    with pyro.plate('food_cat_i', len(np.unique(food_cat))):\n",
    "        sigma = pyro.sample('sigma', dist.HalfNormal(20.))\n",
    "        beta = pyro.sample('beta', dist.Normal(10., 10.))\n",
    "    \n",
    "    with pyro.plate('data', N):\n",
    "        mu = pyro.deterministic('mu', beta[food_cat] * customers)\n",
    "        output = pyro.sample('y', dist.Normal(mu, sigma[food_cat]), obs=sales)"
   ]
  },
  {
   "cell_type": "code",
   "execution_count": null,
   "metadata": {},
   "outputs": [],
   "source": [
    "def unpooled_guide(food_cat, customers, sales=None): \n",
    "\n",
    "    with pyro.plate('food_cat_i', len(np.unique(food_cat))):\n",
    "        sigma_scale = pyro.param(\n",
    "            'sigma_scale', torch.tensor(1.), constraint=constraints.positive\n",
    "            )\n",
    "        sigma = pyro.sample('sigma', dist.HalfNormal(sigma_scale))\n",
    "\n",
    "        beta_loc = pyro.param('beta_loc', torch.tensor(10.))\n",
    "        beta_scale = pyro.param(\n",
    "            'beta_scale', torch.tensor(1.), constraint=constraints.positive)\n",
    "        beta = pyro.sample('beta', dist.Normal(beta_loc, beta_scale))"
   ]
  },
  {
   "cell_type": "code",
   "execution_count": null,
   "metadata": {},
   "outputs": [],
   "source": [
    "pyro.render_model(\n",
    "    unpooled_guide, (food_category, customers, sales), render_params=True)"
   ]
  },
  {
   "cell_type": "code",
   "execution_count": null,
   "metadata": {},
   "outputs": [],
   "source": [
    "pyro.clear_param_store()\n",
    "\n",
    "#adam_params = {'lr': 0.005, 'betas': (0.95, 0.99)}\n",
    "adam_params = {'lr': 0.005}\n",
    "optim = Adam(adam_params)\n",
    "svi = SVI(unpooled_model, unpooled_guide, optim, Trace_ELBO())\n",
    "\n",
    "iter = 1000\n",
    "elbo_loss = []\n",
    "for i in range(iter):\n",
    "    loss = svi.step(food_category, customers_z, sales_z)\n",
    "    elbo_loss.append(loss)\n",
    "\n",
    "plt.figure(figsize=(10, 3))\n",
    "plt.plot(np.arange(1, iter+1), elbo_loss)\n",
    "plt.ylabel('ELBO Loss')\n",
    "plt.xlabel('Iterations')\n",
    "plt.title(f'iter {len(elbo_loss)}, loss: {elbo_loss[-1]:.4f}')\n",
    "plt.show()"
   ]
  },
  {
   "cell_type": "code",
   "execution_count": null,
   "metadata": {},
   "outputs": [],
   "source": [
    "for name, value in pyro.get_param_store().items():\n",
    "    print(name, pyro.param(name).data.cpu().numpy())"
   ]
  },
  {
   "cell_type": "code",
   "execution_count": null,
   "metadata": {},
   "outputs": [],
   "source": [
    "predictive = Predictive(unpooled_model, guide=unpooled_guide, num_samples=1000)\n",
    "posterior_svi_samples = predictive(food_category, customers, None)"
   ]
  },
  {
   "cell_type": "code",
   "execution_count": null,
   "metadata": {},
   "outputs": [],
   "source": [
    "sigma, beta = utils.summary(posterior_svi_samples)['sigma'], \\\n",
    "    utils.summary(posterior_svi_samples)['beta']"
   ]
  },
  {
   "cell_type": "code",
   "execution_count": null,
   "metadata": {},
   "outputs": [],
   "source": [
    "beta"
   ]
  },
  {
   "cell_type": "code",
   "execution_count": null,
   "metadata": {},
   "outputs": [],
   "source": [
    "sigma"
   ]
  },
  {
   "cell_type": "markdown",
   "metadata": {},
   "source": [
    "### Pooled - MCMC"
   ]
  },
  {
   "cell_type": "code",
   "execution_count": 7,
   "metadata": {},
   "outputs": [],
   "source": [
    "def pooled_model(food_cat, customers, sales=None):\n",
    "\n",
    "    P = 3\n",
    "    N = len(customers)\n",
    "\n",
    "    sigma = pyro.sample('sigma', dist.HalfNormal(20.))\n",
    "    beta = pyro.sample('beta', dist.Normal(10., 10.))\n",
    "    \n",
    "    with pyro.plate('data', N):\n",
    "        mu = pyro.deterministic('mu', beta * customers)\n",
    "        output = pyro.sample('y', dist.Normal(mu, sigma), obs=sales)"
   ]
  },
  {
   "cell_type": "code",
   "execution_count": 8,
   "metadata": {},
   "outputs": [
    {
     "name": "stderr",
     "output_type": "stream",
     "text": [
      "Sample: 100%|██████████| 800/800 [00:05, 143.41it/s, step size=9.98e-01, acc. prob=0.917]\n"
     ]
    }
   ],
   "source": [
    "kernel = NUTS(pooled_model)\n",
    "mcmc_pooled = MCMC(kernel, 500, 300)\n",
    "mcmc_pooled.run(food_category, customers, sales)"
   ]
  },
  {
   "cell_type": "code",
   "execution_count": 9,
   "metadata": {},
   "outputs": [
    {
     "name": "stdout",
     "output_type": "stream",
     "text": [
      "\n",
      "                mean       std    median      5.0%     95.0%     n_eff     r_hat\n",
      "      beta     11.50      0.12     11.49     11.29     11.70    436.12      1.00\n",
      "     sigma    186.18      4.97    186.01    177.77    193.65    294.25      1.00\n",
      "\n",
      "Number of divergences: 0\n"
     ]
    }
   ],
   "source": [
    "mcmc_pooled.summary()"
   ]
  },
  {
   "cell_type": "code",
   "execution_count": 10,
   "metadata": {},
   "outputs": [
    {
     "name": "stderr",
     "output_type": "stream",
     "text": [
      "posterior predictive shape not compatible with number of chains and draws.This can mean that some draws or even whole chains are not represented.\n",
      "posterior predictive shape not compatible with number of chains and draws.This can mean that some draws or even whole chains are not represented.\n"
     ]
    }
   ],
   "source": [
    "pooled_samples = mcmc_pooled.get_samples(1000)\n",
    "pooled_predictive = Predictive(pooled_model, pooled_samples)(food_category, customers, None)\n",
    "az_pooled_inf = az.from_pyro(\n",
    "    posterior=mcmc_pooled, posterior_predictive=pooled_predictive)"
   ]
  },
  {
   "cell_type": "code",
   "execution_count": 11,
   "metadata": {},
   "outputs": [],
   "source": [
    "sales_mu = pooled_predictive['y'].mean(axis=0)\n",
    "sales_std = pooled_predictive['y'].std(axis=0)\n",
    "\n",
    "predictions = pd.DataFrame({\n",
    "    'customers': customers,\n",
    "    'category': food_category,\n",
    "    'sales': sales, \n",
    "    'sales_mu': sales_mu,\n",
    "    'sales_std': sales_std,\n",
    "    'sales_high': sales_mu + sales_std,\n",
    "    'sales_low': sales_mu - sales_std\n",
    "})\n",
    "\n",
    "predictions = predictions.sort_values(by=['customers'])"
   ]
  },
  {
   "cell_type": "code",
   "execution_count": 12,
   "metadata": {},
   "outputs": [
    {
     "data": {
      "image/png": "[encoded data removed]",
      "text/plain": [
       "<Figure size 720x432 with 1 Axes>"
      ]
     },
     "metadata": {},
     "output_type": "display_data"
    }
   ],
   "source": [
    "plt.figure(figsize=(10, 6))\n",
    "sns.scatterplot(\n",
    "    x=predictions['customers'], y=predictions['sales'], \n",
    "    hue=predictions['category'], palette='tab10')\n",
    "sns.lineplot(\n",
    "    x=predictions['customers'], y=predictions['sales_mu'],\n",
    "    color='black')\n",
    "plt.fill_between(\n",
    "    x=predictions['customers'], \n",
    "    y1=predictions['sales_low'], \n",
    "    y2=predictions['sales_high'],\n",
    "    color='grey',\n",
    "    alpha=0.25)\n",
    "plt.title('Pooled Parameters - MCMC')\n",
    "plt.show()"
   ]
  },
  {
   "cell_type": "markdown",
   "metadata": {},
   "source": [
    "### Pooled - SVI\n",
    "\n",
    "Using LaPlace Approximation doesn't make the most sense since. . .\n",
    "\n",
    "`pooled_guide` learns `beta`, but does not learn `sigma`. This could be related to parameter initialization"
   ]
  },
  {
   "cell_type": "code",
   "execution_count": 177,
   "metadata": {},
   "outputs": [],
   "source": [
    "def pooled_guide(customers, sales=None): \n",
    "\n",
    "    sigma_scale = pyro.param(\n",
    "        'sigma_scale', 0.1 * torch.rand(1), constraint=constraints.positive\n",
    "        )\n",
    "    sigma = pyro.sample('sigma', dist.HalfNormal(sigma_scale))\n",
    "\n",
    "    beta_loc = pyro.param('beta_loc', torch.tensor(1.))\n",
    "    beta_scale = pyro.param(\n",
    "        'beta_scale', 0.1 * torch.rand(1), constraint=constraints.positive)\n",
    "    beta = pyro.sample('beta', dist.Normal(beta_loc, beta_scale))"
   ]
  },
  {
   "cell_type": "code",
   "execution_count": null,
   "metadata": {},
   "outputs": [],
   "source": [
    "pyro.render_model(\n",
    "    pooled_guide (customers, sales), render_params=True)"
   ]
  },
  {
   "cell_type": "code",
   "execution_count": null,
   "metadata": {},
   "outputs": [],
   "source": [
    "auto_guide = pyro.infer.autoguide.AutoLaplaceApproximation(pooled_model)\n",
    "\n",
    "pyro.render_model(\n",
    "    auto_guide, (customers, sales), render_params=True)"
   ]
  },
  {
   "cell_type": "code",
   "execution_count": null,
   "metadata": {},
   "outputs": [],
   "source": [
    "pyro.clear_param_store()\n",
    "\n",
    "#adam_params = {'lr': 0.005, 'betas': (0.95, 0.99)}\n",
    "adam_params = {'lr': 0.001}\n",
    "optim = Adam(adam_params)\n",
    "svi = SVI(pooled_model, auto_guide, optim, Trace_ELBO())\n",
    "\n",
    "iter = 2000\n",
    "elbo_loss = []\n",
    "for i in range(iter):\n",
    "    loss = svi.step(customers, sales)\n",
    "    elbo_loss.append(loss)\n",
    "\n",
    "plt.figure(figsize=(10, 3))\n",
    "plt.plot(np.arange(1, iter+1), elbo_loss)\n",
    "plt.ylabel('ELBO Loss')\n",
    "plt.xlabel('Iterations')\n",
    "plt.title(f'iter {len(elbo_loss)}, loss: {elbo_loss[-1]:.4f}')\n",
    "plt.show()"
   ]
  },
  {
   "cell_type": "code",
   "execution_count": 171,
   "metadata": {},
   "outputs": [],
   "source": [
    "predictive = Predictive(pooled_model, guide=auto_guide, num_samples=1000)\n",
    "posterior_svi_samples = predictive(customers, None)\n",
    "\n",
    "#sigma, beta = utils.summary(posterior_svi_samples)['sigma'], \\\n",
    "#    utils.summary(posterior_svi_samples)['beta']"
   ]
  },
  {
   "cell_type": "code",
   "execution_count": 172,
   "metadata": {},
   "outputs": [],
   "source": [
    "sales_mu = posterior_svi_samples['y'].mean(axis=0)\n",
    "sales_std = posterior_svi_samples['y'].std(axis=0)\n",
    "\n",
    "predictions_svi = pd.DataFrame({\n",
    "    'customers': customers,\n",
    "    'category': food_category,\n",
    "    'sales': sales, \n",
    "    'sales_mu': sales_mu,\n",
    "    'sales_std': sales_std,\n",
    "    'sales_high': sales_mu + sales_std,\n",
    "    'sales_low': sales_mu - sales_std\n",
    "})\n",
    "\n",
    "predictions_svi = predictions_svi.sort_values(by=['customers'])"
   ]
  },
  {
   "cell_type": "code",
   "execution_count": null,
   "metadata": {},
   "outputs": [],
   "source": [
    "plt.figure(figsize=(10, 6))\n",
    "sns.scatterplot(\n",
    "    x=predictions_svi['customers'], y=predictions_svi['sales'], \n",
    "    hue=predictions_svi['category'], palette='tab10')\n",
    "sns.lineplot(\n",
    "    x=predictions_svi['customers'], y=predictions_svi['sales_mu'],\n",
    "    color='black')\n",
    "plt.fill_between(\n",
    "    x=predictions_svi['customers'], \n",
    "    y1=predictions_svi['sales_low'], \n",
    "    y2=predictions_svi['sales_high'],\n",
    "    color='grey',\n",
    "    alpha=0.25)\n",
    "plt.title('Pooled Parameters - SVI')\n",
    "plt.show()"
   ]
  },
  {
   "cell_type": "markdown",
   "metadata": {},
   "source": [
    "### Mixing Group and Common Parameters"
   ]
  },
  {
   "cell_type": "code",
   "execution_count": 190,
   "metadata": {},
   "outputs": [],
   "source": [
    "def pooled_sigma_model(food_cat, customers, sales=None):\n",
    "\n",
    "    P = len(np.unique(food_cat))\n",
    "    N = len(customers)\n",
    "\n",
    "    with pyro.plate('food_cat_i', P):\n",
    "        beta = pyro.sample('beta', dist.Normal(10., 20.))\n",
    "    \n",
    "    sigma = pyro.sample('sigma', dist.HalfNormal(20.))\n",
    "\n",
    "    with pyro.plate('data', N):\n",
    "        mu = pyro.deterministic('mu', beta[food_cat] * customers)\n",
    "        output = pyro.sample('y', dist.Normal(mu, sigma), obs=sales)"
   ]
  },
  {
   "cell_type": "code",
   "execution_count": 191,
   "metadata": {},
   "outputs": [
    {
     "data": {
      "image/svg+xml": "<?xml version=\"1.0\" encoding=\"UTF-8\" standalone=\"no\"?>\n<!DOCTYPE svg PUBLIC \"-//W3C//DTD SVG 1.1//EN\"\n \"http://www.w3.org/Graphics/SVG/1.1/DTD/svg11.dtd\">\n<!-- Generated by graphviz version 2.40.1 (20161225.0304)\n -->\n<!-- Title: %3 Pages: 1 -->\n<svg width=\"297pt\" height=\"187pt\"\n viewBox=\"0.00 0.00 297.50 187.00\" xmlns=\"http://www.w3.org/2000/svg\" xmlns:xlink=\"http://www.w3.org/1999/xlink\">\n<g id=\"graph0\" class=\"graph\" transform=\"scale(1 1) rotate(0) translate(4 183)\">\n<title>%3</title>\n<polygon fill=\"#ffffff\" stroke=\"transparent\" points=\"-4,4 -4,-183 293.4971,-183 293.4971,4 -4,4\"/>\n<g id=\"clust1\" class=\"cluster\">\n<title>cluster_food_cat_i</title>\n<polygon fill=\"none\" stroke=\"#000000\" points=\"73.4971,-96 73.4971,-171 149.4971,-171 149.4971,-96 73.4971,-96\"/>\n<text text-anchor=\"middle\" x=\"111.4971\" y=\"-103.8\" font-family=\"Times,serif\" font-size=\"14.00\" fill=\"#000000\">food_cat_i</text>\n</g>\n<g id=\"clust2\" class=\"cluster\">\n<title>cluster_data</title>\n<polygon fill=\"none\" stroke=\"#000000\" points=\"38.4971,-8 38.4971,-83 180.4971,-83 180.4971,-8 38.4971,-8\"/>\n<text text-anchor=\"middle\" x=\"160.4971\" y=\"-15.8\" font-family=\"Times,serif\" font-size=\"14.00\" fill=\"#000000\">data</text>\n</g>\n<!-- sigma -->\n<g id=\"node1\" class=\"node\">\n<title>sigma</title>\n<ellipse fill=\"#ffffff\" stroke=\"#000000\" cx=\"32.4971\" cy=\"-145\" rx=\"32.4942\" ry=\"18\"/>\n<text text-anchor=\"middle\" x=\"32.4971\" y=\"-141.3\" font-family=\"Times,serif\" font-size=\"14.00\" fill=\"#000000\">sigma</text>\n</g>\n<!-- y -->\n<g id=\"node4\" class=\"node\">\n<title>y</title>\n<ellipse fill=\"#c0c0c0\" stroke=\"#000000\" cx=\"73.4971\" cy=\"-57\" rx=\"27\" ry=\"18\"/>\n<text text-anchor=\"middle\" x=\"73.4971\" y=\"-53.3\" font-family=\"Times,serif\" font-size=\"14.00\" fill=\"#000000\">y</text>\n</g>\n<!-- sigma&#45;&gt;y -->\n<g id=\"edge2\" class=\"edge\">\n<title>sigma&#45;&gt;y</title>\n<path fill=\"none\" stroke=\"#000000\" d=\"M40.7941,-127.1919C46.6117,-114.7053 54.4907,-97.7942 61.0574,-83.6999\"/>\n<polygon fill=\"#000000\" stroke=\"#000000\" points=\"64.3017,-85.0239 65.3524,-74.4813 57.9566,-82.0676 64.3017,-85.0239\"/>\n</g>\n<!-- beta -->\n<g id=\"node2\" class=\"node\">\n<title>beta</title>\n<ellipse fill=\"#ffffff\" stroke=\"#000000\" cx=\"109.4971\" cy=\"-145\" rx=\"27\" ry=\"18\"/>\n<text text-anchor=\"middle\" x=\"109.4971\" y=\"-141.3\" font-family=\"Times,serif\" font-size=\"14.00\" fill=\"#000000\">beta</text>\n</g>\n<!-- beta&#45;&gt;y -->\n<g id=\"edge1\" class=\"edge\">\n<title>beta&#45;&gt;y</title>\n<path fill=\"none\" stroke=\"#000000\" d=\"M102.3847,-127.614C97.29,-115.1605 90.3315,-98.1507 84.5206,-83.9463\"/>\n<polygon fill=\"#000000\" stroke=\"#000000\" points=\"87.7438,-82.5813 80.718,-74.6511 81.265,-85.2318 87.7438,-82.5813\"/>\n</g>\n<!-- mu -->\n<g id=\"node3\" class=\"node\">\n<title>mu</title>\n<ellipse fill=\"#c0c0c0\" stroke=\"#000000\" cx=\"145.4971\" cy=\"-57\" rx=\"27\" ry=\"18\"/>\n<text text-anchor=\"middle\" x=\"145.4971\" y=\"-53.3\" font-family=\"Times,serif\" font-size=\"14.00\" fill=\"#000000\">mu</text>\n</g>\n<!-- distribution_description_node -->\n<g id=\"node5\" class=\"node\">\n<title>distribution_description_node</title>\n<text text-anchor=\"start\" x=\"165.4971\" y=\"-163.8\" font-family=\"Times,serif\" font-size=\"14.00\" fill=\"#000000\">beta ~ Normal</text>\n<text text-anchor=\"start\" x=\"165.4971\" y=\"-148.8\" font-family=\"Times,serif\" font-size=\"14.00\" fill=\"#000000\">sigma ~ HalfNormal</text>\n<text text-anchor=\"start\" x=\"165.4971\" y=\"-133.8\" font-family=\"Times,serif\" font-size=\"14.00\" fill=\"#000000\">mu ~ Delta</text>\n<text text-anchor=\"start\" x=\"165.4971\" y=\"-118.8\" font-family=\"Times,serif\" font-size=\"14.00\" fill=\"#000000\">y ~ Normal</text>\n</g>\n</g>\n</svg>\n",
      "text/plain": [
       "<graphviz.graphs.Digraph at 0x7fa7d3130e80>"
      ]
     },
     "execution_count": 191,
     "metadata": {},
     "output_type": "execute_result"
    }
   ],
   "source": [
    "pyro.render_model(\n",
    "    pooled_sigma_model, (food_category, customers, sales),\n",
    "    render_distributions=True\n",
    ")"
   ]
  },
  {
   "cell_type": "code",
   "execution_count": 192,
   "metadata": {},
   "outputs": [
    {
     "name": "stderr",
     "output_type": "stream",
     "text": [
      "Sample: 100%|██████████| 800/800 [00:08, 94.70it/s, step size=8.38e-01, acc. prob=0.881] \n"
     ]
    }
   ],
   "source": [
    "kernel = NUTS(pooled_sigma_model)\n",
    "mcmc_pooled_sigma = MCMC(kernel, 500, 300)\n",
    "mcmc_pooled_sigma.run(food_category, customers, sales)"
   ]
  },
  {
   "cell_type": "code",
   "execution_count": 200,
   "metadata": {},
   "outputs": [
    {
     "name": "stdout",
     "output_type": "stream",
     "text": [
      "\n",
      "                mean       std    median      5.0%     95.0%     n_eff     r_hat\n",
      "   beta[0]     13.02      0.03     13.02     12.97     13.07    750.80      1.00\n",
      "   beta[1]      8.14      0.38      8.14      7.49      8.72    428.68      1.00\n",
      "   beta[2]      6.11      0.06      6.12      6.02      6.21    370.32      1.00\n",
      "     sigma     39.25      1.34     39.12     37.09     41.32    387.78      1.00\n",
      "\n",
      "Number of divergences: 0\n"
     ]
    }
   ],
   "source": [
    "mcmc_pooled_sigma.summary()"
   ]
  },
  {
   "cell_type": "code",
   "execution_count": 194,
   "metadata": {},
   "outputs": [
    {
     "name": "stderr",
     "output_type": "stream",
     "text": [
      "/Users/wastechs/opt/anaconda3/envs/probs/lib/python3.8/site-packages/arviz/data/io_pyro.py:157: UserWarning: Could not get vectorized trace, log_likelihood group will be omitted. Check your model vectorization or set log_likelihood=False\n",
      "  warnings.warn(\n",
      "posterior predictive shape not compatible with number of chains and draws.This can mean that some draws or even whole chains are not represented.\n",
      "posterior predictive shape not compatible with number of chains and draws.This can mean that some draws or even whole chains are not represented.\n"
     ]
    }
   ],
   "source": [
    "pooled_sigma_samples = mcmc_pooled_sigma.get_samples(1000)\n",
    "pooled_sigma_predictive = Predictive(pooled_sigma_model, pooled_sigma_samples)(food_category, customers, None)\n",
    "az_pooled_sigma_inf = az.from_pyro(\n",
    "    posterior=mcmc_pooled_sigma, posterior_predictive=pooled_sigma_predictive)"
   ]
  },
  {
   "cell_type": "code",
   "execution_count": 264,
   "metadata": {},
   "outputs": [
    {
     "name": "stderr",
     "output_type": "stream",
     "text": [
      "/Users/wastechs/opt/anaconda3/envs/probs/lib/python3.8/site-packages/arviz/plots/hdiplot.py:157: FutureWarning: hdi currently interprets 2d data as (draw, shape) but this will change in a future release to (chain, draw) for coherence with other functions\n",
      "  hdi_data = hdi(y, hdi_prob=hdi_prob, circular=circular, multimodal=False, **hdi_kwargs)\n",
      "/Users/wastechs/opt/anaconda3/envs/probs/lib/python3.8/site-packages/arviz/plots/hdiplot.py:157: FutureWarning: hdi currently interprets 2d data as (draw, shape) but this will change in a future release to (chain, draw) for coherence with other functions\n",
      "  hdi_data = hdi(y, hdi_prob=hdi_prob, circular=circular, multimodal=False, **hdi_kwargs)\n",
      "/Users/wastechs/opt/anaconda3/envs/probs/lib/python3.8/site-packages/arviz/plots/hdiplot.py:157: FutureWarning: hdi currently interprets 2d data as (draw, shape) but this will change in a future release to (chain, draw) for coherence with other functions\n",
      "  hdi_data = hdi(y, hdi_prob=hdi_prob, circular=circular, multimodal=False, **hdi_kwargs)\n"
     ]
    },
    {
     "data": {
      "text/plain": [
       "Text(0.5, 1.0, 'Pooled Sigma')"
      ]
     },
     "execution_count": 264,
     "metadata": {},
     "output_type": "execute_result"
    },
    {
     "data": {
      "image/png": "[encoded data removed]",
      "text/plain": [
       "<Figure size 720x432 with 1 Axes>"
      ]
     },
     "metadata": {},
     "output_type": "display_data"
    }
   ],
   "source": [
    "sales_df['food_cat_encode'] = food_category\n",
    "\n",
    "fig, ax = plt.subplots(figsize=(10, 6))\n",
    "az_pooled_sigma_inf['posterior']['sigma'].mean().values\n",
    "\n",
    "for i in range(3):\n",
    "    category_mask = sales_df['food_cat_encode'] == i\n",
    "    mu_cat = pooled_sigma_predictive['y'][:, category_mask].mean(axis=0)\n",
    "\n",
    "    customers = sales_df.loc[category_mask, ['customers']].values.flatten()\n",
    "    sales = sales_df.loc[category_mask, ['sales']].values.flatten()\n",
    "\n",
    "    ax.plot(customers, mu_cat, c='black')\n",
    "    ax.scatter(customers, sales)\n",
    "    az.plot_hdi(\n",
    "        x=customers,\n",
    "        y=pooled_sigma_predictive['y'][:, category_mask],\n",
    "        color='grey'\n",
    "    )\n",
    "    \n",
    "ax.set_xlabel('Customers')\n",
    "ax.set_ylabel('Sales')\n",
    "ax.set_title('Pooled Sigma')"
   ]
  },
  {
   "cell_type": "markdown",
   "metadata": {},
   "source": [
    "## Hierarchical Models"
   ]
  },
  {
   "cell_type": "code",
   "execution_count": null,
   "metadata": {},
   "outputs": [],
   "source": []
  }
 ],
 "metadata": {
  "kernelspec": {
   "display_name": "Python 3.8.13 ('probs')",
   "language": "python",
   "name": "python3"
  },
  "language_info": {
   "codemirror_mode": {
    "name": "ipython",
    "version": 3
   },
   "file_extension": ".py",
   "mimetype": "text/x-python",
   "name": "python",
   "nbconvert_exporter": "python",
   "pygments_lexer": "ipython3",
   "version": "3.8.13"
  },
  "orig_nbformat": 4,
  "vscode": {
   "interpreter": {
    "hash": "2c33006829a890ff24cd6d87e8aab3c58d0f3e9ab7bcb1c9fae139f2303d7a53"
   }
  }
 },
 "nbformat": 4,
 "nbformat_minor": 2
}
