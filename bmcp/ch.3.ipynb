{
 "cells": [
  {
   "cell_type": "code",
   "execution_count": 1,
   "metadata": {},
   "outputs": [
    {
     "name": "stderr",
     "output_type": "stream",
     "text": [
      "/Users/wastechs/opt/anaconda3/envs/probs/lib/python3.8/site-packages/tqdm/auto.py:22: TqdmWarning: IProgress not found. Please update jupyter and ipywidgets. See https://ipywidgets.readthedocs.io/en/stable/user_install.html\n",
      "  from .autonotebook import tqdm as notebook_tqdm\n"
     ]
    }
   ],
   "source": [
    "import pandas as pd\n",
    "import matplotlib.pyplot as plt\n",
    "import numpy as np\n",
    "import arviz as az\n",
    "import torch\n",
    "import pyro\n",
    "import pyro.distributions as dist\n",
    "from pyro.infer import Predictive, NUTS, MCMC\n",
    "from pyro.infer.autoguide import AutoLaplaceApproximation\n",
    "from pyro.infer import SVI, Trace_ELBO\n",
    "import pyro.optim as optim\n",
    "from palmerpenguins import load_penguins"
   ]
  },
  {
   "cell_type": "code",
   "execution_count": 2,
   "metadata": {},
   "outputs": [],
   "source": [
    "penguins = load_penguins()\n",
    "penguins.dropna(how='any', axis=0, inplace=True)"
   ]
  },
  {
   "cell_type": "code",
   "execution_count": null,
   "metadata": {},
   "outputs": [],
   "source": [
    "penguins"
   ]
  },
  {
   "cell_type": "markdown",
   "metadata": {},
   "source": [
    "## Pyro"
   ]
  },
  {
   "cell_type": "code",
   "execution_count": 3,
   "metadata": {},
   "outputs": [],
   "source": [
    "adelie_mask = (penguins['species'] == 'Adelie')\n",
    "adelie_mass_obs = torch.from_numpy(penguins.loc[adelie_mask, 'body_mass_g'].values)"
   ]
  },
  {
   "cell_type": "markdown",
   "metadata": {},
   "source": [
    "### Code 3.3"
   ]
  },
  {
   "cell_type": "code",
   "execution_count": null,
   "metadata": {},
   "outputs": [],
   "source": [
    "def model_prior(obs=None):\n",
    "    # priors over params.\n",
    "    sigma = pyro.sample('sigma', dist.HalfNormal(100., 2000.))\n",
    "    mu = pyro.sample('mu', dist.Normal(4000, 3000))\n",
    "    mass = pyro.sample('mass', dist.Normal(mu, sigma), obs=obs)"
   ]
  },
  {
   "cell_type": "code",
   "execution_count": null,
   "metadata": {},
   "outputs": [],
   "source": [
    "# prior predictive check --> mu and sigma\n",
    "prior_samples = Predictive(\n",
    "    model_prior, {}, num_samples=1000, return_sites=['sigma', 'mu', 'mass'])(adelie_mass_obs)"
   ]
  },
  {
   "cell_type": "code",
   "execution_count": null,
   "metadata": {},
   "outputs": [],
   "source": [
    "az.plot_density(data=prior_samples['mass'].numpy())"
   ]
  },
  {
   "cell_type": "code",
   "execution_count": null,
   "metadata": {},
   "outputs": [],
   "source": [
    "az.plot_density(data=prior_samples['mu'].numpy())"
   ]
  },
  {
   "cell_type": "code",
   "execution_count": null,
   "metadata": {},
   "outputs": [],
   "source": [
    "az.plot_density(data=prior_samples['sigma'].numpy())"
   ]
  },
  {
   "cell_type": "code",
   "execution_count": null,
   "metadata": {},
   "outputs": [],
   "source": [
    "def model(obs=None):\n",
    "    # priors over params.\n",
    "    sigma = pyro.sample('sigma', dist.HalfNormal(100., 2000.))\n",
    "    mu = pyro.sample('mu', dist.Normal(4000, 3000))\n",
    "    mass = pyro.sample('mass', dist.Normal(mu, sigma), obs=obs)\n",
    "\n",
    "    return mass"
   ]
  },
  {
   "cell_type": "code",
   "execution_count": null,
   "metadata": {},
   "outputs": [],
   "source": [
    "kernel = NUTS(model)\n",
    "mcmc = MCMC(kernel, num_samples=2000, warmup_steps=1000)\n",
    "mcmc.run(obs=adelie_mass_obs)"
   ]
  },
  {
   "cell_type": "code",
   "execution_count": null,
   "metadata": {},
   "outputs": [],
   "source": [
    "mcmc.summary()"
   ]
  },
  {
   "cell_type": "code",
   "execution_count": null,
   "metadata": {},
   "outputs": [],
   "source": [
    "samples_1 = mcmc.get_samples()"
   ]
  },
  {
   "cell_type": "code",
   "execution_count": null,
   "metadata": {},
   "outputs": [],
   "source": [
    "samples_1"
   ]
  },
  {
   "cell_type": "markdown",
   "metadata": {},
   "source": [
    "### 3.2.1 - Linear Penguins"
   ]
  },
  {
   "cell_type": "code",
   "execution_count": 4,
   "metadata": {},
   "outputs": [],
   "source": [
    "adelie_flipper_length = torch.from_numpy(penguins.loc[adelie_mask, 'flipper_length_mm'].values)\n",
    "adelie_mass = torch.from_numpy(penguins.loc[adelie_mask, 'body_mass_g'].values)"
   ]
  },
  {
   "cell_type": "code",
   "execution_count": 5,
   "metadata": {},
   "outputs": [],
   "source": [
    "def linear_model(flipper_length, mass=None):\n",
    "\n",
    "    sigma = pyro.sample('sigma', dist.HalfNormal(100., 2000.))\n",
    "    beta_0 = pyro.sample('beta_0', dist.Normal(0., 4000.))\n",
    "    beta_1 = pyro.sample('beta_1', dist.Normal(0., 4000.))\n",
    "    mu = pyro.deterministic('mu', beta_0 + beta_1 * flipper_length)\n",
    "\n",
    "    with pyro.plate('plate'):\n",
    "        return pyro.sample('mass', dist.Normal(mu, sigma), obs=mass)"
   ]
  },
  {
   "cell_type": "code",
   "execution_count": 6,
   "metadata": {},
   "outputs": [
    {
     "data": {
      "image/svg+xml": "<?xml version=\"1.0\" encoding=\"UTF-8\" standalone=\"no\"?>\n<!DOCTYPE svg PUBLIC \"-//W3C//DTD SVG 1.1//EN\"\n \"http://www.w3.org/Graphics/SVG/1.1/DTD/svg11.dtd\">\n<!-- Generated by graphviz version 2.40.1 (20161225.0304)\n -->\n<!-- Title: %3 Pages: 1 -->\n<svg width=\"471pt\" height=\"202pt\"\n viewBox=\"0.00 0.00 471.50 202.00\" xmlns=\"http://www.w3.org/2000/svg\" xmlns:xlink=\"http://www.w3.org/1999/xlink\">\n<g id=\"graph0\" class=\"graph\" transform=\"scale(1 1) rotate(0) translate(4 198)\">\n<title>%3</title>\n<polygon fill=\"#ffffff\" stroke=\"transparent\" points=\"-4,4 -4,-198 467.4971,-198 467.4971,4 -4,4\"/>\n<g id=\"clust1\" class=\"cluster\">\n<title>cluster_plate</title>\n<polygon fill=\"none\" stroke=\"#000000\" points=\"81.4971,-8 81.4971,-83 155.4971,-83 155.4971,-8 81.4971,-8\"/>\n<text text-anchor=\"middle\" x=\"133.4971\" y=\"-15.8\" font-family=\"Times,serif\" font-size=\"14.00\" fill=\"#000000\">plate</text>\n</g>\n<!-- sigma -->\n<g id=\"node1\" class=\"node\">\n<title>sigma</title>\n<ellipse fill=\"#ffffff\" stroke=\"#000000\" cx=\"32.4971\" cy=\"-152.5\" rx=\"32.4942\" ry=\"18\"/>\n<text text-anchor=\"middle\" x=\"32.4971\" y=\"-148.8\" font-family=\"Times,serif\" font-size=\"14.00\" fill=\"#000000\">sigma</text>\n</g>\n<!-- mass -->\n<g id=\"node5\" class=\"node\">\n<title>mass</title>\n<ellipse fill=\"#c0c0c0\" stroke=\"#000000\" cx=\"118.4971\" cy=\"-57\" rx=\"29.4969\" ry=\"18\"/>\n<text text-anchor=\"middle\" x=\"118.4971\" y=\"-53.3\" font-family=\"Times,serif\" font-size=\"14.00\" fill=\"#000000\">mass</text>\n</g>\n<!-- sigma&#45;&gt;mass -->\n<g id=\"edge2\" class=\"edge\">\n<title>sigma&#45;&gt;mass</title>\n<path fill=\"none\" stroke=\"#000000\" d=\"M47.0858,-136.2997C60.883,-120.9785 81.7436,-97.8135 97.3613,-80.4706\"/>\n<polygon fill=\"#000000\" stroke=\"#000000\" points=\"100.0329,-82.7342 104.1238,-72.961 94.8311,-78.0499 100.0329,-82.7342\"/>\n</g>\n<!-- beta_0 -->\n<g id=\"node2\" class=\"node\">\n<title>beta_0</title>\n<ellipse fill=\"#ffffff\" stroke=\"#000000\" cx=\"118.4971\" cy=\"-152.5\" rx=\"35.194\" ry=\"18\"/>\n<text text-anchor=\"middle\" x=\"118.4971\" y=\"-148.8\" font-family=\"Times,serif\" font-size=\"14.00\" fill=\"#000000\">beta_0</text>\n</g>\n<!-- beta_0&#45;&gt;mass -->\n<g id=\"edge3\" class=\"edge\">\n<title>beta_0&#45;&gt;mass</title>\n<path fill=\"none\" stroke=\"#000000\" d=\"M118.4971,-134.0866C118.4971,-120.2585 118.4971,-101.0711 118.4971,-85.2988\"/>\n<polygon fill=\"#000000\" stroke=\"#000000\" points=\"121.9972,-85.0329 118.4971,-75.033 114.9972,-85.033 121.9972,-85.0329\"/>\n</g>\n<!-- beta_1 -->\n<g id=\"node3\" class=\"node\">\n<title>beta_1</title>\n<ellipse fill=\"#ffffff\" stroke=\"#000000\" cx=\"206.4971\" cy=\"-152.5\" rx=\"35.194\" ry=\"18\"/>\n<text text-anchor=\"middle\" x=\"206.4971\" y=\"-148.8\" font-family=\"Times,serif\" font-size=\"14.00\" fill=\"#000000\">beta_1</text>\n</g>\n<!-- beta_1&#45;&gt;mass -->\n<g id=\"edge1\" class=\"edge\">\n<title>beta_1&#45;&gt;mass</title>\n<path fill=\"none\" stroke=\"#000000\" d=\"M191.1687,-135.8652C176.9912,-120.4794 155.7794,-97.4598 139.9273,-80.2566\"/>\n<polygon fill=\"#000000\" stroke=\"#000000\" points=\"142.4159,-77.7923 133.0655,-72.8101 137.2681,-82.5358 142.4159,-77.7923\"/>\n</g>\n<!-- mu -->\n<g id=\"node4\" class=\"node\">\n<title>mu</title>\n<ellipse fill=\"#c0c0c0\" stroke=\"#000000\" cx=\"286.4971\" cy=\"-152.5\" rx=\"27\" ry=\"18\"/>\n<text text-anchor=\"middle\" x=\"286.4971\" y=\"-148.8\" font-family=\"Times,serif\" font-size=\"14.00\" fill=\"#000000\">mu</text>\n</g>\n<!-- distribution_description_node -->\n<g id=\"node6\" class=\"node\">\n<title>distribution_description_node</title>\n<text text-anchor=\"start\" x=\"339.4971\" y=\"-178.8\" font-family=\"Times,serif\" font-size=\"14.00\" fill=\"#000000\">sigma ~ HalfNormal</text>\n<text text-anchor=\"start\" x=\"339.4971\" y=\"-163.8\" font-family=\"Times,serif\" font-size=\"14.00\" fill=\"#000000\">beta_0 ~ Normal</text>\n<text text-anchor=\"start\" x=\"339.4971\" y=\"-148.8\" font-family=\"Times,serif\" font-size=\"14.00\" fill=\"#000000\">beta_1 ~ Normal</text>\n<text text-anchor=\"start\" x=\"339.4971\" y=\"-133.8\" font-family=\"Times,serif\" font-size=\"14.00\" fill=\"#000000\">mu ~ Delta</text>\n<text text-anchor=\"start\" x=\"339.4971\" y=\"-118.8\" font-family=\"Times,serif\" font-size=\"14.00\" fill=\"#000000\">mass ~ Normal</text>\n</g>\n</g>\n</svg>\n",
      "text/plain": [
       "<graphviz.graphs.Digraph at 0x7fcd79a2db20>"
      ]
     },
     "execution_count": 6,
     "metadata": {},
     "output_type": "execute_result"
    }
   ],
   "source": [
    "pyro.render_model(\n",
    "    linear_model, \n",
    "    model_args=(adelie_flipper_length, adelie_mass),\n",
    "    render_distributions=True\n",
    "    )"
   ]
  },
  {
   "cell_type": "code",
   "execution_count": null,
   "metadata": {},
   "outputs": [],
   "source": [
    "model_321 = AutoLaplaceApproximation(linear_model)\n",
    "svi = SVI(\n",
    "    linear_model,\n",
    "    model_321,\n",
    "    pyro.optim.Adam({'lr': 0.01}),\n",
    "    Trace_ELBO(),\n",
    "    flipper_length=adelie_flipper_length,\n",
    "    mass=adelie_mass\n",
    ")"
   ]
  },
  {
   "cell_type": "code",
   "execution_count": 30,
   "metadata": {},
   "outputs": [
    {
     "name": "stdout",
     "output_type": "stream",
     "text": [
      "Elbo loss: 1087530651.5757895\n",
      "Elbo loss: 179395883.982979\n",
      "Elbo loss: 127925090.11117476\n",
      "Elbo loss: 84963076.07066269\n",
      "Elbo loss: 47587655.07687865\n",
      "Elbo loss: 32240501.48146451\n",
      "Elbo loss: 21482992.970787298\n",
      "Elbo loss: 23314826.991697907\n",
      "Elbo loss: 15787697.856639942\n",
      "Elbo loss: 16771842.602820786\n"
     ]
    },
    {
     "data": {
      "image/png": "[encoded data removed]",
      "text/plain": [
       "<Figure size 360x144 with 1 Axes>"
      ]
     },
     "metadata": {
      "needs_background": "light"
     },
     "output_type": "display_data"
    }
   ],
   "source": [
    "pyro.clear_param_store()\n",
    "\n",
    "# These should be reset each training loop.\n",
    "auto_guide = pyro.infer.autoguide.AutoNormal(linear_model)\n",
    "adam = pyro.optim.Adam({'lr': 0.01})\n",
    "elbo = Trace_ELBO()\n",
    "svi = SVI(linear_model, auto_guide, adam, elbo)\n",
    "\n",
    "losses = []\n",
    "for step in range(1000):  # Consider running for more steps.\n",
    "    loss = svi.step(adelie_flipper_length, adelie_mass)\n",
    "    losses.append(loss)\n",
    "    if step % 100 == 0:\n",
    "        print(\"Elbo loss: {}\".format(loss))\n",
    "\n",
    "plt.figure(figsize=(5, 2))\n",
    "plt.plot(losses)\n",
    "plt.xlabel(\"SVI step\")\n",
    "plt.ylabel(\"ELBO loss\");"
   ]
  },
  {
   "cell_type": "code",
   "execution_count": 31,
   "metadata": {},
   "outputs": [],
   "source": [
    "predictive = Predictive(linear_model, guide=auto_guide, num_samples=1000)\n",
    "svi_samples = predictive(adelie_flipper_length, mass=None)\n",
    "svi_mass = svi_samples['mass']"
   ]
  },
  {
   "cell_type": "code",
   "execution_count": 35,
   "metadata": {},
   "outputs": [
    {
     "data": {
      "image/png": "[encoded data removed]",
      "text/plain": [
       "<Figure size 720x432 with 1 Axes>"
      ]
     },
     "metadata": {
      "needs_background": "light"
     },
     "output_type": "display_data"
    }
   ],
   "source": [
    "plt.figure(figsize=(10, 6))\n",
    "plt.scatter(adelie_flipper_length.numpy(), adelie_mass.numpy(), alpha=0.5)\n",
    "#plt.plot(adelie_flipper_length.numpy(), svi_mass.mean(axis=0))\n",
    "plt.title('$\\mu =  \\\\beta_0 + \\\\beta_1X_1$')\n",
    "plt.show()"
   ]
  },
  {
   "cell_type": "markdown",
   "metadata": {},
   "source": [
    "### Section 3.4.2"
   ]
  },
  {
   "cell_type": "code",
   "execution_count": null,
   "metadata": {},
   "outputs": [],
   "source": [
    "species_filter = penguins['species'].isin(['Adelie', 'Chinstrap'])\n",
    "penguins = penguins[species_filter]"
   ]
  },
  {
   "cell_type": "code",
   "execution_count": null,
   "metadata": {},
   "outputs": [],
   "source": [
    "penguins['bill_length_mm_centered'] = (penguins['bill_length_mm'] - penguins['bill_length_mm'].mean()) #/ (penguins['bill_length_mm'].std())"
   ]
  },
  {
   "cell_type": "code",
   "execution_count": null,
   "metadata": {},
   "outputs": [],
   "source": [
    "penguins['sex_code'] = pd.Categorical(penguins['sex']).codes\n",
    "penguins['species_code'] = pd.Categorical(penguins['species']).codes"
   ]
  },
  {
   "cell_type": "code",
   "execution_count": null,
   "metadata": {},
   "outputs": [],
   "source": [
    "penguins['species_code'].value_counts()"
   ]
  },
  {
   "cell_type": "code",
   "execution_count": null,
   "metadata": {},
   "outputs": [],
   "source": [
    "# design matrix\n",
    "data = torch.tensor(\n",
    "    penguins['bill_length_mm_centered'].values, dtype=torch.float\n",
    "    )\n",
    "\n",
    "outcome = torch.tensor(\n",
    "    penguins['species_code'].values, dtype=torch.float\n",
    "    )"
   ]
  },
  {
   "cell_type": "code",
   "execution_count": null,
   "metadata": {},
   "outputs": [],
   "source": [
    "def model(bill_length, outcome=None):\n",
    "    \n",
    "    beta_0 = pyro.sample('beta_0', dist.Normal(0., 10.))\n",
    "    beta_1 = pyro.sample('beta_1', dist.Normal(0., 10.))\n",
    "\n",
    "    mu = beta_0 + bill_length * beta_1\n",
    "\n",
    "    theta = pyro.deterministic('mu', torch.sigmoid(mu))\n",
    "\n",
    "    with pyro.plate('outcome', bill_length.shape[0]):\n",
    "        bernoulli_outcome = pyro.sample('bernoulli_outcome', dist.Bernoulli(theta), obs=outcome)\n",
    "        return bernoulli_outcome"
   ]
  },
  {
   "cell_type": "code",
   "execution_count": null,
   "metadata": {},
   "outputs": [],
   "source": [
    "kernel = NUTS(model)\n",
    "\n",
    "mcmc = MCMC(\n",
    "    kernel,\n",
    "    warmup_steps=500,\n",
    "    num_samples=1000,\n",
    "    num_chains=1\n",
    ")\n",
    "\n",
    "mcmc.run(data, outcome)"
   ]
  },
  {
   "cell_type": "markdown",
   "metadata": {},
   "source": [
    "### Posterior\n",
    "\n",
    "1. sample from posterior"
   ]
  },
  {
   "cell_type": "code",
   "execution_count": null,
   "metadata": {},
   "outputs": [],
   "source": [
    "mcmc.summary()"
   ]
  },
  {
   "cell_type": "markdown",
   "metadata": {},
   "source": [
    "Using the `Predictive` utility, you can generate samples from the posterior predictive distribution. Here, I generate 1000 samples from the trained model"
   ]
  },
  {
   "cell_type": "code",
   "execution_count": null,
   "metadata": {},
   "outputs": [],
   "source": [
    "samples = mcmc.get_samples(num_samples=1000)\n",
    "\n",
    "predictive = Predictive(model=model, posterior_samples=samples)\n",
    "#predictive = Predictive(model=model, num_samples=1000)\n",
    "mcmc_samples = predictive(bill_length=data, outcome=None)\n",
    "mcmc_probs = mcmc_samples['mu'].mean(axis=0).numpy()"
   ]
  },
  {
   "cell_type": "code",
   "execution_count": null,
   "metadata": {},
   "outputs": [],
   "source": [
    "predictions = pd.DataFrame(\n",
    "    {\n",
    "        'probs': mcmc_probs.flatten(),\n",
    "        'bill_length': penguins['bill_length_mm'].values,\n",
    "        'species': penguins['species_code'].values\n",
    "\n",
    "    }\n",
    ")"
   ]
  },
  {
   "cell_type": "code",
   "execution_count": null,
   "metadata": {},
   "outputs": [],
   "source": [
    "predictions"
   ]
  },
  {
   "cell_type": "code",
   "execution_count": null,
   "metadata": {},
   "outputs": [],
   "source": [
    "plt.scatter(x=predictions['bill_length'], y=predictions['probs'], c=predictions['species'])"
   ]
  },
  {
   "cell_type": "code",
   "execution_count": null,
   "metadata": {},
   "outputs": [],
   "source": [
    "probs = predictive(bill_length=data)['mu'].numpy()\n",
    "probs_mean = np.mean(probs, axis=0)"
   ]
  },
  {
   "cell_type": "code",
   "execution_count": null,
   "metadata": {},
   "outputs": [],
   "source": [
    "probs.shape"
   ]
  },
  {
   "cell_type": "code",
   "execution_count": null,
   "metadata": {},
   "outputs": [],
   "source": [
    "probs_ci = np.percentile(probs, q=[1.5, 98.5], axis=0)"
   ]
  },
  {
   "cell_type": "code",
   "execution_count": null,
   "metadata": {},
   "outputs": [],
   "source": [
    "plt.figure(figsize=(10, 6))\n",
    "plt.scatter(x=data + penguins['bill_length_mm'].mean(), y=probs_mean)\n",
    "#plt.fill_between(probs_mean, probs_ci[0], probs_ci[1])\n",
    "plt.show()"
   ]
  },
  {
   "cell_type": "code",
   "execution_count": null,
   "metadata": {},
   "outputs": [],
   "source": [
    "az.plot_trace(az.from_pyro(mcmc))\n",
    "plt.tight_layout()\n",
    "plt.show()"
   ]
  },
  {
   "cell_type": "code",
   "execution_count": null,
   "metadata": {},
   "outputs": [],
   "source": [
    "coef = mcmc.get_samples(num_samples=5000)"
   ]
  },
  {
   "cell_type": "code",
   "execution_count": null,
   "metadata": {},
   "outputs": [],
   "source": [
    "mu = Predictive(model, posterior_samples=coef)\n",
    "\n",
    "predictive = Predictive(model=model, num_samples=1000, return_sites=['beta_0', 'beta_1', 'theta', 'probs_species'])"
   ]
  },
  {
   "cell_type": "code",
   "execution_count": null,
   "metadata": {},
   "outputs": [],
   "source": [
    "mu"
   ]
  },
  {
   "cell_type": "code",
   "execution_count": null,
   "metadata": {},
   "outputs": [],
   "source": [
    "predictive(bill_length=10)"
   ]
  },
  {
   "cell_type": "code",
   "execution_count": null,
   "metadata": {},
   "outputs": [],
   "source": []
  }
 ],
 "metadata": {
  "kernelspec": {
   "display_name": "Python 3.8.13 ('probs')",
   "language": "python",
   "name": "python3"
  },
  "language_info": {
   "codemirror_mode": {
    "name": "ipython",
    "version": 3
   },
   "file_extension": ".py",
   "mimetype": "text/x-python",
   "name": "python",
   "nbconvert_exporter": "python",
   "pygments_lexer": "ipython3",
   "version": "3.8.13"
  },
  "orig_nbformat": 4,
  "vscode": {
   "interpreter": {
    "hash": "2c33006829a890ff24cd6d87e8aab3c58d0f3e9ab7bcb1c9fae139f2303d7a53"
   }
  }
 },
 "nbformat": 4,
 "nbformat_minor": 2
}
