{
 "cells": [
  {
   "cell_type": "code",
   "execution_count": 349,
   "metadata": {},
   "outputs": [],
   "source": [
    "import pandas as pd\n",
    "import matplotlib.pyplot as plt\n",
    "import seaborn as sns\n",
    "import numpy as np\n",
    "import arviz as az\n",
    "import torch\n",
    "import pyro\n",
    "import pyro.distributions as dist\n",
    "from pyro.distributions import constraints\n",
    "from pyro.infer import Predictive, TracePredictive, NUTS, MCMC\n",
    "from pyro.infer.autoguide import AutoLaplaceApproximation\n",
    "from pyro.infer import SVI, Trace_ELBO\n",
    "import pyro.optim as optim\n",
    "from pyro.infer.mcmc.util import summary\n",
    "from palmerpenguins import load_penguins\n",
    "plt.style.use('ggplot')"
   ]
  },
  {
   "cell_type": "markdown",
   "metadata": {},
   "source": [
    "# Chapter 3"
   ]
  },
  {
   "cell_type": "code",
   "execution_count": 2,
   "metadata": {},
   "outputs": [],
   "source": [
    "penguins = load_penguins()\n",
    "penguins.dropna(how='any', axis=0, inplace=True)"
   ]
  },
  {
   "cell_type": "code",
   "execution_count": null,
   "metadata": {},
   "outputs": [],
   "source": [
    "penguins"
   ]
  },
  {
   "cell_type": "code",
   "execution_count": 3,
   "metadata": {},
   "outputs": [],
   "source": [
    "adelie_mask = (penguins['species'] == 'Adelie')\n",
    "adelie_mass_obs = torch.from_numpy(penguins.loc[adelie_mask, 'body_mass_g'].values)"
   ]
  },
  {
   "cell_type": "markdown",
   "metadata": {},
   "source": [
    "### Code 3.3"
   ]
  },
  {
   "cell_type": "code",
   "execution_count": null,
   "metadata": {},
   "outputs": [],
   "source": [
    "def model_prior(obs=None):\n",
    "    # priors over params.\n",
    "    sigma = pyro.sample('sigma', dist.HalfNormal(100., 2000.))\n",
    "    mu = pyro.sample('mu', dist.Normal(4000, 3000))\n",
    "    mass = pyro.sample('mass', dist.Normal(mu, sigma), obs=obs)"
   ]
  },
  {
   "cell_type": "code",
   "execution_count": null,
   "metadata": {},
   "outputs": [],
   "source": [
    "#  prior predictive --> mu and sigma\n",
    "samples = Predictive(\n",
    "    model_prior, {}, num_samples=1000, return_sites=['sigma', 'mu', 'mass'])(adelie_mass_obs)"
   ]
  },
  {
   "cell_type": "code",
   "execution_count": null,
   "metadata": {},
   "outputs": [],
   "source": [
    "az.plot_density(data=samples['mass'].numpy())"
   ]
  },
  {
   "cell_type": "code",
   "execution_count": null,
   "metadata": {},
   "outputs": [],
   "source": [
    "az.plot_density(data=samples['mu'].numpy())"
   ]
  },
  {
   "cell_type": "code",
   "execution_count": null,
   "metadata": {},
   "outputs": [],
   "source": [
    "az.plot_density(data=samples['sigma'].numpy())"
   ]
  },
  {
   "cell_type": "code",
   "execution_count": null,
   "metadata": {},
   "outputs": [],
   "source": [
    "def model(obs=None):\n",
    "    # priors over params.\n",
    "    sigma = pyro.sample('sigma', dist.HalfNormal(100., 2000.))\n",
    "    mu = pyro.sample('mu', dist.Normal(4000, 3000))\n",
    "    mass = pyro.sample('mass', dist.Normal(mu, sigma), obs=obs)\n",
    "\n",
    "    return mass"
   ]
  },
  {
   "cell_type": "code",
   "execution_count": null,
   "metadata": {},
   "outputs": [],
   "source": [
    "kernel = NUTS(model)\n",
    "mcmc = MCMC(kernel, num_samples=2000, warmup_steps=1000)\n",
    "mcmc.run(obs=adelie_mass_obs)"
   ]
  },
  {
   "cell_type": "code",
   "execution_count": null,
   "metadata": {},
   "outputs": [],
   "source": [
    "mcmc.summary()"
   ]
  },
  {
   "cell_type": "code",
   "execution_count": null,
   "metadata": {},
   "outputs": [],
   "source": [
    "samples_1 = mcmc.get_samples()"
   ]
  },
  {
   "cell_type": "code",
   "execution_count": null,
   "metadata": {},
   "outputs": [],
   "source": [
    "samples_1"
   ]
  },
  {
   "cell_type": "markdown",
   "metadata": {},
   "source": [
    "## 3.2.1 Linear Penguins"
   ]
  },
  {
   "cell_type": "code",
   "execution_count": 4,
   "metadata": {},
   "outputs": [],
   "source": [
    "adelie_flipper_length = torch.from_numpy(penguins.loc[adelie_mask, 'flipper_length_mm'].values)\n",
    "adelie_mass = torch.from_numpy(penguins.loc[adelie_mask, 'body_mass_g'].values)"
   ]
  },
  {
   "cell_type": "code",
   "execution_count": null,
   "metadata": {},
   "outputs": [],
   "source": [
    "def linear_model(flipper_length, mass=None):\n",
    "\n",
    "    sigma = pyro.sample('sigma', dist.HalfNormal(100., 2000.))\n",
    "    beta_0 = pyro.sample('beta_0', dist.Normal(0., 4000.))\n",
    "    beta_1 = pyro.sample('beta_1', dist.Normal(0., 4000.))\n",
    "    mu = pyro.deterministic('mu', beta_0 + beta_1 * flipper_length)\n",
    "\n",
    "    with pyro.plate('plate'):   \n",
    "        preds = pyro.sample('mass', dist.Normal(mu, sigma), obs=mass)  "
   ]
  },
  {
   "cell_type": "code",
   "execution_count": null,
   "metadata": {},
   "outputs": [],
   "source": [
    "pyro.render_model(\n",
    "    linear_model, \n",
    "    model_args=(adelie_flipper_length, adelie_mass),\n",
    "    render_distributions=True\n",
    "    )"
   ]
  },
  {
   "cell_type": "markdown",
   "metadata": {},
   "source": [
    "### MCMC\n",
    "\n",
    "- `mcmc` = fitted MCMC object\n",
    "- `mcmc_samples` = only the latent variables are returned via the `.get_samples()` method\n",
    "    - `mu` is not returned in the `mcmc.get_samples()` dict\n",
    "    - deterministic parts are only available via the `Predictive` function. Similarily, observed samples is only available via this function too "
   ]
  },
  {
   "cell_type": "code",
   "execution_count": null,
   "metadata": {},
   "outputs": [],
   "source": [
    "# Utility function to print latent sites' quantile information.\n",
    "def summary(samples):\n",
    "    site_stats = {}\n",
    "    for site_name, values in samples.items():\n",
    "        marginal_site = pd.DataFrame(values)\n",
    "        describe = marginal_site.describe(percentiles=[.05, 0.25, 0.5, 0.75, 0.95]).transpose()\n",
    "        site_stats[site_name] = describe[[\"mean\", \"std\", \"5%\", \"25%\", \"50%\", \"75%\", \"95%\"]]\n",
    "    \n",
    "    return site_stats"
   ]
  },
  {
   "cell_type": "code",
   "execution_count": null,
   "metadata": {},
   "outputs": [],
   "source": [
    "kernel = NUTS(linear_model, adapt_step_size=True)\n",
    "mcmc_simple = MCMC(kernel, num_samples=500, warmup_steps=300)\n",
    "mcmc_simple.run(flipper_length=adelie_flipper_length, mass=adelie_mass)"
   ]
  },
  {
   "cell_type": "code",
   "execution_count": null,
   "metadata": {},
   "outputs": [],
   "source": [
    "mcmc_simple.summary()"
   ]
  },
  {
   "cell_type": "code",
   "execution_count": null,
   "metadata": {},
   "outputs": [],
   "source": [
    "# trace plots are interesting for only only chain\n",
    "az.plot_trace(az.from_pyro(mcmc_simple))\n",
    "plt.tight_layout()"
   ]
  },
  {
   "cell_type": "markdown",
   "metadata": {},
   "source": [
    "#### Posterior Predictive Distribution\n",
    "\n",
    "Sample mass and mu from posterior. "
   ]
  },
  {
   "cell_type": "code",
   "execution_count": null,
   "metadata": {},
   "outputs": [],
   "source": [
    "# latent variables\n",
    "mcmc_samples = mcmc_simple.get_samples(num_samples=1000)\n",
    "# posterior samples \n",
    "predictive = Predictive(linear_model, mcmc_samples)\n",
    "# latent variables: \n",
    "predictive_samples = predictive(flipper_length=adelie_flipper_length, mass=None) \n",
    "\n",
    "for k, v in predictive_samples.items():\n",
    "    print(f'{k}: {tuple(v.shape)}')"
   ]
  },
  {
   "cell_type": "code",
   "execution_count": null,
   "metadata": {},
   "outputs": [],
   "source": [
    "def mcmc_fit(predictive):\n",
    "    mass = predictive['mass']\n",
    "    mass_mu = mass.mean(axis=0)\n",
    "    mass_std = mass.std(axis=0)\n",
    "\n",
    "    mass_df = pd.DataFrame({\n",
    "        'feat': adelie_flipper_length,\n",
    "        'mean': mass_mu,\n",
    "        'high': mass_mu + mass_std,\n",
    "        'low': mass_mu - mass_std}\n",
    "    )\n",
    "\n",
    "    return mass_df.sort_values(by=['feat'])"
   ]
  },
  {
   "cell_type": "code",
   "execution_count": null,
   "metadata": {},
   "outputs": [],
   "source": [
    "mass_df = mcmc_fit(predictive=predictive_samples)"
   ]
  },
  {
   "cell_type": "code",
   "execution_count": null,
   "metadata": {},
   "outputs": [],
   "source": [
    "plt.figure(figsize=(10, 6))\n",
    "plt.scatter(adelie_flipper_length.numpy(), adelie_mass.numpy(), alpha=0.5)\n",
    "plt.plot(mass_df['feat'], mass_df['mean'], color='black')\n",
    "plt.fill_between(\n",
    "    mass_df['feat'], mass_df['high'], mass_df['low'], alpha=0.2, color='grey')\n",
    "plt.xlabel('adelie_flipper_length')\n",
    "plt.ylabel('mass')\n",
    "plt.title('$\\mu =  \\\\beta_0 + \\\\beta_1X_1$')\n",
    "plt.show()"
   ]
  },
  {
   "cell_type": "markdown",
   "metadata": {},
   "source": [
    "### Stochastic Variational Inference (SVI)\n",
    "\n",
    "Using SVI for a simple linear regression like this is probably overkill, but lets do it anyways.\n",
    "\n",
    "For the surrogate, we use the predefined `AutoNormal`\n",
    "\n",
    "**NOT WORKING: I believe it has to do with the autoguide. Solution could be to implement the guide by hand**"
   ]
  },
  {
   "cell_type": "code",
   "execution_count": null,
   "metadata": {},
   "outputs": [],
   "source": [
    "def linear_model(flipper_length, mass=None):\n",
    "\n",
    "    sigma = pyro.sample('sigma', dist.HalfNormal(100., 2000.))\n",
    "    beta_0 = pyro.sample('beta_0', dist.Normal(0., 4000.))\n",
    "    beta_1 = pyro.sample('beta_1', dist.Normal(0., 4000.))\n",
    "    mu = pyro.deterministic('mu', beta_0 + beta_1 * flipper_length)\n",
    "\n",
    "    with pyro.plate('plate'):   \n",
    "        preds = pyro.sample('mass', dist.Normal(mu, sigma), obs=mass)  "
   ]
  },
  {
   "cell_type": "code",
   "execution_count": null,
   "metadata": {},
   "outputs": [],
   "source": [
    "def guide(flipper_length, mass=None):\n",
    "\n",
    "    sigma_loc = pyro.param(\n",
    "        'sigma_loc', lambda: torch.tensor(1.), constraint=constraints.positive)\n",
    "\n",
    "    beta_0_loc = pyro.param(\n",
    "        'beta_0_loc', lambda: torch.tensor(0.))\n",
    "    beta_0_scale = pyro.param(\n",
    "        'beta_0_scale', lambda: torch.tensor(1.), constraint=constraints.positive)\n",
    "\n",
    "    beta_1_loc = pyro.param('beta_1_loc', lambda: torch.randn(1))\n",
    "    beta_1_scale = pyro.param(\n",
    "        'beta_1_scale', lambda: torch.ones(1), constraint=constraints.positive)\n",
    "    \n",
    "\n",
    "    sigma = pyro.sample('sigma', dist.HalfNormal(sigma_loc, torch.tensor(0.05)))\n",
    "    beta_0 = pyro.sample('beta_0', dist.Normal(beta_0_loc, beta_0_scale))\n",
    "    beta_1 = pyro.sample('beta_1', dist.Normal(beta_1_loc, beta_1_scale))\n",
    "\n",
    "    return {'beta_0': beta_0, 'beta_1': beta_1, 'sigma': sigma}"
   ]
  },
  {
   "cell_type": "code",
   "execution_count": null,
   "metadata": {},
   "outputs": [],
   "source": [
    "pyro.render_model(\n",
    "    guide, \n",
    "    model_args=(adelie_flipper_length, adelie_mass_obs), \n",
    "    render_params=True\n",
    "    )"
   ]
  },
  {
   "cell_type": "code",
   "execution_count": null,
   "metadata": {},
   "outputs": [],
   "source": [
    "custom_guide = guide(linear_model)\n",
    "custom_guide"
   ]
  },
  {
   "cell_type": "code",
   "execution_count": null,
   "metadata": {},
   "outputs": [],
   "source": [
    "auto_guide = pyro.infer.autoguide.AutoNormal(linear_model)\n",
    "auto_guide"
   ]
  },
  {
   "cell_type": "code",
   "execution_count": null,
   "metadata": {},
   "outputs": [],
   "source": [
    "pyro.clear_param_store()\n",
    "\n",
    "# These should be reset each training loop\n",
    "#auto_guide = pyro.infer.autoguide.AutoNormal(linear_model)\n",
    "adam = pyro.optim.Adam({'lr': 0.005})\n",
    "elbo = pyro.infer.Trace_ELBO()\n",
    "svi = SVI(linear_model, custom_guide, adam, elbo)\n",
    "\n",
    "losses = []\n",
    "for step in range(2001): \n",
    "    loss = svi.step(adelie_flipper_length, adelie_mass)\n",
    "    losses.append(loss)\n",
    "    if step % 100 == 0:\n",
    "        print(\"Elbo loss: {}\".format(loss))\n",
    "\n",
    "plt.figure(figsize=(10, 5))\n",
    "plt.plot(losses)\n",
    "plt.xlabel(\"SVI step\")\n",
    "plt.ylabel(\"ELBO loss\");"
   ]
  },
  {
   "cell_type": "markdown",
   "metadata": {},
   "source": [
    "pyro.get_param_store() is comprised of learned parameters that will be used in the `Predictive` stage. Instead of providing samples, the `guide` parameter is used to construct the posterior predictive distribution"
   ]
  },
  {
   "cell_type": "code",
   "execution_count": null,
   "metadata": {},
   "outputs": [],
   "source": [
    "auto_guide.requires_grad_(False)\n",
    "\n",
    "for name, value in pyro.get_param_store().items():\n",
    "    print(name, pyro.param(name))"
   ]
  },
  {
   "cell_type": "code",
   "execution_count": null,
   "metadata": {},
   "outputs": [],
   "source": [
    "auto_guide.quantiles([0.25, 0.5, 0.75])"
   ]
  },
  {
   "cell_type": "code",
   "execution_count": null,
   "metadata": {},
   "outputs": [],
   "source": [
    "def summary(samples):\n",
    "    site_stats = {}\n",
    "    for k, v in samples.items():\n",
    "        site_stats[k] = {\n",
    "            \"mean\": torch.mean(v, 0),\n",
    "            \"std\": torch.std(v, 0),\n",
    "            \"5%\": v.kthvalue(int(len(v) * 0.05), dim=0)[0],\n",
    "            \"95%\": v.kthvalue(int(len(v) * 0.95), dim=0)[0],\n",
    "        }\n",
    "        \n",
    "    return site_stats"
   ]
  },
  {
   "cell_type": "code",
   "execution_count": null,
   "metadata": {},
   "outputs": [],
   "source": [
    "predictive = Predictive(linear_model, guide=auto_guide, num_samples=1000)\n",
    "svi_samples = predictive(adelie_flipper_length, mass=None)\n",
    "svi_mass = svi_samples['mass']"
   ]
  },
  {
   "cell_type": "code",
   "execution_count": null,
   "metadata": {},
   "outputs": [],
   "source": [
    "mcmc_fit(predictive=svi_samples)"
   ]
  },
  {
   "cell_type": "code",
   "execution_count": null,
   "metadata": {},
   "outputs": [],
   "source": [
    "plt.figure(figsize=(10, 6))\n",
    "plt.scatter(adelie_flipper_length.numpy(), np.exp(adelie_mass.numpy()), alpha=0.5)\n",
    "#plt.plot(adelie_flipper_length.numpy(), svi_mass.mean(axis=0))\n",
    "plt.title('$\\mu =  \\\\beta_0 + \\\\beta_1X_1$')\n",
    "plt.show()"
   ]
  },
  {
   "cell_type": "markdown",
   "metadata": {},
   "source": [
    "## 3.3 Multiple Linear Regression"
   ]
  },
  {
   "cell_type": "code",
   "execution_count": null,
   "metadata": {},
   "outputs": [],
   "source": [
    "sex_obs = torch.from_numpy(penguins.loc[adelie_mask, 'sex'].replace({'male': 0, 'female': 1}).values)\n",
    "\n",
    "plt.figure(figsize=(10, 6))\n",
    "sns.scatterplot(\n",
    "    x=adelie_flipper_length, y=adelie_mass_obs, hue=sex_obs, alpha=0.5)\n",
    "plt.xlabel('adelie_flipper_length')\n",
    "plt.ylabel('mass')\n",
    "plt.show()"
   ]
  },
  {
   "cell_type": "code",
   "execution_count": null,
   "metadata": {},
   "outputs": [],
   "source": [
    "def linear_model(flipper_length, sex, mass=None):\n",
    "\n",
    "    sigma = pyro.sample('sigma', dist.HalfNormal(100., 2000.))\n",
    "    beta_0 = pyro.sample('beta_0', dist.Normal(0., 3000.))\n",
    "    beta_1 = pyro.sample('beta_1', dist.Normal(0., 3000.))\n",
    "    beta_2 = pyro.sample('beta_2', dist.Normal(0., 3000.))\n",
    "    mu = pyro.deterministic('mu', beta_0 + beta_1 * flipper_length + beta_2 * sex)\n",
    "\n",
    "    with pyro.plate('plate'):   \n",
    "        preds = pyro.sample('mass', dist.Normal(mu, sigma), obs=mass)  "
   ]
  },
  {
   "cell_type": "code",
   "execution_count": null,
   "metadata": {},
   "outputs": [],
   "source": [
    "pyro.render_model(\n",
    "    linear_model, \n",
    "    model_args=(adelie_flipper_length, sex_obs, adelie_mass),\n",
    "    render_distributions=True\n",
    "    )"
   ]
  },
  {
   "cell_type": "code",
   "execution_count": null,
   "metadata": {},
   "outputs": [],
   "source": [
    "kernel = NUTS(linear_model, adapt_step_size=True)\n",
    "mcmc = MCMC(kernel, num_samples=500, warmup_steps=300, num_chains=1)\n",
    "mcmc.run(flipper_length=adelie_flipper_length, sex=sex_obs, mass=adelie_mass)"
   ]
  },
  {
   "cell_type": "code",
   "execution_count": null,
   "metadata": {},
   "outputs": [],
   "source": [
    "mcmc.summary()"
   ]
  },
  {
   "cell_type": "code",
   "execution_count": null,
   "metadata": {},
   "outputs": [],
   "source": [
    "az.plot_trace(az.from_pyro(mcmc))\n",
    "plt.tight_layout()"
   ]
  },
  {
   "cell_type": "code",
   "execution_count": null,
   "metadata": {},
   "outputs": [],
   "source": [
    "# latent variables\n",
    "mcmc_samples = mcmc.get_samples(num_samples=1000)\n",
    "# posterior samples \n",
    "predictive = Predictive(linear_model, mcmc_samples)\n",
    "# posterior predictive\n",
    "predictive_samples = predictive(flipper_length=adelie_flipper_length, sex=sex_obs, mass=None) \n",
    "\n",
    "for k, v in predictive_samples.items():\n",
    "    print(f'{k}: {tuple(v.shape)}')"
   ]
  },
  {
   "cell_type": "code",
   "execution_count": null,
   "metadata": {},
   "outputs": [],
   "source": [
    "mass_mu = predictive_samples['mass'].numpy().mean(axis=0)\n",
    "mass_std = predictive_samples['mass'].numpy().std(axis=0)\n",
    "\n",
    "predictions = pd.DataFrame({\n",
    "    'sex': sex_obs,\n",
    "    'flipper': adelie_flipper_length,\n",
    "    'mass_mu': mass_mu,\n",
    "    'mass_std': mass_std,\n",
    "    'high': mass_mu + mass_std,\n",
    "    'low': mass_mu - mass_std\n",
    "})\n",
    "\n",
    "predictions = predictions.sort_values(by=['flipper'])"
   ]
  },
  {
   "cell_type": "code",
   "execution_count": null,
   "metadata": {},
   "outputs": [],
   "source": [
    "male = predictions[predictions['sex'] == 0]\n",
    "female = predictions[predictions['sex'] == 1]"
   ]
  },
  {
   "cell_type": "code",
   "execution_count": null,
   "metadata": {},
   "outputs": [],
   "source": [
    "plt.figure(figsize=(10, 6))\n",
    "sns.scatterplot(\n",
    "    x=adelie_flipper_length, y=adelie_mass_obs, hue=sex_obs, alpha=0.5)\n",
    "plt.plot(male['flipper'], male['mass_mu'])\n",
    "plt.plot(female['flipper'], female['mass_mu'])\n",
    "plt.fill_between(\n",
    "    male['flipper'], male['high'], male['low'], alpha=0.2, color='grey')\n",
    "plt.fill_between(\n",
    "    female['flipper'], female['high'], female['low'], alpha=0.2, color='grey')\n",
    "plt.xlabel('adelie_flipper_length')\n",
    "plt.ylabel('mass')\n",
    "plt.title('Predictions $\\pm 1 \\sigma$ ')\n",
    "plt.show()"
   ]
  },
  {
   "cell_type": "code",
   "execution_count": null,
   "metadata": {},
   "outputs": [],
   "source": [
    "mcmc_multiple_az = az.from_pyro(mcmc)\n",
    "mcmc_simple_az = az.from_pyro(mcmc_simple)\n",
    "\n",
    "az.plot_forest([mcmc_simple_az, mcmc_multiple_az], var_names=['sigma'])\n",
    "# manually specify to avoid confusion\n",
    "plt.legend(['flipper_x_sex $\\sigma$', 'flipper_only $\\sigma$'])\n",
    "plt.show()"
   ]
  },
  {
   "cell_type": "markdown",
   "metadata": {},
   "source": [
    "### Counterfactuals"
   ]
  },
  {
   "cell_type": "markdown",
   "metadata": {},
   "source": []
  },
  {
   "cell_type": "markdown",
   "metadata": {},
   "source": [
    "## Generalized Linear Models"
   ]
  },
  {
   "cell_type": "markdown",
   "metadata": {},
   "source": [
    "### Logistic Regression"
   ]
  },
  {
   "cell_type": "code",
   "execution_count": 7,
   "metadata": {},
   "outputs": [],
   "source": [
    "species_filter = penguins['species'].isin(['Adelie', 'Chinstrap'])\n",
    "bill_length_obs = torch.from_numpy(penguins.loc[species_filter, 'bill_length_mm'].values)\n",
    "species = pd.Categorical(penguins.loc[species_filter, 'species'])\n",
    "species_codes = torch.from_numpy(species.codes).to(torch.float64)"
   ]
  },
  {
   "cell_type": "code",
   "execution_count": 78,
   "metadata": {},
   "outputs": [],
   "source": [
    "def logistic_model(bill_length, species=None):\n",
    "\n",
    "    beta_0 = pyro.sample('beta_0', dist.Normal(0., 10.))\n",
    "    beta_1 = pyro.sample('beta_1', dist.Normal(0., 10.))\n",
    "    mu = beta_0 + torch.mul(beta_1, bill_length) ## support broadcasting to common shape\n",
    "    theta = pyro.deterministic('theta', torch.sigmoid(mu))\n",
    "    db = pyro.deterministic('db', -beta_0 / beta_1)\n",
    "\n",
    "    with pyro.plate('plate'):\n",
    "        y1 = pyro.sample('y1', dist.Bernoulli(theta), obs=species)"
   ]
  },
  {
   "cell_type": "code",
   "execution_count": 79,
   "metadata": {},
   "outputs": [
    {
     "data": {
      "image/svg+xml": "<?xml version=\"1.0\" encoding=\"UTF-8\" standalone=\"no\"?>\n<!DOCTYPE svg PUBLIC \"-//W3C//DTD SVG 1.1//EN\"\n \"http://www.w3.org/Graphics/SVG/1.1/DTD/svg11.dtd\">\n<!-- Generated by graphviz version 2.40.1 (20161225.0304)\n -->\n<!-- Title: %3 Pages: 1 -->\n<svg width=\"444pt\" height=\"202pt\"\n viewBox=\"0.00 0.00 443.60 202.00\" xmlns=\"http://www.w3.org/2000/svg\" xmlns:xlink=\"http://www.w3.org/1999/xlink\">\n<g id=\"graph0\" class=\"graph\" transform=\"scale(1 1) rotate(0) translate(4 198)\">\n<title>%3</title>\n<polygon fill=\"#ffffff\" stroke=\"transparent\" points=\"-4,4 -4,-198 439.5969,-198 439.5969,4 -4,4\"/>\n<g id=\"clust1\" class=\"cluster\">\n<title>cluster_plate</title>\n<polygon fill=\"none\" stroke=\"#000000\" points=\"44.0969,-8 44.0969,-83 114.0969,-83 114.0969,-8 44.0969,-8\"/>\n<text text-anchor=\"middle\" x=\"92.0969\" y=\"-15.8\" font-family=\"Times,serif\" font-size=\"14.00\" fill=\"#000000\">plate</text>\n</g>\n<!-- beta_0 -->\n<g id=\"node1\" class=\"node\">\n<title>beta_0</title>\n<ellipse fill=\"#ffffff\" stroke=\"#000000\" cx=\"35.0969\" cy=\"-152.5\" rx=\"35.194\" ry=\"18\"/>\n<text text-anchor=\"middle\" x=\"35.0969\" y=\"-148.8\" font-family=\"Times,serif\" font-size=\"14.00\" fill=\"#000000\">beta_0</text>\n</g>\n<!-- y1 -->\n<g id=\"node5\" class=\"node\">\n<title>y1</title>\n<ellipse fill=\"#c0c0c0\" stroke=\"#000000\" cx=\"79.0969\" cy=\"-57\" rx=\"27\" ry=\"18\"/>\n<text text-anchor=\"middle\" x=\"79.0969\" y=\"-53.3\" font-family=\"Times,serif\" font-size=\"14.00\" fill=\"#000000\">y1</text>\n</g>\n<!-- beta_0&#45;&gt;y1 -->\n<g id=\"edge1\" class=\"edge\">\n<title>beta_0&#45;&gt;y1</title>\n<path fill=\"none\" stroke=\"#000000\" d=\"M43.3729,-134.5372C49.9699,-120.2189 59.3079,-99.9511 66.7824,-83.7281\"/>\n<polygon fill=\"#000000\" stroke=\"#000000\" points=\"70.1485,-84.786 71.1543,-74.239 63.7909,-81.8568 70.1485,-84.786\"/>\n</g>\n<!-- beta_1 -->\n<g id=\"node2\" class=\"node\">\n<title>beta_1</title>\n<ellipse fill=\"#ffffff\" stroke=\"#000000\" cx=\"123.0969\" cy=\"-152.5\" rx=\"35.194\" ry=\"18\"/>\n<text text-anchor=\"middle\" x=\"123.0969\" y=\"-148.8\" font-family=\"Times,serif\" font-size=\"14.00\" fill=\"#000000\">beta_1</text>\n</g>\n<!-- beta_1&#45;&gt;y1 -->\n<g id=\"edge2\" class=\"edge\">\n<title>beta_1&#45;&gt;y1</title>\n<path fill=\"none\" stroke=\"#000000\" d=\"M114.8208,-134.5372C108.2239,-120.2189 98.8859,-99.9511 91.4114,-83.7281\"/>\n<polygon fill=\"#000000\" stroke=\"#000000\" points=\"94.4029,-81.8568 87.0395,-74.239 88.0452,-84.786 94.4029,-81.8568\"/>\n</g>\n<!-- theta -->\n<g id=\"node3\" class=\"node\">\n<title>theta</title>\n<ellipse fill=\"#c0c0c0\" stroke=\"#000000\" cx=\"205.0969\" cy=\"-152.5\" rx=\"28.6953\" ry=\"18\"/>\n<text text-anchor=\"middle\" x=\"205.0969\" y=\"-148.8\" font-family=\"Times,serif\" font-size=\"14.00\" fill=\"#000000\">theta</text>\n</g>\n<!-- db -->\n<g id=\"node4\" class=\"node\">\n<title>db</title>\n<ellipse fill=\"#c0c0c0\" stroke=\"#000000\" cx=\"279.0969\" cy=\"-152.5\" rx=\"27\" ry=\"18\"/>\n<text text-anchor=\"middle\" x=\"279.0969\" y=\"-148.8\" font-family=\"Times,serif\" font-size=\"14.00\" fill=\"#000000\">db</text>\n</g>\n<!-- distribution_description_node -->\n<g id=\"node6\" class=\"node\">\n<title>distribution_description_node</title>\n<text text-anchor=\"start\" x=\"332.5969\" y=\"-178.8\" font-family=\"Times,serif\" font-size=\"14.00\" fill=\"#000000\">beta_0 ~ Normal</text>\n<text text-anchor=\"start\" x=\"332.5969\" y=\"-163.8\" font-family=\"Times,serif\" font-size=\"14.00\" fill=\"#000000\">beta_1 ~ Normal</text>\n<text text-anchor=\"start\" x=\"332.5969\" y=\"-148.8\" font-family=\"Times,serif\" font-size=\"14.00\" fill=\"#000000\">theta ~ Delta</text>\n<text text-anchor=\"start\" x=\"332.5969\" y=\"-133.8\" font-family=\"Times,serif\" font-size=\"14.00\" fill=\"#000000\">db ~ Delta</text>\n<text text-anchor=\"start\" x=\"332.5969\" y=\"-118.8\" font-family=\"Times,serif\" font-size=\"14.00\" fill=\"#000000\">y1 ~ Bernoulli</text>\n</g>\n</g>\n</svg>\n",
      "text/plain": [
       "<graphviz.graphs.Digraph at 0x7fb3a14efd90>"
      ]
     },
     "execution_count": 79,
     "metadata": {},
     "output_type": "execute_result"
    }
   ],
   "source": [
    "# we don't observe theta or db\n",
    "pyro.render_model(\n",
    "    logistic_model, \n",
    "    model_args=(bill_length_obs, species_codes),\n",
    "    render_distributions=True)"
   ]
  },
  {
   "cell_type": "code",
   "execution_count": 80,
   "metadata": {},
   "outputs": [
    {
     "name": "stderr",
     "output_type": "stream",
     "text": [
      "Sample: 100%|██████████| 800/800 [00:15, 51.64it/s, step size=1.79e-01, acc. prob=0.937] \n"
     ]
    }
   ],
   "source": [
    "kernel = NUTS(logistic_model, adapt_step_size=True)\n",
    "mcmc_logistic = MCMC(kernel, num_samples=500, warmup_steps=300)\n",
    "mcmc_logistic.run(bill_length=bill_length_obs, species=species_codes)"
   ]
  },
  {
   "cell_type": "code",
   "execution_count": 16,
   "metadata": {},
   "outputs": [
    {
     "name": "stdout",
     "output_type": "stream",
     "text": [
      "\n",
      "                mean       std    median      5.0%     95.0%     n_eff     r_hat\n",
      "    beta_0    -33.86      3.88    -34.08    -39.15    -26.50    100.12      1.00\n",
      "    beta_1      0.77      0.09      0.77      0.60      0.89     99.96      1.00\n",
      "\n",
      "Number of divergences: 0\n"
     ]
    }
   ],
   "source": [
    "mcmc_logistic.summary()"
   ]
  },
  {
   "cell_type": "code",
   "execution_count": 17,
   "metadata": {},
   "outputs": [
    {
     "data": {
      "image/png": "[encoded data removed]",
      "text/plain": [
       "<Figure size 864x288 with 4 Axes>"
      ]
     },
     "metadata": {},
     "output_type": "display_data"
    }
   ],
   "source": [
    "az.plot_trace(az.from_pyro(mcmc_logistic))\n",
    "plt.tight_layout()"
   ]
  },
  {
   "cell_type": "code",
   "execution_count": 18,
   "metadata": {},
   "outputs": [
    {
     "name": "stdout",
     "output_type": "stream",
     "text": [
      "y1: (1000, 214)\n",
      "theta: (1000, 1, 214)\n",
      "db: (1000, 1)\n"
     ]
    }
   ],
   "source": [
    "# latent variables\n",
    "mcmc_samples = mcmc_logistic.get_samples(num_samples=1000)\n",
    "# posterior samples \n",
    "predictive = Predictive(logistic_model, mcmc_samples)\n",
    "# posterior predictive\n",
    "predictive_samples = predictive(bill_length_obs, None) \n",
    "\n",
    "for k, v in predictive_samples.items():\n",
    "    print(f'{k}: {tuple(v.shape)}')"
   ]
  },
  {
   "cell_type": "code",
   "execution_count": 19,
   "metadata": {},
   "outputs": [],
   "source": [
    "prob_mu = predictive_samples['theta'].numpy().mean(axis=0).flatten()\n",
    "prob_std = predictive_samples['theta'].numpy().std(axis=0).flatten()\n",
    "db_mu = predictive_samples['db'].numpy().mean()\n",
    "db_std = predictive_samples['db'].numpy().std()\n",
    "\n",
    "predictions = pd.DataFrame({\n",
    "    'bill_length': bill_length_obs,\n",
    "    'prob_mu': prob_mu,\n",
    "    'prob_std': prob_std,\n",
    "    'high': prob_mu + prob_std,\n",
    "    'low': prob_mu - prob_std\n",
    "})\n",
    "\n",
    "predictions = predictions.sort_values(by=['bill_length'])"
   ]
  },
  {
   "cell_type": "code",
   "execution_count": 35,
   "metadata": {},
   "outputs": [
    {
     "data": {
      "image/png": "[encoded data removed]",
      "text/plain": [
       "<Figure size 720x432 with 1 Axes>"
      ]
     },
     "metadata": {},
     "output_type": "display_data"
    }
   ],
   "source": [
    "plt.figure(figsize=(10, 6))\n",
    "\n",
    "for i, (label, marker) in enumerate(zip(species.categories, (\".\", \"s\"))):\n",
    "    _filter = (species.codes == i) ## size\n",
    "    x = bill_length_obs[_filter] ## x_obs\n",
    "    y = np.random.normal(i, 0.02, size=_filter.sum()) ## small amount of noise (jitter)\n",
    "    plt.scatter(bill_length_obs[_filter], y, marker=marker, label=label, alpha=.8)\n",
    "\n",
    "plt.plot(predictions['bill_length'], predictions['prob_mu'], color='black')\n",
    "plt.fill_between(\n",
    "    predictions['bill_length'], predictions['high'], predictions['low'],\n",
    "    alpha=0.25, color='grey')\n",
    "plt.axvline(\n",
    "    x=predictive_samples['db'].numpy().mean(), linestyle='--', color='black')\n",
    "plt.xlabel('bill length')\n",
    "plt.ylabel('Probability')\n",
    "plt.title('Logistic Model')\n",
    "plt.show()"
   ]
  },
  {
   "cell_type": "code",
   "execution_count": 38,
   "metadata": {},
   "outputs": [],
   "source": [
    "logistic_az = az.from_pyro(posterior=mcmc_logistic)"
   ]
  },
  {
   "cell_type": "markdown",
   "metadata": {},
   "source": [
    "#### Code 3.23\n",
    "\n",
    "Use body mass as a covariate"
   ]
  },
  {
   "cell_type": "markdown",
   "metadata": {},
   "source": [
    "#### Code 3.24\n",
    "\n",
    "Using body mass **and** flipper length as covariates\n",
    "\n",
    "When creating a multidimensional distribution in pyro, there is the added functionality of `.to_event(1)`. This method implies that \"these dimensions should be treated as a single event\".\n",
    "- see discussion [here](https://forum.pyro.ai/t/understanding-when-to-use-to-event-in-vae-tutorial/2380) "
   ]
  },
  {
   "cell_type": "code",
   "execution_count": 392,
   "metadata": {},
   "outputs": [
    {
     "data": {
      "text/plain": [
       "Independent(Normal(loc: torch.Size([2]), scale: torch.Size([2])), 1)"
      ]
     },
     "execution_count": 392,
     "metadata": {},
     "output_type": "execute_result"
    }
   ],
   "source": [
    "dist.Normal(0., 20.).expand([2]).to_event(1)"
   ]
  },
  {
   "cell_type": "code",
   "execution_count": 412,
   "metadata": {},
   "outputs": [],
   "source": [
    "X = penguins.loc[species_filter, ['bill_length_mm', 'body_mass_g']]\n",
    "#X.insert(0, 'intercept', value=1)\n",
    "X = torch.from_numpy(X.values)\n",
    "species_codes = species_codes.reshape(-1, 1)"
   ]
  },
  {
   "cell_type": "code",
   "execution_count": 409,
   "metadata": {},
   "outputs": [],
   "source": [
    "def multiple_logistic_model(data_matrix, species=None):\n",
    "\n",
    "    N, K = data_matrix.size()\n",
    "\n",
    "    beta = pyro.sample(\"b\", dist.Normal(0, 10))\n",
    "    w = pyro.sample('coef', dist.Normal(0., 20.).expand([K]))\n",
    "    #w = pyro.sample('coef', dist.Normal(torch.zeros(K), torch.ones(K)))\n",
    "\n",
    "    mu = beta + torch.mul(data_matrix, w)\n",
    "    theta = pyro.deterministic('theta', torch.sigmoid(mu))\n",
    "    #db = pyro.deterministic('db', ((-w[0] / w[2]) - (w[1] / w[2])) * data_matrix[:, 1])\n",
    "\n",
    "    with pyro.plate('plate'):\n",
    "        y1 = pyro.sample('obs', dist.Bernoulli(theta), obs=species)"
   ]
  },
  {
   "cell_type": "code",
   "execution_count": 410,
   "metadata": {},
   "outputs": [
    {
     "data": {
      "image/svg+xml": "<?xml version=\"1.0\" encoding=\"UTF-8\" standalone=\"no\"?>\n<!DOCTYPE svg PUBLIC \"-//W3C//DTD SVG 1.1//EN\"\n \"http://www.w3.org/Graphics/SVG/1.1/DTD/svg11.dtd\">\n<!-- Generated by graphviz version 2.40.1 (20161225.0304)\n -->\n<!-- Title: %3 Pages: 1 -->\n<svg width=\"210pt\" height=\"155pt\"\n viewBox=\"0.00 0.00 209.60 155.00\" xmlns=\"http://www.w3.org/2000/svg\" xmlns:xlink=\"http://www.w3.org/1999/xlink\">\n<g id=\"graph0\" class=\"graph\" transform=\"scale(1 1) rotate(0) translate(4 151)\">\n<title>%3</title>\n<polygon fill=\"#ffffff\" stroke=\"transparent\" points=\"-4,4 -4,-151 205.5975,-151 205.5975,4 -4,4\"/>\n<g id=\"clust1\" class=\"cluster\">\n<title>cluster_plate</title>\n<polygon fill=\"none\" stroke=\"#000000\" points=\"28,-8 28,-83 98,-83 98,-8 28,-8\"/>\n<text text-anchor=\"middle\" x=\"76\" y=\"-15.8\" font-family=\"Times,serif\" font-size=\"14.00\" fill=\"#000000\">plate</text>\n</g>\n<!-- b -->\n<g id=\"node1\" class=\"node\">\n<title>b</title>\n<ellipse fill=\"#ffffff\" stroke=\"#000000\" cx=\"27\" cy=\"-129\" rx=\"27\" ry=\"18\"/>\n<text text-anchor=\"middle\" x=\"27\" y=\"-125.3\" font-family=\"Times,serif\" font-size=\"14.00\" fill=\"#000000\">b</text>\n</g>\n<!-- obs -->\n<g id=\"node4\" class=\"node\">\n<title>obs</title>\n<ellipse fill=\"#c0c0c0\" stroke=\"#000000\" cx=\"63\" cy=\"-57\" rx=\"27\" ry=\"18\"/>\n<text text-anchor=\"middle\" x=\"63\" y=\"-53.3\" font-family=\"Times,serif\" font-size=\"14.00\" fill=\"#000000\">obs</text>\n</g>\n<!-- b&#45;&gt;obs -->\n<g id=\"edge1\" class=\"edge\">\n<title>b&#45;&gt;obs</title>\n<path fill=\"none\" stroke=\"#000000\" d=\"M35.7146,-111.5708C39.9597,-103.0807 45.1536,-92.6929 49.8663,-83.2674\"/>\n<polygon fill=\"#000000\" stroke=\"#000000\" points=\"53.024,-84.7782 54.3657,-74.2687 46.763,-81.6477 53.024,-84.7782\"/>\n</g>\n<!-- coef -->\n<g id=\"node2\" class=\"node\">\n<title>coef</title>\n<ellipse fill=\"#ffffff\" stroke=\"#000000\" cx=\"99\" cy=\"-129\" rx=\"27\" ry=\"18\"/>\n<text text-anchor=\"middle\" x=\"99\" y=\"-125.3\" font-family=\"Times,serif\" font-size=\"14.00\" fill=\"#000000\">coef</text>\n</g>\n<!-- coef&#45;&gt;obs -->\n<g id=\"edge2\" class=\"edge\">\n<title>coef&#45;&gt;obs</title>\n<path fill=\"none\" stroke=\"#000000\" d=\"M90.2854,-111.5708C86.0403,-103.0807 80.8464,-92.6929 76.1337,-83.2674\"/>\n<polygon fill=\"#000000\" stroke=\"#000000\" points=\"79.237,-81.6477 71.6343,-74.2687 72.976,-84.7782 79.237,-81.6477\"/>\n</g>\n<!-- theta -->\n<g id=\"node3\" class=\"node\">\n<title>theta</title>\n<ellipse fill=\"#c0c0c0\" stroke=\"#000000\" cx=\"173\" cy=\"-129\" rx=\"28.6953\" ry=\"18\"/>\n<text text-anchor=\"middle\" x=\"173\" y=\"-125.3\" font-family=\"Times,serif\" font-size=\"14.00\" fill=\"#000000\">theta</text>\n</g>\n</g>\n</svg>\n",
      "text/plain": [
       "<graphviz.graphs.Digraph at 0x7fb38c695130>"
      ]
     },
     "execution_count": 410,
     "metadata": {},
     "output_type": "execute_result"
    }
   ],
   "source": [
    "pyro.render_model(\n",
    "    multiple_logistic_model, model_args=(X, species_codes)\n",
    "    )"
   ]
  },
  {
   "cell_type": "code",
   "execution_count": 411,
   "metadata": {},
   "outputs": [
    {
     "name": "stderr",
     "output_type": "stream",
     "text": [
      "Sample: 100%|██████████| 1700/1700 [01:59, 14.26it/s, step size=6.14e-02, acc. prob=0.897]\n"
     ]
    }
   ],
   "source": [
    "kernel = NUTS(model=multiple_logistic_model, adapt_step_size=True)\n",
    "mcmc_mult_logistic = MCMC(kernel, num_samples=1200, warmup_steps=500)\n",
    "mcmc_mult_logistic.run(X, species_codes)"
   ]
  },
  {
   "cell_type": "code",
   "execution_count": 413,
   "metadata": {},
   "outputs": [
    {
     "name": "stdout",
     "output_type": "stream",
     "text": [
      "\n",
      "                mean       std    median      5.0%     95.0%     n_eff     r_hat\n",
      "         b    -34.76      4.35    -34.55    -41.63    -27.85    141.82      1.00\n",
      "   coef[0]      0.79      0.10      0.78      0.63      0.95    140.80      1.00\n",
      "   coef[1]    -15.17     11.09    -13.01    -31.11     -0.10    111.52      1.00\n",
      "\n",
      "Number of divergences: 617\n"
     ]
    }
   ],
   "source": [
    "mcmc_mult_logistic.summary()"
   ]
  },
  {
   "cell_type": "code",
   "execution_count": 414,
   "metadata": {},
   "outputs": [
    {
     "name": "stdout",
     "output_type": "stream",
     "text": [
      "obs: (1000, 214, 2)\n",
      "theta: (1000, 1, 214, 2)\n"
     ]
    }
   ],
   "source": [
    "mcmc_mult_samples = mcmc_mult_logistic.get_samples(num_samples=1000)\n",
    "post_predictive = Predictive(multiple_logistic_model, mcmc_mult_samples)\n",
    "predictive_samples = post_predictive(X, None)\n",
    "\n",
    "for k, v in predictive_samples.items():\n",
    "    print(f'{k}: {tuple(v.shape)}')"
   ]
  },
  {
   "cell_type": "code",
   "execution_count": 415,
   "metadata": {},
   "outputs": [
    {
     "name": "stderr",
     "output_type": "stream",
     "text": [
      "/Users/wastechs/opt/anaconda3/envs/probs/lib/python3.8/site-packages/arviz/data/io_pyro.py:157: UserWarning: Could not get vectorized trace, log_likelihood group will be omitted. Check your model vectorization or set log_likelihood=False\n",
      "  warnings.warn(\n",
      "posterior predictive shape not compatible with number of chains and draws.This can mean that some draws or even whole chains are not represented.\n",
      "posterior predictive shape not compatible with number of chains and draws.This can mean that some draws or even whole chains are not represented.\n"
     ]
    }
   ],
   "source": [
    "inf_data = az.from_pyro(\n",
    "    mcmc_mult_logistic,\n",
    "    posterior_predictive=mcmc_mult_samples\n",
    ")"
   ]
  },
  {
   "cell_type": "code",
   "execution_count": 417,
   "metadata": {},
   "outputs": [
    {
     "data": {
      "image/png": "[encoded data removed]",
      "text/plain": [
       "<Figure size 864x432 with 6 Axes>"
      ]
     },
     "metadata": {},
     "output_type": "display_data"
    }
   ],
   "source": [
    "az.plot_trace(inf_data, compact=False, var_names=['b', 'coef'])\n",
    "plt.tight_layout()\n",
    "plt.show()"
   ]
  },
  {
   "cell_type": "code",
   "execution_count": 418,
   "metadata": {},
   "outputs": [
    {
     "name": "stderr",
     "output_type": "stream",
     "text": [
      "arviz - WARNING - Shape validation failed: input_shape: (1, 1200), minimum_shape: (chains=2, draws=4)\n"
     ]
    },
    {
     "data": {
      "text/html": [
       "<div>\n",
       "<style scoped>\n",
       "    .dataframe tbody tr th:only-of-type {\n",
       "        vertical-align: middle;\n",
       "    }\n",
       "\n",
       "    .dataframe tbody tr th {\n",
       "        vertical-align: top;\n",
       "    }\n",
       "\n",
       "    .dataframe thead th {\n",
       "        text-align: right;\n",
       "    }\n",
       "</style>\n",
       "<table border=\"1\" class=\"dataframe\">\n",
       "  <thead>\n",
       "    <tr style=\"text-align: right;\">\n",
       "      <th></th>\n",
       "      <th>mean</th>\n",
       "      <th>sd</th>\n",
       "      <th>hdi_3%</th>\n",
       "      <th>hdi_97%</th>\n",
       "      <th>mcse_mean</th>\n",
       "      <th>mcse_sd</th>\n",
       "      <th>ess_bulk</th>\n",
       "      <th>ess_tail</th>\n",
       "      <th>r_hat</th>\n",
       "    </tr>\n",
       "  </thead>\n",
       "  <tbody>\n",
       "    <tr>\n",
       "      <th>b</th>\n",
       "      <td>-34.760</td>\n",
       "      <td>4.353</td>\n",
       "      <td>-43.085</td>\n",
       "      <td>-26.459</td>\n",
       "      <td>0.364</td>\n",
       "      <td>0.264</td>\n",
       "      <td>153.0</td>\n",
       "      <td>118.0</td>\n",
       "      <td>NaN</td>\n",
       "    </tr>\n",
       "    <tr>\n",
       "      <th>coef[0]</th>\n",
       "      <td>0.786</td>\n",
       "      <td>0.100</td>\n",
       "      <td>0.588</td>\n",
       "      <td>0.966</td>\n",
       "      <td>0.008</td>\n",
       "      <td>0.006</td>\n",
       "      <td>152.0</td>\n",
       "      <td>120.0</td>\n",
       "      <td>NaN</td>\n",
       "    </tr>\n",
       "    <tr>\n",
       "      <th>coef[1]</th>\n",
       "      <td>-15.167</td>\n",
       "      <td>11.087</td>\n",
       "      <td>-35.278</td>\n",
       "      <td>-0.075</td>\n",
       "      <td>1.045</td>\n",
       "      <td>0.741</td>\n",
       "      <td>110.0</td>\n",
       "      <td>170.0</td>\n",
       "      <td>NaN</td>\n",
       "    </tr>\n",
       "  </tbody>\n",
       "</table>\n",
       "</div>"
      ],
      "text/plain": [
       "           mean      sd  hdi_3%  hdi_97%  mcse_mean  mcse_sd  ess_bulk  \\\n",
       "b       -34.760   4.353 -43.085  -26.459      0.364    0.264     153.0   \n",
       "coef[0]   0.786   0.100   0.588    0.966      0.008    0.006     152.0   \n",
       "coef[1] -15.167  11.087 -35.278   -0.075      1.045    0.741     110.0   \n",
       "\n",
       "         ess_tail  r_hat  \n",
       "b           118.0    NaN  \n",
       "coef[0]     120.0    NaN  \n",
       "coef[1]     170.0    NaN  "
      ]
     },
     "execution_count": 418,
     "metadata": {},
     "output_type": "execute_result"
    }
   ],
   "source": [
    "az.summary(inf_data, var_names=['b', 'coef'])"
   ]
  },
  {
   "cell_type": "code",
   "execution_count": 421,
   "metadata": {},
   "outputs": [],
   "source": [
    "prob_mu = predictive_samples['theta'].mean(axis=0)[0][:, 0]\n",
    "prob_std = predictive_samples['theta'].std(axis=0)[0][:, 0]\n",
    "#db_mu = predictive_samples['db'].numpy().mean()\n",
    "#db_std = predictive_samples['db'].numpy().std()\n",
    "\n",
    "predictions = pd.DataFrame({\n",
    "    'bill_length': X[:, 0].numpy(),\n",
    "    'mass': X[:, 1].numpy(),\n",
    "    'prob_mu': prob_mu,\n",
    "    'prob_std': prob_std,\n",
    "    'high': prob_mu + prob_std,\n",
    "    'low': prob_mu - prob_std\n",
    "})\n",
    "\n",
    "predictions = predictions.sort_values(by=['bill_length', 'mass'])"
   ]
  },
  {
   "cell_type": "code",
   "execution_count": 422,
   "metadata": {},
   "outputs": [
    {
     "data": {
      "text/html": [
       "<div>\n",
       "<style scoped>\n",
       "    .dataframe tbody tr th:only-of-type {\n",
       "        vertical-align: middle;\n",
       "    }\n",
       "\n",
       "    .dataframe tbody tr th {\n",
       "        vertical-align: top;\n",
       "    }\n",
       "\n",
       "    .dataframe thead th {\n",
       "        text-align: right;\n",
       "    }\n",
       "</style>\n",
       "<table border=\"1\" class=\"dataframe\">\n",
       "  <thead>\n",
       "    <tr style=\"text-align: right;\">\n",
       "      <th></th>\n",
       "      <th>bill_length</th>\n",
       "      <th>mass</th>\n",
       "      <th>prob_mu</th>\n",
       "      <th>prob_std</th>\n",
       "      <th>high</th>\n",
       "      <th>low</th>\n",
       "    </tr>\n",
       "  </thead>\n",
       "  <tbody>\n",
       "    <tr>\n",
       "      <th>136</th>\n",
       "      <td>32.1</td>\n",
       "      <td>3050.0</td>\n",
       "      <td>0.000130</td>\n",
       "      <td>0.000175</td>\n",
       "      <td>0.000306</td>\n",
       "      <td>-0.000045</td>\n",
       "    </tr>\n",
       "    <tr>\n",
       "      <th>92</th>\n",
       "      <td>33.1</td>\n",
       "      <td>2900.0</td>\n",
       "      <td>0.000262</td>\n",
       "      <td>0.000311</td>\n",
       "      <td>0.000573</td>\n",
       "      <td>-0.000050</td>\n",
       "    </tr>\n",
       "    <tr>\n",
       "      <th>64</th>\n",
       "      <td>33.5</td>\n",
       "      <td>3600.0</td>\n",
       "      <td>0.000346</td>\n",
       "      <td>0.000392</td>\n",
       "      <td>0.000739</td>\n",
       "      <td>-0.000046</td>\n",
       "    </tr>\n",
       "    <tr>\n",
       "      <th>86</th>\n",
       "      <td>34.0</td>\n",
       "      <td>3400.0</td>\n",
       "      <td>0.000493</td>\n",
       "      <td>0.000524</td>\n",
       "      <td>0.001017</td>\n",
       "      <td>-0.000031</td>\n",
       "    </tr>\n",
       "    <tr>\n",
       "      <th>13</th>\n",
       "      <td>34.4</td>\n",
       "      <td>3325.0</td>\n",
       "      <td>0.000654</td>\n",
       "      <td>0.000661</td>\n",
       "      <td>0.001315</td>\n",
       "      <td>-0.000006</td>\n",
       "    </tr>\n",
       "    <tr>\n",
       "      <th>...</th>\n",
       "      <td>...</td>\n",
       "      <td>...</td>\n",
       "      <td>...</td>\n",
       "      <td>...</td>\n",
       "      <td>...</td>\n",
       "      <td>...</td>\n",
       "    </tr>\n",
       "    <tr>\n",
       "      <th>175</th>\n",
       "      <td>52.8</td>\n",
       "      <td>4550.0</td>\n",
       "      <td>0.998175</td>\n",
       "      <td>0.001934</td>\n",
       "      <td>1.000109</td>\n",
       "      <td>0.996241</td>\n",
       "    </tr>\n",
       "    <tr>\n",
       "      <th>185</th>\n",
       "      <td>53.5</td>\n",
       "      <td>4500.0</td>\n",
       "      <td>0.998884</td>\n",
       "      <td>0.001293</td>\n",
       "      <td>1.000178</td>\n",
       "      <td>0.997591</td>\n",
       "    </tr>\n",
       "    <tr>\n",
       "      <th>177</th>\n",
       "      <td>54.2</td>\n",
       "      <td>4300.0</td>\n",
       "      <td>0.999316</td>\n",
       "      <td>0.000866</td>\n",
       "      <td>1.000182</td>\n",
       "      <td>0.998450</td>\n",
       "    </tr>\n",
       "    <tr>\n",
       "      <th>209</th>\n",
       "      <td>55.8</td>\n",
       "      <td>4000.0</td>\n",
       "      <td>0.999773</td>\n",
       "      <td>0.000348</td>\n",
       "      <td>1.000122</td>\n",
       "      <td>0.999425</td>\n",
       "    </tr>\n",
       "    <tr>\n",
       "      <th>163</th>\n",
       "      <td>58.0</td>\n",
       "      <td>3700.0</td>\n",
       "      <td>0.999949</td>\n",
       "      <td>0.000101</td>\n",
       "      <td>1.000050</td>\n",
       "      <td>0.999848</td>\n",
       "    </tr>\n",
       "  </tbody>\n",
       "</table>\n",
       "<p>214 rows × 6 columns</p>\n",
       "</div>"
      ],
      "text/plain": [
       "     bill_length    mass   prob_mu  prob_std      high       low\n",
       "136         32.1  3050.0  0.000130  0.000175  0.000306 -0.000045\n",
       "92          33.1  2900.0  0.000262  0.000311  0.000573 -0.000050\n",
       "64          33.5  3600.0  0.000346  0.000392  0.000739 -0.000046\n",
       "86          34.0  3400.0  0.000493  0.000524  0.001017 -0.000031\n",
       "13          34.4  3325.0  0.000654  0.000661  0.001315 -0.000006\n",
       "..           ...     ...       ...       ...       ...       ...\n",
       "175         52.8  4550.0  0.998175  0.001934  1.000109  0.996241\n",
       "185         53.5  4500.0  0.998884  0.001293  1.000178  0.997591\n",
       "177         54.2  4300.0  0.999316  0.000866  1.000182  0.998450\n",
       "209         55.8  4000.0  0.999773  0.000348  1.000122  0.999425\n",
       "163         58.0  3700.0  0.999949  0.000101  1.000050  0.999848\n",
       "\n",
       "[214 rows x 6 columns]"
      ]
     },
     "execution_count": 422,
     "metadata": {},
     "output_type": "execute_result"
    }
   ],
   "source": [
    "predictions"
   ]
  },
  {
   "cell_type": "code",
   "execution_count": 328,
   "metadata": {},
   "outputs": [
    {
     "data": {
      "text/plain": [
       "tensor([[-0.0729, -0.0732, -0.0738,  ..., -0.0800, -0.0808, -0.0804],\n",
       "        [-0.1558, -0.1564, -0.1575,  ..., -0.1707, -0.1724, -0.1715],\n",
       "        [-0.0372, -0.0374, -0.0376,  ..., -0.0404, -0.0408, -0.0406],\n",
       "        ...,\n",
       "        [-0.0652, -0.0655, -0.0661,  ..., -0.0738, -0.0747, -0.0742],\n",
       "        [-0.0341, -0.0342, -0.0344,  ..., -0.0367, -0.0370, -0.0368],\n",
       "        [-0.1524, -0.1531, -0.1545,  ..., -0.1709, -0.1730, -0.1720]],\n",
       "       dtype=torch.float64)"
      ]
     },
     "execution_count": 328,
     "metadata": {},
     "output_type": "execute_result"
    }
   ],
   "source": [
    "predictive_samples[\"db\"].reshape(-1, 214)"
   ]
  },
  {
   "cell_type": "code",
   "execution_count": 329,
   "metadata": {},
   "outputs": [
    {
     "name": "stderr",
     "output_type": "stream",
     "text": [
      "/Users/wastechs/opt/anaconda3/envs/probs/lib/python3.8/site-packages/arviz/plots/hdiplot.py:157: FutureWarning: hdi currently interprets 2d data as (draw, shape) but this will change in a future release to (chain, draw) for coherence with other functions\n",
      "  hdi_data = hdi(y, hdi_prob=hdi_prob, circular=circular, multimodal=False, **hdi_kwargs)\n"
     ]
    },
    {
     "data": {
      "text/plain": [
       "<matplotlib.axes._subplots.AxesSubplot at 0x7fb3b2eed1c0>"
      ]
     },
     "execution_count": 329,
     "metadata": {},
     "output_type": "execute_result"
    },
    {
     "data": {
      "image/png": "[encoded data removed]",
      "text/plain": [
       "<Figure size 432x288 with 1 Axes>"
      ]
     },
     "metadata": {},
     "output_type": "display_data"
    }
   ],
   "source": [
    "az.plot_hdi(X[:,1], predictive_samples[\"db\"].reshape(-1, 214), color='C4')"
   ]
  },
  {
   "cell_type": "code",
   "execution_count": null,
   "metadata": {},
   "outputs": [],
   "source": []
  }
 ],
 "metadata": {
  "kernelspec": {
   "display_name": "Python 3.8.13 ('probs')",
   "language": "python",
   "name": "python3"
  },
  "language_info": {
   "codemirror_mode": {
    "name": "ipython",
    "version": 3
   },
   "file_extension": ".py",
   "mimetype": "text/x-python",
   "name": "python",
   "nbconvert_exporter": "python",
   "pygments_lexer": "ipython3",
   "version": "3.8.13"
  },
  "orig_nbformat": 4,
  "vscode": {
   "interpreter": {
    "hash": "2c33006829a890ff24cd6d87e8aab3c58d0f3e9ab7bcb1c9fae139f2303d7a53"
   }
  }
 },
 "nbformat": 4,
 "nbformat_minor": 2
}
